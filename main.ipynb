{
 "cells": [
  {
   "cell_type": "code",
   "execution_count": 173,
   "metadata": {
    "pycharm": {
     "name": "#%%\n"
    }
   },
   "outputs": [],
   "source": [
    "# Core Python Data Analysis\n",
    "from numpy.core.defchararray import index\n",
    "import pandas as pd\n",
    "import numpy as np\n",
    "import matplotlib.pyplot as plt\n",
    "\n",
    "# Plotting\n",
    "from plotnine import (\n",
    "    ggplot, aes,\n",
    "    geom_col, geom_line, geom_smooth,\n",
    "    facet_wrap,\n",
    "    scale_y_continuous, scale_x_datetime,\n",
    "    labs,\n",
    "    theme, theme_minimal, theme_matplotlib,\n",
    "    expand_limits,\n",
    "    element_text\n",
    ")\n",
    "\n",
    "from mizani.breaks import date_breaks\n",
    "from mizani.formatters import date_format, currency_format\n",
    "\n",
    "# Misc\n",
    "from os import mkdir, getcwd\n",
    "\n",
    "from rich import pretty\n",
    "pretty.install()"
   ]
  },
  {
   "cell_type": "code",
   "execution_count": 174,
   "metadata": {
    "pycharm": {
     "name": "#%%\n"
    }
   },
   "outputs": [],
   "source": [
    "# import xlrd\n",
    "\n",
    "# help(pd.read_excel)\n",
    "# files_SPB_new = xlrd.open_workbook(r'bikes.xlsx')\n",
    "bikes_df = pd.read_excel(\"bikes.xlsx\")\n",
    "bikeshops_df = pd.read_excel('bikeshops.xlsx')"
   ]
  },
  {
   "cell_type": "code",
   "execution_count": 175,
   "metadata": {
    "pycharm": {
     "name": "#%%\n"
    }
   },
   "outputs": [
    {
     "data": {
      "text/html": "<div>\n<style scoped>\n    .dataframe tbody tr th:only-of-type {\n        vertical-align: middle;\n    }\n\n    .dataframe tbody tr th {\n        vertical-align: top;\n    }\n\n    .dataframe thead th {\n        text-align: right;\n    }\n</style>\n<table border=\"1\" class=\"dataframe\">\n  <thead>\n    <tr style=\"text-align: right;\">\n      <th></th>\n      <th>bike.id</th>\n      <th>model</th>\n      <th>description</th>\n      <th>price</th>\n    </tr>\n  </thead>\n  <tbody>\n    <tr>\n      <th>0</th>\n      <td>1</td>\n      <td>Supersix Evo Black Inc.</td>\n      <td>Road - Elite Road - Carbon</td>\n      <td>12790</td>\n    </tr>\n    <tr>\n      <th>1</th>\n      <td>2</td>\n      <td>Supersix Evo Hi-Mod Team</td>\n      <td>Road - Elite Road - Carbon</td>\n      <td>10660</td>\n    </tr>\n    <tr>\n      <th>2</th>\n      <td>3</td>\n      <td>Supersix Evo Hi-Mod Dura Ace 1</td>\n      <td>Road - Elite Road - Carbon</td>\n      <td>7990</td>\n    </tr>\n    <tr>\n      <th>3</th>\n      <td>4</td>\n      <td>Supersix Evo Hi-Mod Dura Ace 2</td>\n      <td>Road - Elite Road - Carbon</td>\n      <td>5330</td>\n    </tr>\n    <tr>\n      <th>4</th>\n      <td>5</td>\n      <td>Supersix Evo Hi-Mod Utegra</td>\n      <td>Road - Elite Road - Carbon</td>\n      <td>4260</td>\n    </tr>\n    <tr>\n      <th>...</th>\n      <td>...</td>\n      <td>...</td>\n      <td>...</td>\n      <td>...</td>\n    </tr>\n    <tr>\n      <th>92</th>\n      <td>93</td>\n      <td>Trail 5</td>\n      <td>Mountain - Sport - Aluminum</td>\n      <td>815</td>\n    </tr>\n    <tr>\n      <th>93</th>\n      <td>94</td>\n      <td>Catalyst 1</td>\n      <td>Mountain - Sport - Aluminum</td>\n      <td>705</td>\n    </tr>\n    <tr>\n      <th>94</th>\n      <td>95</td>\n      <td>Catalyst 2</td>\n      <td>Mountain - Sport - Aluminum</td>\n      <td>585</td>\n    </tr>\n    <tr>\n      <th>95</th>\n      <td>96</td>\n      <td>Catalyst 3</td>\n      <td>Mountain - Sport - Aluminum</td>\n      <td>480</td>\n    </tr>\n    <tr>\n      <th>96</th>\n      <td>97</td>\n      <td>Catalyst 4</td>\n      <td>Mountain - Sport - Aluminum</td>\n      <td>415</td>\n    </tr>\n  </tbody>\n</table>\n<p>97 rows × 4 columns</p>\n</div>"
     },
     "execution_count": 175,
     "metadata": {},
     "output_type": "execute_result"
    }
   ],
   "source": [
    "bikes_df"
   ]
  },
  {
   "cell_type": "code",
   "execution_count": 176,
   "metadata": {
    "pycharm": {
     "name": "#%%\n"
    }
   },
   "outputs": [
    {
     "data": {
      "text/html": "<div>\n<style scoped>\n    .dataframe tbody tr th:only-of-type {\n        vertical-align: middle;\n    }\n\n    .dataframe tbody tr th {\n        vertical-align: top;\n    }\n\n    .dataframe thead th {\n        text-align: right;\n    }\n</style>\n<table border=\"1\" class=\"dataframe\">\n  <thead>\n    <tr style=\"text-align: right;\">\n      <th></th>\n      <th>bikeshop.id</th>\n      <th>bikeshop.name</th>\n      <th>location</th>\n    </tr>\n  </thead>\n  <tbody>\n    <tr>\n      <th>0</th>\n      <td>1</td>\n      <td>Pittsburgh Mountain Machines</td>\n      <td>Pittsburgh, PA</td>\n    </tr>\n    <tr>\n      <th>1</th>\n      <td>2</td>\n      <td>Ithaca Mountain Climbers</td>\n      <td>Ithaca, NY</td>\n    </tr>\n    <tr>\n      <th>2</th>\n      <td>3</td>\n      <td>Columbus Race Equipment</td>\n      <td>Columbus, OH</td>\n    </tr>\n    <tr>\n      <th>3</th>\n      <td>4</td>\n      <td>Detroit Cycles</td>\n      <td>Detroit, MI</td>\n    </tr>\n    <tr>\n      <th>4</th>\n      <td>5</td>\n      <td>Cincinnati Speed</td>\n      <td>Cincinnati, OH</td>\n    </tr>\n    <tr>\n      <th>5</th>\n      <td>6</td>\n      <td>Louisville Race Equipment</td>\n      <td>Louisville, KY</td>\n    </tr>\n    <tr>\n      <th>6</th>\n      <td>7</td>\n      <td>Nashville Cruisers</td>\n      <td>Nashville, TN</td>\n    </tr>\n    <tr>\n      <th>7</th>\n      <td>8</td>\n      <td>Denver Bike Shop</td>\n      <td>Denver, CO</td>\n    </tr>\n    <tr>\n      <th>8</th>\n      <td>9</td>\n      <td>Minneapolis Bike Shop</td>\n      <td>Minneapolis, MN</td>\n    </tr>\n    <tr>\n      <th>9</th>\n      <td>10</td>\n      <td>Kansas City 29ers</td>\n      <td>Kansas City, KS</td>\n    </tr>\n    <tr>\n      <th>10</th>\n      <td>11</td>\n      <td>New York Cycles</td>\n      <td>New York, NY</td>\n    </tr>\n    <tr>\n      <th>11</th>\n      <td>12</td>\n      <td>Dallas Cycles</td>\n      <td>Dallas, TX</td>\n    </tr>\n    <tr>\n      <th>12</th>\n      <td>13</td>\n      <td>Oklahoma City Race Equipment</td>\n      <td>Oklahoma City, OK</td>\n    </tr>\n    <tr>\n      <th>13</th>\n      <td>14</td>\n      <td>Albuquerque Cycles</td>\n      <td>Albuquerque, NM</td>\n    </tr>\n    <tr>\n      <th>14</th>\n      <td>15</td>\n      <td>Austin Cruisers</td>\n      <td>Austin, TX</td>\n    </tr>\n    <tr>\n      <th>15</th>\n      <td>16</td>\n      <td>Phoenix Bi-peds</td>\n      <td>Phoenix, AZ</td>\n    </tr>\n    <tr>\n      <th>16</th>\n      <td>17</td>\n      <td>Las Vegas Cycles</td>\n      <td>Las Vegas, NV</td>\n    </tr>\n    <tr>\n      <th>17</th>\n      <td>18</td>\n      <td>Los Angeles Cycles</td>\n      <td>Los Angeles, CA</td>\n    </tr>\n    <tr>\n      <th>18</th>\n      <td>19</td>\n      <td>San Francisco Cruisers</td>\n      <td>San Francisco, CA</td>\n    </tr>\n    <tr>\n      <th>19</th>\n      <td>20</td>\n      <td>Portland Bi-peds</td>\n      <td>Portland, OR</td>\n    </tr>\n    <tr>\n      <th>20</th>\n      <td>21</td>\n      <td>Seattle Race Equipment</td>\n      <td>Seattle, WA</td>\n    </tr>\n    <tr>\n      <th>21</th>\n      <td>22</td>\n      <td>Ann Arbor Speed</td>\n      <td>Ann Arbor, MI</td>\n    </tr>\n    <tr>\n      <th>22</th>\n      <td>23</td>\n      <td>Philadelphia Bike Shop</td>\n      <td>Philadelphia, PA</td>\n    </tr>\n    <tr>\n      <th>23</th>\n      <td>24</td>\n      <td>Providence Bi-peds</td>\n      <td>Providence, RI</td>\n    </tr>\n    <tr>\n      <th>24</th>\n      <td>25</td>\n      <td>New Orleans Velocipedes</td>\n      <td>New Orleans, LA</td>\n    </tr>\n    <tr>\n      <th>25</th>\n      <td>26</td>\n      <td>Miami Race Equipment</td>\n      <td>Miami, FL</td>\n    </tr>\n    <tr>\n      <th>26</th>\n      <td>27</td>\n      <td>San Antonio Bike Shop</td>\n      <td>San Antonio, TX</td>\n    </tr>\n    <tr>\n      <th>27</th>\n      <td>28</td>\n      <td>Wichita Speed</td>\n      <td>Wichita, KS</td>\n    </tr>\n    <tr>\n      <th>28</th>\n      <td>29</td>\n      <td>Indianapolis Velocipedes</td>\n      <td>Indianapolis, IN</td>\n    </tr>\n    <tr>\n      <th>29</th>\n      <td>30</td>\n      <td>Tampa 29ers</td>\n      <td>Tampa, FL</td>\n    </tr>\n  </tbody>\n</table>\n</div>"
     },
     "execution_count": 176,
     "metadata": {},
     "output_type": "execute_result"
    }
   ],
   "source": [
    "bikeshops_df"
   ]
  },
  {
   "cell_type": "code",
   "execution_count": 177,
   "metadata": {
    "pycharm": {
     "name": "#%%\n"
    }
   },
   "outputs": [],
   "source": [
    "orderlines_df = pd.read_excel(\n",
    "    io = \"orderlines.xlsx\",\n",
    "    converters= {'order.date': str}\n",
    ")"
   ]
  },
  {
   "cell_type": "code",
   "execution_count": 178,
   "metadata": {
    "pycharm": {
     "name": "#%%\n"
    },
    "scrolled": true
   },
   "outputs": [
    {
     "data": {
      "text/html": "<div>\n<style scoped>\n    .dataframe tbody tr th:only-of-type {\n        vertical-align: middle;\n    }\n\n    .dataframe tbody tr th {\n        vertical-align: top;\n    }\n\n    .dataframe thead th {\n        text-align: right;\n    }\n</style>\n<table border=\"1\" class=\"dataframe\">\n  <thead>\n    <tr style=\"text-align: right;\">\n      <th></th>\n      <th>Unnamed: 0</th>\n      <th>order.id</th>\n      <th>order.line</th>\n      <th>order.date</th>\n      <th>customer.id</th>\n      <th>product.id</th>\n      <th>quantity</th>\n    </tr>\n  </thead>\n  <tbody>\n    <tr>\n      <th>0</th>\n      <td>1</td>\n      <td>1</td>\n      <td>1</td>\n      <td>2011-01-07 00:00:00</td>\n      <td>2</td>\n      <td>48</td>\n      <td>1</td>\n    </tr>\n    <tr>\n      <th>1</th>\n      <td>2</td>\n      <td>1</td>\n      <td>2</td>\n      <td>2011-01-07 00:00:00</td>\n      <td>2</td>\n      <td>52</td>\n      <td>1</td>\n    </tr>\n    <tr>\n      <th>2</th>\n      <td>3</td>\n      <td>2</td>\n      <td>1</td>\n      <td>2011-01-10 00:00:00</td>\n      <td>10</td>\n      <td>76</td>\n      <td>1</td>\n    </tr>\n    <tr>\n      <th>3</th>\n      <td>4</td>\n      <td>2</td>\n      <td>2</td>\n      <td>2011-01-10 00:00:00</td>\n      <td>10</td>\n      <td>52</td>\n      <td>1</td>\n    </tr>\n    <tr>\n      <th>4</th>\n      <td>5</td>\n      <td>3</td>\n      <td>1</td>\n      <td>2011-01-10 00:00:00</td>\n      <td>6</td>\n      <td>2</td>\n      <td>1</td>\n    </tr>\n    <tr>\n      <th>...</th>\n      <td>...</td>\n      <td>...</td>\n      <td>...</td>\n      <td>...</td>\n      <td>...</td>\n      <td>...</td>\n      <td>...</td>\n    </tr>\n    <tr>\n      <th>15639</th>\n      <td>15640</td>\n      <td>2000</td>\n      <td>4</td>\n      <td>2015-12-25 00:00:00</td>\n      <td>15</td>\n      <td>14</td>\n      <td>1</td>\n    </tr>\n    <tr>\n      <th>15640</th>\n      <td>15641</td>\n      <td>2000</td>\n      <td>5</td>\n      <td>2015-12-25 00:00:00</td>\n      <td>15</td>\n      <td>90</td>\n      <td>1</td>\n    </tr>\n    <tr>\n      <th>15641</th>\n      <td>15642</td>\n      <td>2000</td>\n      <td>6</td>\n      <td>2015-12-25 00:00:00</td>\n      <td>15</td>\n      <td>17</td>\n      <td>1</td>\n    </tr>\n    <tr>\n      <th>15642</th>\n      <td>15643</td>\n      <td>2000</td>\n      <td>7</td>\n      <td>2015-12-25 00:00:00</td>\n      <td>15</td>\n      <td>70</td>\n      <td>1</td>\n    </tr>\n    <tr>\n      <th>15643</th>\n      <td>15644</td>\n      <td>2000</td>\n      <td>8</td>\n      <td>2015-12-25 00:00:00</td>\n      <td>15</td>\n      <td>61</td>\n      <td>1</td>\n    </tr>\n  </tbody>\n</table>\n<p>15644 rows × 7 columns</p>\n</div>"
     },
     "execution_count": 178,
     "metadata": {},
     "output_type": "execute_result"
    }
   ],
   "source": [
    "orderlines_df"
   ]
  },
  {
   "cell_type": "code",
   "execution_count": 179,
   "metadata": {
    "pycharm": {
     "name": "#%%\n"
    }
   },
   "outputs": [
    {
     "data": {
      "text/html": "<div>\n<style scoped>\n    .dataframe tbody tr th:only-of-type {\n        vertical-align: middle;\n    }\n\n    .dataframe tbody tr th {\n        vertical-align: top;\n    }\n\n    .dataframe thead th {\n        text-align: right;\n    }\n</style>\n<table border=\"1\" class=\"dataframe\">\n  <thead>\n    <tr style=\"text-align: right;\">\n      <th></th>\n      <th>Unnamed: 0</th>\n      <th>order.id</th>\n      <th>order.line</th>\n      <th>order.date</th>\n      <th>customer.id</th>\n      <th>product.id</th>\n      <th>quantity</th>\n    </tr>\n  </thead>\n  <tbody>\n    <tr>\n      <th>0</th>\n      <td>1</td>\n      <td>1</td>\n      <td>1</td>\n      <td>2011-01-07 00:00:00</td>\n      <td>2</td>\n      <td>48</td>\n      <td>1</td>\n    </tr>\n    <tr>\n      <th>1</th>\n      <td>2</td>\n      <td>1</td>\n      <td>2</td>\n      <td>2011-01-07 00:00:00</td>\n      <td>2</td>\n      <td>52</td>\n      <td>1</td>\n    </tr>\n    <tr>\n      <th>2</th>\n      <td>3</td>\n      <td>2</td>\n      <td>1</td>\n      <td>2011-01-10 00:00:00</td>\n      <td>10</td>\n      <td>76</td>\n      <td>1</td>\n    </tr>\n    <tr>\n      <th>3</th>\n      <td>4</td>\n      <td>2</td>\n      <td>2</td>\n      <td>2011-01-10 00:00:00</td>\n      <td>10</td>\n      <td>52</td>\n      <td>1</td>\n    </tr>\n    <tr>\n      <th>4</th>\n      <td>5</td>\n      <td>3</td>\n      <td>1</td>\n      <td>2011-01-10 00:00:00</td>\n      <td>6</td>\n      <td>2</td>\n      <td>1</td>\n    </tr>\n  </tbody>\n</table>\n</div>"
     },
     "execution_count": 179,
     "metadata": {},
     "output_type": "execute_result"
    }
   ],
   "source": [
    "orderlines_df.head()"
   ]
  },
  {
   "cell_type": "code",
   "execution_count": 180,
   "metadata": {
    "pycharm": {
     "name": "#%%\n"
    }
   },
   "outputs": [
    {
     "data": {
      "text/html": "<div>\n<style scoped>\n    .dataframe tbody tr th:only-of-type {\n        vertical-align: middle;\n    }\n\n    .dataframe tbody tr th {\n        vertical-align: top;\n    }\n\n    .dataframe thead th {\n        text-align: right;\n    }\n</style>\n<table border=\"1\" class=\"dataframe\">\n  <thead>\n    <tr style=\"text-align: right;\">\n      <th></th>\n      <th>bike.id</th>\n      <th>model</th>\n      <th>description</th>\n      <th>price</th>\n    </tr>\n  </thead>\n  <tbody>\n    <tr>\n      <th>0</th>\n      <td>1</td>\n      <td>Supersix Evo Black Inc.</td>\n      <td>Road - Elite Road - Carbon</td>\n      <td>12790</td>\n    </tr>\n    <tr>\n      <th>1</th>\n      <td>2</td>\n      <td>Supersix Evo Hi-Mod Team</td>\n      <td>Road - Elite Road - Carbon</td>\n      <td>10660</td>\n    </tr>\n    <tr>\n      <th>2</th>\n      <td>3</td>\n      <td>Supersix Evo Hi-Mod Dura Ace 1</td>\n      <td>Road - Elite Road - Carbon</td>\n      <td>7990</td>\n    </tr>\n    <tr>\n      <th>3</th>\n      <td>4</td>\n      <td>Supersix Evo Hi-Mod Dura Ace 2</td>\n      <td>Road - Elite Road - Carbon</td>\n      <td>5330</td>\n    </tr>\n    <tr>\n      <th>4</th>\n      <td>5</td>\n      <td>Supersix Evo Hi-Mod Utegra</td>\n      <td>Road - Elite Road - Carbon</td>\n      <td>4260</td>\n    </tr>\n    <tr>\n      <th>...</th>\n      <td>...</td>\n      <td>...</td>\n      <td>...</td>\n      <td>...</td>\n    </tr>\n    <tr>\n      <th>92</th>\n      <td>93</td>\n      <td>Trail 5</td>\n      <td>Mountain - Sport - Aluminum</td>\n      <td>815</td>\n    </tr>\n    <tr>\n      <th>93</th>\n      <td>94</td>\n      <td>Catalyst 1</td>\n      <td>Mountain - Sport - Aluminum</td>\n      <td>705</td>\n    </tr>\n    <tr>\n      <th>94</th>\n      <td>95</td>\n      <td>Catalyst 2</td>\n      <td>Mountain - Sport - Aluminum</td>\n      <td>585</td>\n    </tr>\n    <tr>\n      <th>95</th>\n      <td>96</td>\n      <td>Catalyst 3</td>\n      <td>Mountain - Sport - Aluminum</td>\n      <td>480</td>\n    </tr>\n    <tr>\n      <th>96</th>\n      <td>97</td>\n      <td>Catalyst 4</td>\n      <td>Mountain - Sport - Aluminum</td>\n      <td>415</td>\n    </tr>\n  </tbody>\n</table>\n<p>97 rows × 4 columns</p>\n</div>"
     },
     "execution_count": 180,
     "metadata": {},
     "output_type": "execute_result"
    }
   ],
   "source": [
    "bikes_df"
   ]
  },
  {
   "cell_type": "raw",
   "metadata": {
    "pycharm": {
     "name": "#%% raw\n"
    }
   },
   "source": []
  },
  {
   "cell_type": "code",
   "execution_count": 181,
   "metadata": {
    "pycharm": {
     "name": "#%%\n"
    }
   },
   "outputs": [
    {
     "data": {
      "text/html": "<div>\n<style scoped>\n    .dataframe tbody tr th:only-of-type {\n        vertical-align: middle;\n    }\n\n    .dataframe tbody tr th {\n        vertical-align: top;\n    }\n\n    .dataframe thead th {\n        text-align: right;\n    }\n</style>\n<table border=\"1\" class=\"dataframe\">\n  <thead>\n    <tr style=\"text-align: right;\">\n      <th></th>\n      <th>Unnamed: 0</th>\n      <th>order.id</th>\n      <th>order.line</th>\n      <th>order.date</th>\n      <th>customer.id</th>\n      <th>product.id</th>\n      <th>quantity</th>\n    </tr>\n  </thead>\n  <tbody>\n    <tr>\n      <th>0</th>\n      <td>1</td>\n      <td>1</td>\n      <td>1</td>\n      <td>2011-01-07 00:00:00</td>\n      <td>2</td>\n      <td>48</td>\n      <td>1</td>\n    </tr>\n    <tr>\n      <th>1</th>\n      <td>2</td>\n      <td>1</td>\n      <td>2</td>\n      <td>2011-01-07 00:00:00</td>\n      <td>2</td>\n      <td>52</td>\n      <td>1</td>\n    </tr>\n    <tr>\n      <th>2</th>\n      <td>3</td>\n      <td>2</td>\n      <td>1</td>\n      <td>2011-01-10 00:00:00</td>\n      <td>10</td>\n      <td>76</td>\n      <td>1</td>\n    </tr>\n    <tr>\n      <th>3</th>\n      <td>4</td>\n      <td>2</td>\n      <td>2</td>\n      <td>2011-01-10 00:00:00</td>\n      <td>10</td>\n      <td>52</td>\n      <td>1</td>\n    </tr>\n    <tr>\n      <th>4</th>\n      <td>5</td>\n      <td>3</td>\n      <td>1</td>\n      <td>2011-01-10 00:00:00</td>\n      <td>6</td>\n      <td>2</td>\n      <td>1</td>\n    </tr>\n  </tbody>\n</table>\n</div>"
     },
     "execution_count": 181,
     "metadata": {},
     "output_type": "execute_result"
    }
   ],
   "source": [
    "orderlines_df.head()"
   ]
  },
  {
   "cell_type": "code",
   "execution_count": 182,
   "metadata": {
    "pycharm": {
     "name": "#%%\n"
    }
   },
   "outputs": [
    {
     "data": {
      "text/html": "<div>\n<style scoped>\n    .dataframe tbody tr th:only-of-type {\n        vertical-align: middle;\n    }\n\n    .dataframe tbody tr th {\n        vertical-align: top;\n    }\n\n    .dataframe thead th {\n        text-align: right;\n    }\n</style>\n<table border=\"1\" class=\"dataframe\">\n  <thead>\n    <tr style=\"text-align: right;\">\n      <th></th>\n      <th>bikeshop.id</th>\n      <th>bikeshop.name</th>\n      <th>location</th>\n    </tr>\n  </thead>\n  <tbody>\n    <tr>\n      <th>0</th>\n      <td>1</td>\n      <td>Pittsburgh Mountain Machines</td>\n      <td>Pittsburgh, PA</td>\n    </tr>\n    <tr>\n      <th>1</th>\n      <td>2</td>\n      <td>Ithaca Mountain Climbers</td>\n      <td>Ithaca, NY</td>\n    </tr>\n    <tr>\n      <th>2</th>\n      <td>3</td>\n      <td>Columbus Race Equipment</td>\n      <td>Columbus, OH</td>\n    </tr>\n    <tr>\n      <th>3</th>\n      <td>4</td>\n      <td>Detroit Cycles</td>\n      <td>Detroit, MI</td>\n    </tr>\n    <tr>\n      <th>4</th>\n      <td>5</td>\n      <td>Cincinnati Speed</td>\n      <td>Cincinnati, OH</td>\n    </tr>\n    <tr>\n      <th>5</th>\n      <td>6</td>\n      <td>Louisville Race Equipment</td>\n      <td>Louisville, KY</td>\n    </tr>\n    <tr>\n      <th>6</th>\n      <td>7</td>\n      <td>Nashville Cruisers</td>\n      <td>Nashville, TN</td>\n    </tr>\n    <tr>\n      <th>7</th>\n      <td>8</td>\n      <td>Denver Bike Shop</td>\n      <td>Denver, CO</td>\n    </tr>\n    <tr>\n      <th>8</th>\n      <td>9</td>\n      <td>Minneapolis Bike Shop</td>\n      <td>Minneapolis, MN</td>\n    </tr>\n    <tr>\n      <th>9</th>\n      <td>10</td>\n      <td>Kansas City 29ers</td>\n      <td>Kansas City, KS</td>\n    </tr>\n    <tr>\n      <th>10</th>\n      <td>11</td>\n      <td>New York Cycles</td>\n      <td>New York, NY</td>\n    </tr>\n    <tr>\n      <th>11</th>\n      <td>12</td>\n      <td>Dallas Cycles</td>\n      <td>Dallas, TX</td>\n    </tr>\n    <tr>\n      <th>12</th>\n      <td>13</td>\n      <td>Oklahoma City Race Equipment</td>\n      <td>Oklahoma City, OK</td>\n    </tr>\n    <tr>\n      <th>13</th>\n      <td>14</td>\n      <td>Albuquerque Cycles</td>\n      <td>Albuquerque, NM</td>\n    </tr>\n    <tr>\n      <th>14</th>\n      <td>15</td>\n      <td>Austin Cruisers</td>\n      <td>Austin, TX</td>\n    </tr>\n    <tr>\n      <th>15</th>\n      <td>16</td>\n      <td>Phoenix Bi-peds</td>\n      <td>Phoenix, AZ</td>\n    </tr>\n    <tr>\n      <th>16</th>\n      <td>17</td>\n      <td>Las Vegas Cycles</td>\n      <td>Las Vegas, NV</td>\n    </tr>\n    <tr>\n      <th>17</th>\n      <td>18</td>\n      <td>Los Angeles Cycles</td>\n      <td>Los Angeles, CA</td>\n    </tr>\n    <tr>\n      <th>18</th>\n      <td>19</td>\n      <td>San Francisco Cruisers</td>\n      <td>San Francisco, CA</td>\n    </tr>\n    <tr>\n      <th>19</th>\n      <td>20</td>\n      <td>Portland Bi-peds</td>\n      <td>Portland, OR</td>\n    </tr>\n    <tr>\n      <th>20</th>\n      <td>21</td>\n      <td>Seattle Race Equipment</td>\n      <td>Seattle, WA</td>\n    </tr>\n    <tr>\n      <th>21</th>\n      <td>22</td>\n      <td>Ann Arbor Speed</td>\n      <td>Ann Arbor, MI</td>\n    </tr>\n    <tr>\n      <th>22</th>\n      <td>23</td>\n      <td>Philadelphia Bike Shop</td>\n      <td>Philadelphia, PA</td>\n    </tr>\n    <tr>\n      <th>23</th>\n      <td>24</td>\n      <td>Providence Bi-peds</td>\n      <td>Providence, RI</td>\n    </tr>\n    <tr>\n      <th>24</th>\n      <td>25</td>\n      <td>New Orleans Velocipedes</td>\n      <td>New Orleans, LA</td>\n    </tr>\n    <tr>\n      <th>25</th>\n      <td>26</td>\n      <td>Miami Race Equipment</td>\n      <td>Miami, FL</td>\n    </tr>\n    <tr>\n      <th>26</th>\n      <td>27</td>\n      <td>San Antonio Bike Shop</td>\n      <td>San Antonio, TX</td>\n    </tr>\n    <tr>\n      <th>27</th>\n      <td>28</td>\n      <td>Wichita Speed</td>\n      <td>Wichita, KS</td>\n    </tr>\n    <tr>\n      <th>28</th>\n      <td>29</td>\n      <td>Indianapolis Velocipedes</td>\n      <td>Indianapolis, IN</td>\n    </tr>\n    <tr>\n      <th>29</th>\n      <td>30</td>\n      <td>Tampa 29ers</td>\n      <td>Tampa, FL</td>\n    </tr>\n  </tbody>\n</table>\n</div>"
     },
     "execution_count": 182,
     "metadata": {},
     "output_type": "execute_result"
    }
   ],
   "source": [
    "bikeshops_df"
   ]
  },
  {
   "cell_type": "code",
   "execution_count": 183,
   "metadata": {
    "pycharm": {
     "name": "#%%\n"
    }
   },
   "outputs": [],
   "source": [
    "s = bikes_df['description']"
   ]
  },
  {
   "cell_type": "code",
   "execution_count": 184,
   "metadata": {
    "pycharm": {
     "name": "#%%\n"
    }
   },
   "outputs": [],
   "source": [
    "frequencies_count = s.value_counts()"
   ]
  },
  {
   "cell_type": "code",
   "execution_count": 185,
   "metadata": {
    "pycharm": {
     "name": "#%%\n"
    }
   },
   "outputs": [
    {
     "data": {
      "text/plain": "\nMountain - Cross Country Race - Carbon    \u001B[1;36m14\u001B[0m\nRoad - Elite Road - Aluminum              \u001B[1;36m11\u001B[0m\nRoad - Endurance Road - Carbon            \u001B[1;36m11\u001B[0m\nRoad - Elite Road - Carbon                \u001B[1;36m10\u001B[0m\nMountain - Sport - Aluminum                \u001B[1;36m9\u001B[0m\nName: description, dtype: int64\n",
      "text/html": "<pre style=\"white-space:pre;overflow-x:auto;line-height:normal;font-family:Menlo,'DejaVu Sans Mono',consolas,'Courier New',monospace\">\nMountain - Cross Country Race - Carbon    <span style=\"color: #008080; text-decoration-color: #008080; font-weight: bold\">14</span>\nRoad - Elite Road - Aluminum              <span style=\"color: #008080; text-decoration-color: #008080; font-weight: bold\">11</span>\nRoad - Endurance Road - Carbon            <span style=\"color: #008080; text-decoration-color: #008080; font-weight: bold\">11</span>\nRoad - Elite Road - Carbon                <span style=\"color: #008080; text-decoration-color: #008080; font-weight: bold\">10</span>\nMountain - Sport - Aluminum                <span style=\"color: #008080; text-decoration-color: #008080; font-weight: bold\">9</span>\nName: description, dtype: int64\n</pre>\n"
     },
     "metadata": {},
     "output_type": "display_data"
    }
   ],
   "source": [
    "frequencies_count.nlargest(5)"
   ]
  },
  {
   "cell_type": "code",
   "execution_count": 186,
   "metadata": {
    "pycharm": {
     "name": "#%%\n"
    }
   },
   "outputs": [],
   "source": [
    "top_5_bikes_series = bikes_df['description'].value_counts().nlargest(5)"
   ]
  },
  {
   "cell_type": "code",
   "execution_count": 187,
   "metadata": {
    "pycharm": {
     "name": "#%%\n"
    }
   },
   "outputs": [],
   "source": [
    "#To call the documentation\n",
    "?pd.Series.plot"
   ]
  },
  {
   "cell_type": "code",
   "execution_count": 188,
   "metadata": {
    "pycharm": {
     "name": "#%%\n"
    }
   },
   "outputs": [
    {
     "data": {
      "text/plain": "\nMountain - Cross Country Race - Carbon    \u001B[1;36m14\u001B[0m\nRoad - Elite Road - Aluminum              \u001B[1;36m11\u001B[0m\nRoad - Endurance Road - Carbon            \u001B[1;36m11\u001B[0m\nRoad - Elite Road - Carbon                \u001B[1;36m10\u001B[0m\nMountain - Sport - Aluminum                \u001B[1;36m9\u001B[0m\nName: description, dtype: int64\n",
      "text/html": "<pre style=\"white-space:pre;overflow-x:auto;line-height:normal;font-family:Menlo,'DejaVu Sans Mono',consolas,'Courier New',monospace\">\nMountain - Cross Country Race - Carbon    <span style=\"color: #008080; text-decoration-color: #008080; font-weight: bold\">14</span>\nRoad - Elite Road - Aluminum              <span style=\"color: #008080; text-decoration-color: #008080; font-weight: bold\">11</span>\nRoad - Endurance Road - Carbon            <span style=\"color: #008080; text-decoration-color: #008080; font-weight: bold\">11</span>\nRoad - Elite Road - Carbon                <span style=\"color: #008080; text-decoration-color: #008080; font-weight: bold\">10</span>\nMountain - Sport - Aluminum                <span style=\"color: #008080; text-decoration-color: #008080; font-weight: bold\">9</span>\nName: description, dtype: int64\n</pre>\n"
     },
     "metadata": {},
     "output_type": "display_data"
    }
   ],
   "source": [
    "top_5_bikes_series"
   ]
  },
  {
   "cell_type": "code",
   "execution_count": 189,
   "metadata": {
    "pycharm": {
     "name": "#%%\n"
    }
   },
   "outputs": [],
   "source": [
    "pd.Series.plot(top_5_bikes_series)\n",
    "plt.show()"
   ]
  },
  {
   "cell_type": "code",
   "execution_count": 190,
   "metadata": {
    "pycharm": {
     "name": "#%%\n"
    }
   },
   "outputs": [
    {
     "data": {
      "image/png": "[encoded data removed]"
     },
     "metadata": {
      "needs_background": "light"
     },
     "output_type": "display_data"
    }
   ],
   "source": [
    "fig = top_5_bikes_series.plot(kind=\"barh\")"
   ]
  },
  {
   "cell_type": "code",
   "execution_count": 191,
   "metadata": {
    "pycharm": {
     "name": "#%%\n"
    }
   },
   "outputs": [
    {
     "data": {
      "image/png": "[encoded data removed]"
     },
     "metadata": {
      "needs_background": "light"
     },
     "output_type": "display_data"
    }
   ],
   "source": [
    "fig = top_5_bikes_series.plot(kind=\"barh\")\n",
    "fig.invert_yaxis()"
   ]
  },
  {
   "cell_type": "code",
   "execution_count": 192,
   "metadata": {
    "pycharm": {
     "name": "#%%\n"
    }
   },
   "outputs": [],
   "source": [
    "fig"
   ]
  },
  {
   "cell_type": "code",
   "execution_count": 193,
   "metadata": {
    "pycharm": {
     "name": "#%%\n"
    }
   },
   "outputs": [],
   "source": [
    "plt.show()"
   ]
  },
  {
   "cell_type": "code",
   "execution_count": 194,
   "metadata": {
    "pycharm": {
     "name": "#%%\n"
    }
   },
   "outputs": [
    {
     "data": {
      "image/png": "[encoded data removed]"
     },
     "metadata": {
      "needs_background": "light"
     },
     "output_type": "display_data"
    }
   ],
   "source": [
    "fig = top_5_bikes_series.plot(kind=\"barh\")\n",
    "fig.invert_yaxis()"
   ]
  },
  {
   "cell_type": "code",
   "execution_count": 195,
   "metadata": {
    "pycharm": {
     "name": "#%%\n"
    }
   },
   "outputs": [],
   "source": [
    "fig"
   ]
  },
  {
   "cell_type": "code",
   "execution_count": 196,
   "metadata": {
    "pycharm": {
     "name": "#%%\n"
    }
   },
   "outputs": [],
   "source": [
    "plt.show()"
   ]
  },
  {
   "cell_type": "code",
   "execution_count": 197,
   "metadata": {
    "pycharm": {
     "name": "#%%\n"
    }
   },
   "outputs": [
    {
     "data": {
      "text/html": "<div>\n<style scoped>\n    .dataframe tbody tr th:only-of-type {\n        vertical-align: middle;\n    }\n\n    .dataframe tbody tr th {\n        vertical-align: top;\n    }\n\n    .dataframe thead th {\n        text-align: right;\n    }\n</style>\n<table border=\"1\" class=\"dataframe\">\n  <thead>\n    <tr style=\"text-align: right;\">\n      <th></th>\n      <th>order.id</th>\n      <th>order.line</th>\n      <th>order.date</th>\n      <th>customer.id</th>\n      <th>product.id</th>\n      <th>quantity</th>\n    </tr>\n  </thead>\n  <tbody>\n    <tr>\n      <th>0</th>\n      <td>1</td>\n      <td>1</td>\n      <td>2011-01-07 00:00:00</td>\n      <td>2</td>\n      <td>48</td>\n      <td>1</td>\n    </tr>\n    <tr>\n      <th>1</th>\n      <td>1</td>\n      <td>2</td>\n      <td>2011-01-07 00:00:00</td>\n      <td>2</td>\n      <td>52</td>\n      <td>1</td>\n    </tr>\n    <tr>\n      <th>2</th>\n      <td>2</td>\n      <td>1</td>\n      <td>2011-01-10 00:00:00</td>\n      <td>10</td>\n      <td>76</td>\n      <td>1</td>\n    </tr>\n    <tr>\n      <th>3</th>\n      <td>2</td>\n      <td>2</td>\n      <td>2011-01-10 00:00:00</td>\n      <td>10</td>\n      <td>52</td>\n      <td>1</td>\n    </tr>\n    <tr>\n      <th>4</th>\n      <td>3</td>\n      <td>1</td>\n      <td>2011-01-10 00:00:00</td>\n      <td>6</td>\n      <td>2</td>\n      <td>1</td>\n    </tr>\n    <tr>\n      <th>...</th>\n      <td>...</td>\n      <td>...</td>\n      <td>...</td>\n      <td>...</td>\n      <td>...</td>\n      <td>...</td>\n    </tr>\n    <tr>\n      <th>15639</th>\n      <td>2000</td>\n      <td>4</td>\n      <td>2015-12-25 00:00:00</td>\n      <td>15</td>\n      <td>14</td>\n      <td>1</td>\n    </tr>\n    <tr>\n      <th>15640</th>\n      <td>2000</td>\n      <td>5</td>\n      <td>2015-12-25 00:00:00</td>\n      <td>15</td>\n      <td>90</td>\n      <td>1</td>\n    </tr>\n    <tr>\n      <th>15641</th>\n      <td>2000</td>\n      <td>6</td>\n      <td>2015-12-25 00:00:00</td>\n      <td>15</td>\n      <td>17</td>\n      <td>1</td>\n    </tr>\n    <tr>\n      <th>15642</th>\n      <td>2000</td>\n      <td>7</td>\n      <td>2015-12-25 00:00:00</td>\n      <td>15</td>\n      <td>70</td>\n      <td>1</td>\n    </tr>\n    <tr>\n      <th>15643</th>\n      <td>2000</td>\n      <td>8</td>\n      <td>2015-12-25 00:00:00</td>\n      <td>15</td>\n      <td>61</td>\n      <td>1</td>\n    </tr>\n  </tbody>\n</table>\n<p>15644 rows × 6 columns</p>\n</div>"
     },
     "execution_count": 197,
     "metadata": {},
     "output_type": "execute_result"
    }
   ],
   "source": [
    "# orderlines_df = pd.Dataframe(orderlines_df)\n",
    "orderlines_df.drop(columns='Unnamed: 0', axis=1)"
   ]
  },
  {
   "cell_type": "code",
   "execution_count": 198,
   "metadata": {},
   "outputs": [],
   "source": [
    "?pd.merge"
   ]
  },
  {
   "cell_type": "code",
   "execution_count": 199,
   "metadata": {},
   "outputs": [
    {
     "data": {
      "text/html": "<div>\n<style scoped>\n    .dataframe tbody tr th:only-of-type {\n        vertical-align: middle;\n    }\n\n    .dataframe tbody tr th {\n        vertical-align: top;\n    }\n\n    .dataframe thead th {\n        text-align: right;\n    }\n</style>\n<table border=\"1\" class=\"dataframe\">\n  <thead>\n    <tr style=\"text-align: right;\">\n      <th></th>\n      <th>bike.id</th>\n      <th>model</th>\n      <th>description</th>\n      <th>price</th>\n    </tr>\n  </thead>\n  <tbody>\n    <tr>\n      <th>0</th>\n      <td>1</td>\n      <td>Supersix Evo Black Inc.</td>\n      <td>Road - Elite Road - Carbon</td>\n      <td>12790</td>\n    </tr>\n    <tr>\n      <th>1</th>\n      <td>2</td>\n      <td>Supersix Evo Hi-Mod Team</td>\n      <td>Road - Elite Road - Carbon</td>\n      <td>10660</td>\n    </tr>\n    <tr>\n      <th>2</th>\n      <td>3</td>\n      <td>Supersix Evo Hi-Mod Dura Ace 1</td>\n      <td>Road - Elite Road - Carbon</td>\n      <td>7990</td>\n    </tr>\n    <tr>\n      <th>3</th>\n      <td>4</td>\n      <td>Supersix Evo Hi-Mod Dura Ace 2</td>\n      <td>Road - Elite Road - Carbon</td>\n      <td>5330</td>\n    </tr>\n    <tr>\n      <th>4</th>\n      <td>5</td>\n      <td>Supersix Evo Hi-Mod Utegra</td>\n      <td>Road - Elite Road - Carbon</td>\n      <td>4260</td>\n    </tr>\n    <tr>\n      <th>...</th>\n      <td>...</td>\n      <td>...</td>\n      <td>...</td>\n      <td>...</td>\n    </tr>\n    <tr>\n      <th>92</th>\n      <td>93</td>\n      <td>Trail 5</td>\n      <td>Mountain - Sport - Aluminum</td>\n      <td>815</td>\n    </tr>\n    <tr>\n      <th>93</th>\n      <td>94</td>\n      <td>Catalyst 1</td>\n      <td>Mountain - Sport - Aluminum</td>\n      <td>705</td>\n    </tr>\n    <tr>\n      <th>94</th>\n      <td>95</td>\n      <td>Catalyst 2</td>\n      <td>Mountain - Sport - Aluminum</td>\n      <td>585</td>\n    </tr>\n    <tr>\n      <th>95</th>\n      <td>96</td>\n      <td>Catalyst 3</td>\n      <td>Mountain - Sport - Aluminum</td>\n      <td>480</td>\n    </tr>\n    <tr>\n      <th>96</th>\n      <td>97</td>\n      <td>Catalyst 4</td>\n      <td>Mountain - Sport - Aluminum</td>\n      <td>415</td>\n    </tr>\n  </tbody>\n</table>\n<p>97 rows × 4 columns</p>\n</div>"
     },
     "execution_count": 199,
     "metadata": {},
     "output_type": "execute_result"
    }
   ],
   "source": [
    "bikes_df"
   ]
  },
  {
   "cell_type": "code",
   "execution_count": 200,
   "metadata": {},
   "outputs": [
    {
     "data": {
      "text/html": "<div>\n<style scoped>\n    .dataframe tbody tr th:only-of-type {\n        vertical-align: middle;\n    }\n\n    .dataframe tbody tr th {\n        vertical-align: top;\n    }\n\n    .dataframe thead th {\n        text-align: right;\n    }\n</style>\n<table border=\"1\" class=\"dataframe\">\n  <thead>\n    <tr style=\"text-align: right;\">\n      <th></th>\n      <th>order.id</th>\n      <th>order.line</th>\n      <th>order.date</th>\n      <th>customer.id</th>\n      <th>product.id</th>\n      <th>quantity</th>\n      <th>bike.id</th>\n      <th>model</th>\n      <th>description</th>\n      <th>price</th>\n    </tr>\n  </thead>\n  <tbody>\n    <tr>\n      <th>0</th>\n      <td>1</td>\n      <td>1</td>\n      <td>2011-01-07 00:00:00</td>\n      <td>2</td>\n      <td>48</td>\n      <td>1</td>\n      <td>48</td>\n      <td>Jekyll Carbon 2</td>\n      <td>Mountain - Over Mountain - Carbon</td>\n      <td>6070</td>\n    </tr>\n    <tr>\n      <th>1</th>\n      <td>1</td>\n      <td>2</td>\n      <td>2011-01-07 00:00:00</td>\n      <td>2</td>\n      <td>52</td>\n      <td>1</td>\n      <td>52</td>\n      <td>Trigger Carbon 2</td>\n      <td>Mountain - Over Mountain - Carbon</td>\n      <td>5970</td>\n    </tr>\n    <tr>\n      <th>2</th>\n      <td>2</td>\n      <td>1</td>\n      <td>2011-01-10 00:00:00</td>\n      <td>10</td>\n      <td>76</td>\n      <td>1</td>\n      <td>76</td>\n      <td>Beast of the East 1</td>\n      <td>Mountain - Trail - Aluminum</td>\n      <td>2770</td>\n    </tr>\n    <tr>\n      <th>3</th>\n      <td>2</td>\n      <td>2</td>\n      <td>2011-01-10 00:00:00</td>\n      <td>10</td>\n      <td>52</td>\n      <td>1</td>\n      <td>52</td>\n      <td>Trigger Carbon 2</td>\n      <td>Mountain - Over Mountain - Carbon</td>\n      <td>5970</td>\n    </tr>\n    <tr>\n      <th>4</th>\n      <td>3</td>\n      <td>1</td>\n      <td>2011-01-10 00:00:00</td>\n      <td>6</td>\n      <td>2</td>\n      <td>1</td>\n      <td>2</td>\n      <td>Supersix Evo Hi-Mod Team</td>\n      <td>Road - Elite Road - Carbon</td>\n      <td>10660</td>\n    </tr>\n    <tr>\n      <th>...</th>\n      <td>...</td>\n      <td>...</td>\n      <td>...</td>\n      <td>...</td>\n      <td>...</td>\n      <td>...</td>\n      <td>...</td>\n      <td>...</td>\n      <td>...</td>\n      <td>...</td>\n    </tr>\n    <tr>\n      <th>15639</th>\n      <td>2000</td>\n      <td>4</td>\n      <td>2015-12-25 00:00:00</td>\n      <td>15</td>\n      <td>14</td>\n      <td>1</td>\n      <td>14</td>\n      <td>CAAD Disc Ultegra</td>\n      <td>Road - Elite Road - Aluminum</td>\n      <td>2660</td>\n    </tr>\n    <tr>\n      <th>15640</th>\n      <td>2000</td>\n      <td>5</td>\n      <td>2015-12-25 00:00:00</td>\n      <td>15</td>\n      <td>90</td>\n      <td>1</td>\n      <td>90</td>\n      <td>Trail 2</td>\n      <td>Mountain - Sport - Aluminum</td>\n      <td>1350</td>\n    </tr>\n    <tr>\n      <th>15641</th>\n      <td>2000</td>\n      <td>6</td>\n      <td>2015-12-25 00:00:00</td>\n      <td>15</td>\n      <td>17</td>\n      <td>1</td>\n      <td>17</td>\n      <td>CAAD12 105</td>\n      <td>Road - Elite Road - Aluminum</td>\n      <td>1680</td>\n    </tr>\n    <tr>\n      <th>15642</th>\n      <td>2000</td>\n      <td>7</td>\n      <td>2015-12-25 00:00:00</td>\n      <td>15</td>\n      <td>70</td>\n      <td>1</td>\n      <td>70</td>\n      <td>F-Si Carbon 4</td>\n      <td>Mountain - Cross Country Race - Carbon</td>\n      <td>2880</td>\n    </tr>\n    <tr>\n      <th>15643</th>\n      <td>2000</td>\n      <td>8</td>\n      <td>2015-12-25 00:00:00</td>\n      <td>15</td>\n      <td>61</td>\n      <td>1</td>\n      <td>61</td>\n      <td>Scalpel-Si 5</td>\n      <td>Mountain - Cross Country Race - Aluminum</td>\n      <td>3200</td>\n    </tr>\n  </tbody>\n</table>\n<p>15644 rows × 10 columns</p>\n</div>"
     },
     "execution_count": 200,
     "metadata": {},
     "output_type": "execute_result"
    }
   ],
   "source": [
    "# merging orderlines with bikes\n",
    "orderlines_df.drop(columns='Unnamed: 0', axis=1) \\\n",
    "    .merge(\n",
    "        right = bikes_df,\n",
    "        how='left',\n",
    "        left_on='product.id',\n",
    "        right_on='bike.id'\n",
    ")"
   ]
  },
  {
   "cell_type": "code",
   "execution_count": 201,
   "metadata": {},
   "outputs": [],
   "source": [
    "# merging orderlines with bikes with bikes shop\n",
    "bikes_orderlines_joined_df = orderlines_df.drop(columns='Unnamed: 0', axis=1) \\\n",
    "    .merge(\n",
    "        right = bikes_df,\n",
    "        how='left',\n",
    "        left_on='product.id',\n",
    "        right_on='bike.id'\n",
    ") \\\n",
    "    .merge(\n",
    "            right = bikeshops_df,\n",
    "            how='left',\n",
    "            left_on='customer.id',\n",
    "            right_on='bikeshop.id'\n",
    "    )"
   ]
  },
  {
   "cell_type": "code",
   "execution_count": 202,
   "metadata": {},
   "outputs": [
    {
     "data": {
      "text/html": "<div>\n<style scoped>\n    .dataframe tbody tr th:only-of-type {\n        vertical-align: middle;\n    }\n\n    .dataframe tbody tr th {\n        vertical-align: top;\n    }\n\n    .dataframe thead th {\n        text-align: right;\n    }\n</style>\n<table border=\"1\" class=\"dataframe\">\n  <thead>\n    <tr style=\"text-align: right;\">\n      <th></th>\n      <th>order.id</th>\n      <th>order.line</th>\n      <th>order.date</th>\n      <th>customer.id</th>\n      <th>product.id</th>\n      <th>quantity</th>\n      <th>bike.id</th>\n      <th>model</th>\n      <th>description</th>\n      <th>price</th>\n      <th>bikeshop.id</th>\n      <th>bikeshop.name</th>\n      <th>location</th>\n    </tr>\n  </thead>\n  <tbody>\n    <tr>\n      <th>0</th>\n      <td>1</td>\n      <td>1</td>\n      <td>2011-01-07 00:00:00</td>\n      <td>2</td>\n      <td>48</td>\n      <td>1</td>\n      <td>48</td>\n      <td>Jekyll Carbon 2</td>\n      <td>Mountain - Over Mountain - Carbon</td>\n      <td>6070</td>\n      <td>2</td>\n      <td>Ithaca Mountain Climbers</td>\n      <td>Ithaca, NY</td>\n    </tr>\n    <tr>\n      <th>1</th>\n      <td>1</td>\n      <td>2</td>\n      <td>2011-01-07 00:00:00</td>\n      <td>2</td>\n      <td>52</td>\n      <td>1</td>\n      <td>52</td>\n      <td>Trigger Carbon 2</td>\n      <td>Mountain - Over Mountain - Carbon</td>\n      <td>5970</td>\n      <td>2</td>\n      <td>Ithaca Mountain Climbers</td>\n      <td>Ithaca, NY</td>\n    </tr>\n    <tr>\n      <th>2</th>\n      <td>2</td>\n      <td>1</td>\n      <td>2011-01-10 00:00:00</td>\n      <td>10</td>\n      <td>76</td>\n      <td>1</td>\n      <td>76</td>\n      <td>Beast of the East 1</td>\n      <td>Mountain - Trail - Aluminum</td>\n      <td>2770</td>\n      <td>10</td>\n      <td>Kansas City 29ers</td>\n      <td>Kansas City, KS</td>\n    </tr>\n    <tr>\n      <th>3</th>\n      <td>2</td>\n      <td>2</td>\n      <td>2011-01-10 00:00:00</td>\n      <td>10</td>\n      <td>52</td>\n      <td>1</td>\n      <td>52</td>\n      <td>Trigger Carbon 2</td>\n      <td>Mountain - Over Mountain - Carbon</td>\n      <td>5970</td>\n      <td>10</td>\n      <td>Kansas City 29ers</td>\n      <td>Kansas City, KS</td>\n    </tr>\n    <tr>\n      <th>4</th>\n      <td>3</td>\n      <td>1</td>\n      <td>2011-01-10 00:00:00</td>\n      <td>6</td>\n      <td>2</td>\n      <td>1</td>\n      <td>2</td>\n      <td>Supersix Evo Hi-Mod Team</td>\n      <td>Road - Elite Road - Carbon</td>\n      <td>10660</td>\n      <td>6</td>\n      <td>Louisville Race Equipment</td>\n      <td>Louisville, KY</td>\n    </tr>\n    <tr>\n      <th>...</th>\n      <td>...</td>\n      <td>...</td>\n      <td>...</td>\n      <td>...</td>\n      <td>...</td>\n      <td>...</td>\n      <td>...</td>\n      <td>...</td>\n      <td>...</td>\n      <td>...</td>\n      <td>...</td>\n      <td>...</td>\n      <td>...</td>\n    </tr>\n    <tr>\n      <th>15639</th>\n      <td>2000</td>\n      <td>4</td>\n      <td>2015-12-25 00:00:00</td>\n      <td>15</td>\n      <td>14</td>\n      <td>1</td>\n      <td>14</td>\n      <td>CAAD Disc Ultegra</td>\n      <td>Road - Elite Road - Aluminum</td>\n      <td>2660</td>\n      <td>15</td>\n      <td>Austin Cruisers</td>\n      <td>Austin, TX</td>\n    </tr>\n    <tr>\n      <th>15640</th>\n      <td>2000</td>\n      <td>5</td>\n      <td>2015-12-25 00:00:00</td>\n      <td>15</td>\n      <td>90</td>\n      <td>1</td>\n      <td>90</td>\n      <td>Trail 2</td>\n      <td>Mountain - Sport - Aluminum</td>\n      <td>1350</td>\n      <td>15</td>\n      <td>Austin Cruisers</td>\n      <td>Austin, TX</td>\n    </tr>\n    <tr>\n      <th>15641</th>\n      <td>2000</td>\n      <td>6</td>\n      <td>2015-12-25 00:00:00</td>\n      <td>15</td>\n      <td>17</td>\n      <td>1</td>\n      <td>17</td>\n      <td>CAAD12 105</td>\n      <td>Road - Elite Road - Aluminum</td>\n      <td>1680</td>\n      <td>15</td>\n      <td>Austin Cruisers</td>\n      <td>Austin, TX</td>\n    </tr>\n    <tr>\n      <th>15642</th>\n      <td>2000</td>\n      <td>7</td>\n      <td>2015-12-25 00:00:00</td>\n      <td>15</td>\n      <td>70</td>\n      <td>1</td>\n      <td>70</td>\n      <td>F-Si Carbon 4</td>\n      <td>Mountain - Cross Country Race - Carbon</td>\n      <td>2880</td>\n      <td>15</td>\n      <td>Austin Cruisers</td>\n      <td>Austin, TX</td>\n    </tr>\n    <tr>\n      <th>15643</th>\n      <td>2000</td>\n      <td>8</td>\n      <td>2015-12-25 00:00:00</td>\n      <td>15</td>\n      <td>61</td>\n      <td>1</td>\n      <td>61</td>\n      <td>Scalpel-Si 5</td>\n      <td>Mountain - Cross Country Race - Aluminum</td>\n      <td>3200</td>\n      <td>15</td>\n      <td>Austin Cruisers</td>\n      <td>Austin, TX</td>\n    </tr>\n  </tbody>\n</table>\n<p>15644 rows × 13 columns</p>\n</div>"
     },
     "execution_count": 202,
     "metadata": {},
     "output_type": "execute_result"
    }
   ],
   "source": [
    "bikes_orderlines_joined_df"
   ]
  },
  {
   "cell_type": "code",
   "execution_count": 203,
   "metadata": {},
   "outputs": [],
   "source": [
    "df = bikes_orderlines_joined_df"
   ]
  },
  {
   "cell_type": "code",
   "execution_count": 204,
   "metadata": {},
   "outputs": [],
   "source": [
    "df2 = bikes_orderlines_joined_df.copy()"
   ]
  },
  {
   "cell_type": "code",
   "execution_count": 205,
   "metadata": {},
   "outputs": [
    {
     "data": {
      "text/html": "<div>\n<style scoped>\n    .dataframe tbody tr th:only-of-type {\n        vertical-align: middle;\n    }\n\n    .dataframe tbody tr th {\n        vertical-align: top;\n    }\n\n    .dataframe thead th {\n        text-align: right;\n    }\n</style>\n<table border=\"1\" class=\"dataframe\">\n  <thead>\n    <tr style=\"text-align: right;\">\n      <th></th>\n      <th>order.id</th>\n      <th>order.line</th>\n      <th>order.date</th>\n      <th>customer.id</th>\n      <th>product.id</th>\n      <th>quantity</th>\n      <th>bike.id</th>\n      <th>model</th>\n      <th>description</th>\n      <th>price</th>\n      <th>bikeshop.id</th>\n      <th>bikeshop.name</th>\n      <th>location</th>\n    </tr>\n  </thead>\n  <tbody>\n    <tr>\n      <th>0</th>\n      <td>1</td>\n      <td>1</td>\n      <td>2011-01-07 00:00:00</td>\n      <td>2</td>\n      <td>48</td>\n      <td>1</td>\n      <td>48</td>\n      <td>Jekyll Carbon 2</td>\n      <td>Mountain - Over Mountain - Carbon</td>\n      <td>6070</td>\n      <td>2</td>\n      <td>Ithaca Mountain Climbers</td>\n      <td>Ithaca, NY</td>\n    </tr>\n    <tr>\n      <th>1</th>\n      <td>1</td>\n      <td>2</td>\n      <td>2011-01-07 00:00:00</td>\n      <td>2</td>\n      <td>52</td>\n      <td>1</td>\n      <td>52</td>\n      <td>Trigger Carbon 2</td>\n      <td>Mountain - Over Mountain - Carbon</td>\n      <td>5970</td>\n      <td>2</td>\n      <td>Ithaca Mountain Climbers</td>\n      <td>Ithaca, NY</td>\n    </tr>\n    <tr>\n      <th>2</th>\n      <td>2</td>\n      <td>1</td>\n      <td>2011-01-10 00:00:00</td>\n      <td>10</td>\n      <td>76</td>\n      <td>1</td>\n      <td>76</td>\n      <td>Beast of the East 1</td>\n      <td>Mountain - Trail - Aluminum</td>\n      <td>2770</td>\n      <td>10</td>\n      <td>Kansas City 29ers</td>\n      <td>Kansas City, KS</td>\n    </tr>\n    <tr>\n      <th>3</th>\n      <td>2</td>\n      <td>2</td>\n      <td>2011-01-10 00:00:00</td>\n      <td>10</td>\n      <td>52</td>\n      <td>1</td>\n      <td>52</td>\n      <td>Trigger Carbon 2</td>\n      <td>Mountain - Over Mountain - Carbon</td>\n      <td>5970</td>\n      <td>10</td>\n      <td>Kansas City 29ers</td>\n      <td>Kansas City, KS</td>\n    </tr>\n    <tr>\n      <th>4</th>\n      <td>3</td>\n      <td>1</td>\n      <td>2011-01-10 00:00:00</td>\n      <td>6</td>\n      <td>2</td>\n      <td>1</td>\n      <td>2</td>\n      <td>Supersix Evo Hi-Mod Team</td>\n      <td>Road - Elite Road - Carbon</td>\n      <td>10660</td>\n      <td>6</td>\n      <td>Louisville Race Equipment</td>\n      <td>Louisville, KY</td>\n    </tr>\n    <tr>\n      <th>...</th>\n      <td>...</td>\n      <td>...</td>\n      <td>...</td>\n      <td>...</td>\n      <td>...</td>\n      <td>...</td>\n      <td>...</td>\n      <td>...</td>\n      <td>...</td>\n      <td>...</td>\n      <td>...</td>\n      <td>...</td>\n      <td>...</td>\n    </tr>\n    <tr>\n      <th>15639</th>\n      <td>2000</td>\n      <td>4</td>\n      <td>2015-12-25 00:00:00</td>\n      <td>15</td>\n      <td>14</td>\n      <td>1</td>\n      <td>14</td>\n      <td>CAAD Disc Ultegra</td>\n      <td>Road - Elite Road - Aluminum</td>\n      <td>2660</td>\n      <td>15</td>\n      <td>Austin Cruisers</td>\n      <td>Austin, TX</td>\n    </tr>\n    <tr>\n      <th>15640</th>\n      <td>2000</td>\n      <td>5</td>\n      <td>2015-12-25 00:00:00</td>\n      <td>15</td>\n      <td>90</td>\n      <td>1</td>\n      <td>90</td>\n      <td>Trail 2</td>\n      <td>Mountain - Sport - Aluminum</td>\n      <td>1350</td>\n      <td>15</td>\n      <td>Austin Cruisers</td>\n      <td>Austin, TX</td>\n    </tr>\n    <tr>\n      <th>15641</th>\n      <td>2000</td>\n      <td>6</td>\n      <td>2015-12-25 00:00:00</td>\n      <td>15</td>\n      <td>17</td>\n      <td>1</td>\n      <td>17</td>\n      <td>CAAD12 105</td>\n      <td>Road - Elite Road - Aluminum</td>\n      <td>1680</td>\n      <td>15</td>\n      <td>Austin Cruisers</td>\n      <td>Austin, TX</td>\n    </tr>\n    <tr>\n      <th>15642</th>\n      <td>2000</td>\n      <td>7</td>\n      <td>2015-12-25 00:00:00</td>\n      <td>15</td>\n      <td>70</td>\n      <td>1</td>\n      <td>70</td>\n      <td>F-Si Carbon 4</td>\n      <td>Mountain - Cross Country Race - Carbon</td>\n      <td>2880</td>\n      <td>15</td>\n      <td>Austin Cruisers</td>\n      <td>Austin, TX</td>\n    </tr>\n    <tr>\n      <th>15643</th>\n      <td>2000</td>\n      <td>8</td>\n      <td>2015-12-25 00:00:00</td>\n      <td>15</td>\n      <td>61</td>\n      <td>1</td>\n      <td>61</td>\n      <td>Scalpel-Si 5</td>\n      <td>Mountain - Cross Country Race - Aluminum</td>\n      <td>3200</td>\n      <td>15</td>\n      <td>Austin Cruisers</td>\n      <td>Austin, TX</td>\n    </tr>\n  </tbody>\n</table>\n<p>15644 rows × 13 columns</p>\n</div>"
     },
     "execution_count": 205,
     "metadata": {},
     "output_type": "execute_result"
    }
   ],
   "source": [
    "df"
   ]
  },
  {
   "cell_type": "code",
   "execution_count": 206,
   "metadata": {},
   "outputs": [
    {
     "data": {
      "text/html": "<div>\n<style scoped>\n    .dataframe tbody tr th:only-of-type {\n        vertical-align: middle;\n    }\n\n    .dataframe tbody tr th {\n        vertical-align: top;\n    }\n\n    .dataframe thead th {\n        text-align: right;\n    }\n</style>\n<table border=\"1\" class=\"dataframe\">\n  <thead>\n    <tr style=\"text-align: right;\">\n      <th></th>\n      <th>order.id</th>\n      <th>order.line</th>\n      <th>order.date</th>\n      <th>customer.id</th>\n      <th>product.id</th>\n      <th>quantity</th>\n      <th>bike.id</th>\n      <th>model</th>\n      <th>description</th>\n      <th>price</th>\n      <th>bikeshop.id</th>\n      <th>bikeshop.name</th>\n      <th>location</th>\n    </tr>\n  </thead>\n  <tbody>\n    <tr>\n      <th>0</th>\n      <td>1</td>\n      <td>1</td>\n      <td>2011-01-07 00:00:00</td>\n      <td>2</td>\n      <td>48</td>\n      <td>1</td>\n      <td>48</td>\n      <td>Jekyll Carbon 2</td>\n      <td>Mountain - Over Mountain - Carbon</td>\n      <td>6070</td>\n      <td>2</td>\n      <td>Ithaca Mountain Climbers</td>\n      <td>Ithaca, NY</td>\n    </tr>\n    <tr>\n      <th>1</th>\n      <td>1</td>\n      <td>2</td>\n      <td>2011-01-07 00:00:00</td>\n      <td>2</td>\n      <td>52</td>\n      <td>1</td>\n      <td>52</td>\n      <td>Trigger Carbon 2</td>\n      <td>Mountain - Over Mountain - Carbon</td>\n      <td>5970</td>\n      <td>2</td>\n      <td>Ithaca Mountain Climbers</td>\n      <td>Ithaca, NY</td>\n    </tr>\n    <tr>\n      <th>2</th>\n      <td>2</td>\n      <td>1</td>\n      <td>2011-01-10 00:00:00</td>\n      <td>10</td>\n      <td>76</td>\n      <td>1</td>\n      <td>76</td>\n      <td>Beast of the East 1</td>\n      <td>Mountain - Trail - Aluminum</td>\n      <td>2770</td>\n      <td>10</td>\n      <td>Kansas City 29ers</td>\n      <td>Kansas City, KS</td>\n    </tr>\n    <tr>\n      <th>3</th>\n      <td>2</td>\n      <td>2</td>\n      <td>2011-01-10 00:00:00</td>\n      <td>10</td>\n      <td>52</td>\n      <td>1</td>\n      <td>52</td>\n      <td>Trigger Carbon 2</td>\n      <td>Mountain - Over Mountain - Carbon</td>\n      <td>5970</td>\n      <td>10</td>\n      <td>Kansas City 29ers</td>\n      <td>Kansas City, KS</td>\n    </tr>\n    <tr>\n      <th>4</th>\n      <td>3</td>\n      <td>1</td>\n      <td>2011-01-10 00:00:00</td>\n      <td>6</td>\n      <td>2</td>\n      <td>1</td>\n      <td>2</td>\n      <td>Supersix Evo Hi-Mod Team</td>\n      <td>Road - Elite Road - Carbon</td>\n      <td>10660</td>\n      <td>6</td>\n      <td>Louisville Race Equipment</td>\n      <td>Louisville, KY</td>\n    </tr>\n    <tr>\n      <th>...</th>\n      <td>...</td>\n      <td>...</td>\n      <td>...</td>\n      <td>...</td>\n      <td>...</td>\n      <td>...</td>\n      <td>...</td>\n      <td>...</td>\n      <td>...</td>\n      <td>...</td>\n      <td>...</td>\n      <td>...</td>\n      <td>...</td>\n    </tr>\n    <tr>\n      <th>15639</th>\n      <td>2000</td>\n      <td>4</td>\n      <td>2015-12-25 00:00:00</td>\n      <td>15</td>\n      <td>14</td>\n      <td>1</td>\n      <td>14</td>\n      <td>CAAD Disc Ultegra</td>\n      <td>Road - Elite Road - Aluminum</td>\n      <td>2660</td>\n      <td>15</td>\n      <td>Austin Cruisers</td>\n      <td>Austin, TX</td>\n    </tr>\n    <tr>\n      <th>15640</th>\n      <td>2000</td>\n      <td>5</td>\n      <td>2015-12-25 00:00:00</td>\n      <td>15</td>\n      <td>90</td>\n      <td>1</td>\n      <td>90</td>\n      <td>Trail 2</td>\n      <td>Mountain - Sport - Aluminum</td>\n      <td>1350</td>\n      <td>15</td>\n      <td>Austin Cruisers</td>\n      <td>Austin, TX</td>\n    </tr>\n    <tr>\n      <th>15641</th>\n      <td>2000</td>\n      <td>6</td>\n      <td>2015-12-25 00:00:00</td>\n      <td>15</td>\n      <td>17</td>\n      <td>1</td>\n      <td>17</td>\n      <td>CAAD12 105</td>\n      <td>Road - Elite Road - Aluminum</td>\n      <td>1680</td>\n      <td>15</td>\n      <td>Austin Cruisers</td>\n      <td>Austin, TX</td>\n    </tr>\n    <tr>\n      <th>15642</th>\n      <td>2000</td>\n      <td>7</td>\n      <td>2015-12-25 00:00:00</td>\n      <td>15</td>\n      <td>70</td>\n      <td>1</td>\n      <td>70</td>\n      <td>F-Si Carbon 4</td>\n      <td>Mountain - Cross Country Race - Carbon</td>\n      <td>2880</td>\n      <td>15</td>\n      <td>Austin Cruisers</td>\n      <td>Austin, TX</td>\n    </tr>\n    <tr>\n      <th>15643</th>\n      <td>2000</td>\n      <td>8</td>\n      <td>2015-12-25 00:00:00</td>\n      <td>15</td>\n      <td>61</td>\n      <td>1</td>\n      <td>61</td>\n      <td>Scalpel-Si 5</td>\n      <td>Mountain - Cross Country Race - Aluminum</td>\n      <td>3200</td>\n      <td>15</td>\n      <td>Austin Cruisers</td>\n      <td>Austin, TX</td>\n    </tr>\n  </tbody>\n</table>\n<p>15644 rows × 13 columns</p>\n</div>"
     },
     "execution_count": 206,
     "metadata": {},
     "output_type": "execute_result"
    }
   ],
   "source": [
    "df2"
   ]
  },
  {
   "cell_type": "code",
   "execution_count": 207,
   "metadata": {},
   "outputs": [
    {
     "data": {
      "text/plain": "\n\u001B[1;36m0\u001B[0m        \u001B[1;36m2011\u001B[0m-\u001B[1;36m01\u001B[0m-\u001B[1;36m07\u001B[0m \u001B[1;92m00:00:00\u001B[0m\n\u001B[1;36m1\u001B[0m        \u001B[1;36m2011\u001B[0m-\u001B[1;36m01\u001B[0m-\u001B[1;36m07\u001B[0m \u001B[1;92m00:00:00\u001B[0m\n\u001B[1;36m2\u001B[0m        \u001B[1;36m2011\u001B[0m-\u001B[1;36m01\u001B[0m-\u001B[1;36m10\u001B[0m \u001B[1;92m00:00:00\u001B[0m\n\u001B[1;36m3\u001B[0m        \u001B[1;36m2011\u001B[0m-\u001B[1;36m01\u001B[0m-\u001B[1;36m10\u001B[0m \u001B[1;92m00:00:00\u001B[0m\n\u001B[1;36m4\u001B[0m        \u001B[1;36m2011\u001B[0m-\u001B[1;36m01\u001B[0m-\u001B[1;36m10\u001B[0m \u001B[1;92m00:00:00\u001B[0m\n                \u001B[33m...\u001B[0m         \n\u001B[1;36m15639\u001B[0m    \u001B[1;36m2015\u001B[0m-\u001B[1;36m12\u001B[0m-\u001B[1;36m25\u001B[0m \u001B[1;92m00:00:00\u001B[0m\n\u001B[1;36m15640\u001B[0m    \u001B[1;36m2015\u001B[0m-\u001B[1;36m12\u001B[0m-\u001B[1;36m25\u001B[0m \u001B[1;92m00:00:00\u001B[0m\n\u001B[1;36m15641\u001B[0m    \u001B[1;36m2015\u001B[0m-\u001B[1;36m12\u001B[0m-\u001B[1;36m25\u001B[0m \u001B[1;92m00:00:00\u001B[0m\n\u001B[1;36m15642\u001B[0m    \u001B[1;36m2015\u001B[0m-\u001B[1;36m12\u001B[0m-\u001B[1;36m25\u001B[0m \u001B[1;92m00:00:00\u001B[0m\n\u001B[1;36m15643\u001B[0m    \u001B[1;36m2015\u001B[0m-\u001B[1;36m12\u001B[0m-\u001B[1;36m25\u001B[0m \u001B[1;92m00:00:00\u001B[0m\nName: order.date, Length: \u001B[1;36m15644\u001B[0m, dtype: object\n",
      "text/html": "<pre style=\"white-space:pre;overflow-x:auto;line-height:normal;font-family:Menlo,'DejaVu Sans Mono',consolas,'Courier New',monospace\">\n<span style=\"color: #008080; text-decoration-color: #008080; font-weight: bold\">0</span>        <span style=\"color: #008080; text-decoration-color: #008080; font-weight: bold\">2011</span>-<span style=\"color: #008080; text-decoration-color: #008080; font-weight: bold\">01</span>-<span style=\"color: #008080; text-decoration-color: #008080; font-weight: bold\">07</span> <span style=\"color: #00ff00; text-decoration-color: #00ff00; font-weight: bold\">00:00:00</span>\n<span style=\"color: #008080; text-decoration-color: #008080; font-weight: bold\">1</span>        <span style=\"color: #008080; text-decoration-color: #008080; font-weight: bold\">2011</span>-<span style=\"color: #008080; text-decoration-color: #008080; font-weight: bold\">01</span>-<span style=\"color: #008080; text-decoration-color: #008080; font-weight: bold\">07</span> <span style=\"color: #00ff00; text-decoration-color: #00ff00; font-weight: bold\">00:00:00</span>\n<span style=\"color: #008080; text-decoration-color: #008080; font-weight: bold\">2</span>        <span style=\"color: #008080; text-decoration-color: #008080; font-weight: bold\">2011</span>-<span style=\"color: #008080; text-decoration-color: #008080; font-weight: bold\">01</span>-<span style=\"color: #008080; text-decoration-color: #008080; font-weight: bold\">10</span> <span style=\"color: #00ff00; text-decoration-color: #00ff00; font-weight: bold\">00:00:00</span>\n<span style=\"color: #008080; text-decoration-color: #008080; font-weight: bold\">3</span>        <span style=\"color: #008080; text-decoration-color: #008080; font-weight: bold\">2011</span>-<span style=\"color: #008080; text-decoration-color: #008080; font-weight: bold\">01</span>-<span style=\"color: #008080; text-decoration-color: #008080; font-weight: bold\">10</span> <span style=\"color: #00ff00; text-decoration-color: #00ff00; font-weight: bold\">00:00:00</span>\n<span style=\"color: #008080; text-decoration-color: #008080; font-weight: bold\">4</span>        <span style=\"color: #008080; text-decoration-color: #008080; font-weight: bold\">2011</span>-<span style=\"color: #008080; text-decoration-color: #008080; font-weight: bold\">01</span>-<span style=\"color: #008080; text-decoration-color: #008080; font-weight: bold\">10</span> <span style=\"color: #00ff00; text-decoration-color: #00ff00; font-weight: bold\">00:00:00</span>\n                <span style=\"color: #808000; text-decoration-color: #808000\">...</span>         \n<span style=\"color: #008080; text-decoration-color: #008080; font-weight: bold\">15639</span>    <span style=\"color: #008080; text-decoration-color: #008080; font-weight: bold\">2015</span>-<span style=\"color: #008080; text-decoration-color: #008080; font-weight: bold\">12</span>-<span style=\"color: #008080; text-decoration-color: #008080; font-weight: bold\">25</span> <span style=\"color: #00ff00; text-decoration-color: #00ff00; font-weight: bold\">00:00:00</span>\n<span style=\"color: #008080; text-decoration-color: #008080; font-weight: bold\">15640</span>    <span style=\"color: #008080; text-decoration-color: #008080; font-weight: bold\">2015</span>-<span style=\"color: #008080; text-decoration-color: #008080; font-weight: bold\">12</span>-<span style=\"color: #008080; text-decoration-color: #008080; font-weight: bold\">25</span> <span style=\"color: #00ff00; text-decoration-color: #00ff00; font-weight: bold\">00:00:00</span>\n<span style=\"color: #008080; text-decoration-color: #008080; font-weight: bold\">15641</span>    <span style=\"color: #008080; text-decoration-color: #008080; font-weight: bold\">2015</span>-<span style=\"color: #008080; text-decoration-color: #008080; font-weight: bold\">12</span>-<span style=\"color: #008080; text-decoration-color: #008080; font-weight: bold\">25</span> <span style=\"color: #00ff00; text-decoration-color: #00ff00; font-weight: bold\">00:00:00</span>\n<span style=\"color: #008080; text-decoration-color: #008080; font-weight: bold\">15642</span>    <span style=\"color: #008080; text-decoration-color: #008080; font-weight: bold\">2015</span>-<span style=\"color: #008080; text-decoration-color: #008080; font-weight: bold\">12</span>-<span style=\"color: #008080; text-decoration-color: #008080; font-weight: bold\">25</span> <span style=\"color: #00ff00; text-decoration-color: #00ff00; font-weight: bold\">00:00:00</span>\n<span style=\"color: #008080; text-decoration-color: #008080; font-weight: bold\">15643</span>    <span style=\"color: #008080; text-decoration-color: #008080; font-weight: bold\">2015</span>-<span style=\"color: #008080; text-decoration-color: #008080; font-weight: bold\">12</span>-<span style=\"color: #008080; text-decoration-color: #008080; font-weight: bold\">25</span> <span style=\"color: #00ff00; text-decoration-color: #00ff00; font-weight: bold\">00:00:00</span>\nName: order.date, Length: <span style=\"color: #008080; text-decoration-color: #008080; font-weight: bold\">15644</span>, dtype: object\n</pre>\n"
     },
     "metadata": {},
     "output_type": "display_data"
    }
   ],
   "source": [
    "df['order.date']"
   ]
  },
  {
   "cell_type": "code",
   "execution_count": 208,
   "metadata": {},
   "outputs": [],
   "source": [
    "df['order.date'] = pd.to_datetime(df['order.date'])"
   ]
  },
  {
   "cell_type": "code",
   "execution_count": 209,
   "metadata": {},
   "outputs": [
    {
     "data": {
      "text/plain": "\n\u001B[1;36m0\u001B[0m       \u001B[1;36m2011\u001B[0m-\u001B[1;36m01\u001B[0m-\u001B[1;36m07\u001B[0m\n\u001B[1;36m1\u001B[0m       \u001B[1;36m2011\u001B[0m-\u001B[1;36m01\u001B[0m-\u001B[1;36m07\u001B[0m\n\u001B[1;36m2\u001B[0m       \u001B[1;36m2011\u001B[0m-\u001B[1;36m01\u001B[0m-\u001B[1;36m10\u001B[0m\n\u001B[1;36m3\u001B[0m       \u001B[1;36m2011\u001B[0m-\u001B[1;36m01\u001B[0m-\u001B[1;36m10\u001B[0m\n\u001B[1;36m4\u001B[0m       \u001B[1;36m2011\u001B[0m-\u001B[1;36m01\u001B[0m-\u001B[1;36m10\u001B[0m\n           \u001B[33m...\u001B[0m    \n\u001B[1;36m15639\u001B[0m   \u001B[1;36m2015\u001B[0m-\u001B[1;36m12\u001B[0m-\u001B[1;36m25\u001B[0m\n\u001B[1;36m15640\u001B[0m   \u001B[1;36m2015\u001B[0m-\u001B[1;36m12\u001B[0m-\u001B[1;36m25\u001B[0m\n\u001B[1;36m15641\u001B[0m   \u001B[1;36m2015\u001B[0m-\u001B[1;36m12\u001B[0m-\u001B[1;36m25\u001B[0m\n\u001B[1;36m15642\u001B[0m   \u001B[1;36m2015\u001B[0m-\u001B[1;36m12\u001B[0m-\u001B[1;36m25\u001B[0m\n\u001B[1;36m15643\u001B[0m   \u001B[1;36m2015\u001B[0m-\u001B[1;36m12\u001B[0m-\u001B[1;36m25\u001B[0m\nName: order.date, Length: \u001B[1;36m15644\u001B[0m, dtype: datetime64\u001B[1m[\u001B[0mns\u001B[1m]\u001B[0m\n",
      "text/html": "<pre style=\"white-space:pre;overflow-x:auto;line-height:normal;font-family:Menlo,'DejaVu Sans Mono',consolas,'Courier New',monospace\">\n<span style=\"color: #008080; text-decoration-color: #008080; font-weight: bold\">0</span>       <span style=\"color: #008080; text-decoration-color: #008080; font-weight: bold\">2011</span>-<span style=\"color: #008080; text-decoration-color: #008080; font-weight: bold\">01</span>-<span style=\"color: #008080; text-decoration-color: #008080; font-weight: bold\">07</span>\n<span style=\"color: #008080; text-decoration-color: #008080; font-weight: bold\">1</span>       <span style=\"color: #008080; text-decoration-color: #008080; font-weight: bold\">2011</span>-<span style=\"color: #008080; text-decoration-color: #008080; font-weight: bold\">01</span>-<span style=\"color: #008080; text-decoration-color: #008080; font-weight: bold\">07</span>\n<span style=\"color: #008080; text-decoration-color: #008080; font-weight: bold\">2</span>       <span style=\"color: #008080; text-decoration-color: #008080; font-weight: bold\">2011</span>-<span style=\"color: #008080; text-decoration-color: #008080; font-weight: bold\">01</span>-<span style=\"color: #008080; text-decoration-color: #008080; font-weight: bold\">10</span>\n<span style=\"color: #008080; text-decoration-color: #008080; font-weight: bold\">3</span>       <span style=\"color: #008080; text-decoration-color: #008080; font-weight: bold\">2011</span>-<span style=\"color: #008080; text-decoration-color: #008080; font-weight: bold\">01</span>-<span style=\"color: #008080; text-decoration-color: #008080; font-weight: bold\">10</span>\n<span style=\"color: #008080; text-decoration-color: #008080; font-weight: bold\">4</span>       <span style=\"color: #008080; text-decoration-color: #008080; font-weight: bold\">2011</span>-<span style=\"color: #008080; text-decoration-color: #008080; font-weight: bold\">01</span>-<span style=\"color: #008080; text-decoration-color: #008080; font-weight: bold\">10</span>\n           <span style=\"color: #808000; text-decoration-color: #808000\">...</span>    \n<span style=\"color: #008080; text-decoration-color: #008080; font-weight: bold\">15639</span>   <span style=\"color: #008080; text-decoration-color: #008080; font-weight: bold\">2015</span>-<span style=\"color: #008080; text-decoration-color: #008080; font-weight: bold\">12</span>-<span style=\"color: #008080; text-decoration-color: #008080; font-weight: bold\">25</span>\n<span style=\"color: #008080; text-decoration-color: #008080; font-weight: bold\">15640</span>   <span style=\"color: #008080; text-decoration-color: #008080; font-weight: bold\">2015</span>-<span style=\"color: #008080; text-decoration-color: #008080; font-weight: bold\">12</span>-<span style=\"color: #008080; text-decoration-color: #008080; font-weight: bold\">25</span>\n<span style=\"color: #008080; text-decoration-color: #008080; font-weight: bold\">15641</span>   <span style=\"color: #008080; text-decoration-color: #008080; font-weight: bold\">2015</span>-<span style=\"color: #008080; text-decoration-color: #008080; font-weight: bold\">12</span>-<span style=\"color: #008080; text-decoration-color: #008080; font-weight: bold\">25</span>\n<span style=\"color: #008080; text-decoration-color: #008080; font-weight: bold\">15642</span>   <span style=\"color: #008080; text-decoration-color: #008080; font-weight: bold\">2015</span>-<span style=\"color: #008080; text-decoration-color: #008080; font-weight: bold\">12</span>-<span style=\"color: #008080; text-decoration-color: #008080; font-weight: bold\">25</span>\n<span style=\"color: #008080; text-decoration-color: #008080; font-weight: bold\">15643</span>   <span style=\"color: #008080; text-decoration-color: #008080; font-weight: bold\">2015</span>-<span style=\"color: #008080; text-decoration-color: #008080; font-weight: bold\">12</span>-<span style=\"color: #008080; text-decoration-color: #008080; font-weight: bold\">25</span>\nName: order.date, Length: <span style=\"color: #008080; text-decoration-color: #008080; font-weight: bold\">15644</span>, dtype: datetime64<span style=\"font-weight: bold\">[</span>ns<span style=\"font-weight: bold\">]</span>\n</pre>\n"
     },
     "metadata": {},
     "output_type": "display_data"
    }
   ],
   "source": [
    "df['order.date']"
   ]
  },
  {
   "cell_type": "code",
   "execution_count": 210,
   "metadata": {},
   "outputs": [
    {
     "name": "stdout",
     "output_type": "stream",
     "text": [
      "<class 'pandas.core.frame.DataFrame'>\n",
      "Int64Index: 15644 entries, 0 to 15643\n",
      "Data columns (total 13 columns):\n",
      " #   Column         Non-Null Count  Dtype         \n",
      "---  ------         --------------  -----         \n",
      " 0   order.id       15644 non-null  int64         \n",
      " 1   order.line     15644 non-null  int64         \n",
      " 2   order.date     15644 non-null  datetime64[ns]\n",
      " 3   customer.id    15644 non-null  int64         \n",
      " 4   product.id     15644 non-null  int64         \n",
      " 5   quantity       15644 non-null  int64         \n",
      " 6   bike.id        15644 non-null  int64         \n",
      " 7   model          15644 non-null  object        \n",
      " 8   description    15644 non-null  object        \n",
      " 9   price          15644 non-null  int64         \n",
      " 10  bikeshop.id    15644 non-null  int64         \n",
      " 11  bikeshop.name  15644 non-null  object        \n",
      " 12  location       15644 non-null  object        \n",
      "dtypes: datetime64[ns](1), int64(8), object(4)\n",
      "memory usage: 1.7+ MB\n"
     ]
    }
   ],
   "source": [
    "bikes_orderlines_joined_df.info()"
   ]
  },
  {
   "cell_type": "code",
   "execution_count": 211,
   "metadata": {},
   "outputs": [
    {
     "name": "stdout",
     "output_type": "stream",
     "text": [
      "<class 'pandas.core.frame.DataFrame'>\n",
      "Int64Index: 15644 entries, 0 to 15643\n",
      "Data columns (total 13 columns):\n",
      " #   Column         Non-Null Count  Dtype \n",
      "---  ------         --------------  ----- \n",
      " 0   order.id       15644 non-null  int64 \n",
      " 1   order.line     15644 non-null  int64 \n",
      " 2   order.date     15644 non-null  object\n",
      " 3   customer.id    15644 non-null  int64 \n",
      " 4   product.id     15644 non-null  int64 \n",
      " 5   quantity       15644 non-null  int64 \n",
      " 6   bike.id        15644 non-null  int64 \n",
      " 7   model          15644 non-null  object\n",
      " 8   description    15644 non-null  object\n",
      " 9   price          15644 non-null  int64 \n",
      " 10  bikeshop.id    15644 non-null  int64 \n",
      " 11  bikeshop.name  15644 non-null  object\n",
      " 12  location       15644 non-null  object\n",
      "dtypes: int64(8), object(5)\n",
      "memory usage: 1.7+ MB\n"
     ]
    }
   ],
   "source": [
    "df2.info()"
   ]
  },
  {
   "cell_type": "code",
   "execution_count": 212,
   "metadata": {},
   "outputs": [
    {
     "name": "stdout",
     "output_type": "stream",
     "text": [
      "<class 'pandas.core.frame.DataFrame'>\n",
      "Int64Index: 15644 entries, 0 to 15643\n",
      "Data columns (total 13 columns):\n",
      " #   Column         Non-Null Count  Dtype         \n",
      "---  ------         --------------  -----         \n",
      " 0   order.id       15644 non-null  int64         \n",
      " 1   order.line     15644 non-null  int64         \n",
      " 2   order.date     15644 non-null  datetime64[ns]\n",
      " 3   customer.id    15644 non-null  int64         \n",
      " 4   product.id     15644 non-null  int64         \n",
      " 5   quantity       15644 non-null  int64         \n",
      " 6   bike.id        15644 non-null  int64         \n",
      " 7   model          15644 non-null  object        \n",
      " 8   description    15644 non-null  object        \n",
      " 9   price          15644 non-null  int64         \n",
      " 10  bikeshop.id    15644 non-null  int64         \n",
      " 11  bikeshop.name  15644 non-null  object        \n",
      " 12  location       15644 non-null  object        \n",
      "dtypes: datetime64[ns](1), int64(8), object(4)\n",
      "memory usage: 1.7+ MB\n"
     ]
    }
   ],
   "source": [
    "df.info()"
   ]
  },
  {
   "cell_type": "code",
   "execution_count": 213,
   "metadata": {},
   "outputs": [
    {
     "data": {
      "text/plain": "\n\u001B[1;36m0\u001B[0m               Mountain - Over Mountain - Carbon\n\u001B[1;36m1\u001B[0m               Mountain - Over Mountain - Carbon\n\u001B[1;36m2\u001B[0m                     Mountain - Trail - Aluminum\n\u001B[1;36m3\u001B[0m               Mountain - Over Mountain - Carbon\n\u001B[1;36m4\u001B[0m                      Road - Elite Road - Carbon\n                           \u001B[33m...\u001B[0m                   \n\u001B[1;36m15639\u001B[0m                Road - Elite Road - Aluminum\n\u001B[1;36m15640\u001B[0m                 Mountain - Sport - Aluminum\n\u001B[1;36m15641\u001B[0m                Road - Elite Road - Aluminum\n\u001B[1;36m15642\u001B[0m      Mountain - Cross Country Race - Carbon\n\u001B[1;36m15643\u001B[0m    Mountain - Cross Country Race - Aluminum\nName: description, Length: \u001B[1;36m15644\u001B[0m, dtype: object\n",
      "text/html": "<pre style=\"white-space:pre;overflow-x:auto;line-height:normal;font-family:Menlo,'DejaVu Sans Mono',consolas,'Courier New',monospace\">\n<span style=\"color: #008080; text-decoration-color: #008080; font-weight: bold\">0</span>               Mountain - Over Mountain - Carbon\n<span style=\"color: #008080; text-decoration-color: #008080; font-weight: bold\">1</span>               Mountain - Over Mountain - Carbon\n<span style=\"color: #008080; text-decoration-color: #008080; font-weight: bold\">2</span>                     Mountain - Trail - Aluminum\n<span style=\"color: #008080; text-decoration-color: #008080; font-weight: bold\">3</span>               Mountain - Over Mountain - Carbon\n<span style=\"color: #008080; text-decoration-color: #008080; font-weight: bold\">4</span>                      Road - Elite Road - Carbon\n                           <span style=\"color: #808000; text-decoration-color: #808000\">...</span>                   \n<span style=\"color: #008080; text-decoration-color: #008080; font-weight: bold\">15639</span>                Road - Elite Road - Aluminum\n<span style=\"color: #008080; text-decoration-color: #008080; font-weight: bold\">15640</span>                 Mountain - Sport - Aluminum\n<span style=\"color: #008080; text-decoration-color: #008080; font-weight: bold\">15641</span>                Road - Elite Road - Aluminum\n<span style=\"color: #008080; text-decoration-color: #008080; font-weight: bold\">15642</span>      Mountain - Cross Country Race - Carbon\n<span style=\"color: #008080; text-decoration-color: #008080; font-weight: bold\">15643</span>    Mountain - Cross Country Race - Aluminum\nName: description, Length: <span style=\"color: #008080; text-decoration-color: #008080; font-weight: bold\">15644</span>, dtype: object\n</pre>\n"
     },
     "metadata": {},
     "output_type": "display_data"
    }
   ],
   "source": [
    "df.description"
   ]
  },
  {
   "cell_type": "code",
   "execution_count": 214,
   "metadata": {},
   "outputs": [
    {
     "data": {
      "text/plain": "\n\u001B[1;36m0\u001B[0m             Ithaca, NY\n\u001B[1;36m1\u001B[0m             Ithaca, NY\n\u001B[1;36m2\u001B[0m        Kansas City, KS\n\u001B[1;36m3\u001B[0m        Kansas City, KS\n\u001B[1;36m4\u001B[0m         Louisville, KY\n              \u001B[33m...\u001B[0m       \n\u001B[1;36m15639\u001B[0m         Austin, TX\n\u001B[1;36m15640\u001B[0m         Austin, TX\n\u001B[1;36m15641\u001B[0m         Austin, TX\n\u001B[1;36m15642\u001B[0m         Austin, TX\n\u001B[1;36m15643\u001B[0m         Austin, TX\nName: location, Length: \u001B[1;36m15644\u001B[0m, dtype: object\n",
      "text/html": "<pre style=\"white-space:pre;overflow-x:auto;line-height:normal;font-family:Menlo,'DejaVu Sans Mono',consolas,'Courier New',monospace\">\n<span style=\"color: #008080; text-decoration-color: #008080; font-weight: bold\">0</span>             Ithaca, NY\n<span style=\"color: #008080; text-decoration-color: #008080; font-weight: bold\">1</span>             Ithaca, NY\n<span style=\"color: #008080; text-decoration-color: #008080; font-weight: bold\">2</span>        Kansas City, KS\n<span style=\"color: #008080; text-decoration-color: #008080; font-weight: bold\">3</span>        Kansas City, KS\n<span style=\"color: #008080; text-decoration-color: #008080; font-weight: bold\">4</span>         Louisville, KY\n              <span style=\"color: #808000; text-decoration-color: #808000\">...</span>       \n<span style=\"color: #008080; text-decoration-color: #008080; font-weight: bold\">15639</span>         Austin, TX\n<span style=\"color: #008080; text-decoration-color: #008080; font-weight: bold\">15640</span>         Austin, TX\n<span style=\"color: #008080; text-decoration-color: #008080; font-weight: bold\">15641</span>         Austin, TX\n<span style=\"color: #008080; text-decoration-color: #008080; font-weight: bold\">15642</span>         Austin, TX\n<span style=\"color: #008080; text-decoration-color: #008080; font-weight: bold\">15643</span>         Austin, TX\nName: location, Length: <span style=\"color: #008080; text-decoration-color: #008080; font-weight: bold\">15644</span>, dtype: object\n</pre>\n"
     },
     "metadata": {},
     "output_type": "display_data"
    }
   ],
   "source": [
    "df.location "
   ]
  },
  {
   "cell_type": "code",
   "execution_count": 215,
   "metadata": {},
   "outputs": [
    {
     "data": {
      "text/html": "<div>\n<style scoped>\n    .dataframe tbody tr th:only-of-type {\n        vertical-align: middle;\n    }\n\n    .dataframe tbody tr th {\n        vertical-align: top;\n    }\n\n    .dataframe thead th {\n        text-align: right;\n    }\n</style>\n<table border=\"1\" class=\"dataframe\">\n  <thead>\n    <tr style=\"text-align: right;\">\n      <th></th>\n      <th>0</th>\n      <th>1</th>\n      <th>2</th>\n      <th>3</th>\n      <th>4</th>\n      <th>5</th>\n      <th>6</th>\n      <th>7</th>\n      <th>8</th>\n      <th>9</th>\n      <th>...</th>\n      <th>15634</th>\n      <th>15635</th>\n      <th>15636</th>\n      <th>15637</th>\n      <th>15638</th>\n      <th>15639</th>\n      <th>15640</th>\n      <th>15641</th>\n      <th>15642</th>\n      <th>15643</th>\n    </tr>\n  </thead>\n  <tbody>\n    <tr>\n      <th>order.id</th>\n      <td>1</td>\n      <td>1</td>\n      <td>2</td>\n      <td>2</td>\n      <td>3</td>\n      <td>3</td>\n      <td>3</td>\n      <td>3</td>\n      <td>3</td>\n      <td>4</td>\n      <td>...</td>\n      <td>1998</td>\n      <td>1999</td>\n      <td>2000</td>\n      <td>2000</td>\n      <td>2000</td>\n      <td>2000</td>\n      <td>2000</td>\n      <td>2000</td>\n      <td>2000</td>\n      <td>2000</td>\n    </tr>\n    <tr>\n      <th>order.line</th>\n      <td>1</td>\n      <td>2</td>\n      <td>1</td>\n      <td>2</td>\n      <td>1</td>\n      <td>2</td>\n      <td>3</td>\n      <td>4</td>\n      <td>5</td>\n      <td>1</td>\n      <td>...</td>\n      <td>2</td>\n      <td>1</td>\n      <td>1</td>\n      <td>2</td>\n      <td>3</td>\n      <td>4</td>\n      <td>5</td>\n      <td>6</td>\n      <td>7</td>\n      <td>8</td>\n    </tr>\n    <tr>\n      <th>order.date</th>\n      <td>2011-01-07 00:00:00</td>\n      <td>2011-01-07 00:00:00</td>\n      <td>2011-01-10 00:00:00</td>\n      <td>2011-01-10 00:00:00</td>\n      <td>2011-01-10 00:00:00</td>\n      <td>2011-01-10 00:00:00</td>\n      <td>2011-01-10 00:00:00</td>\n      <td>2011-01-10 00:00:00</td>\n      <td>2011-01-10 00:00:00</td>\n      <td>2011-01-11 00:00:00</td>\n      <td>...</td>\n      <td>2015-12-23 00:00:00</td>\n      <td>2015-12-24 00:00:00</td>\n      <td>2015-12-25 00:00:00</td>\n      <td>2015-12-25 00:00:00</td>\n      <td>2015-12-25 00:00:00</td>\n      <td>2015-12-25 00:00:00</td>\n      <td>2015-12-25 00:00:00</td>\n      <td>2015-12-25 00:00:00</td>\n      <td>2015-12-25 00:00:00</td>\n      <td>2015-12-25 00:00:00</td>\n    </tr>\n    <tr>\n      <th>customer.id</th>\n      <td>2</td>\n      <td>2</td>\n      <td>10</td>\n      <td>10</td>\n      <td>6</td>\n      <td>6</td>\n      <td>6</td>\n      <td>6</td>\n      <td>6</td>\n      <td>22</td>\n      <td>...</td>\n      <td>9</td>\n      <td>8</td>\n      <td>15</td>\n      <td>15</td>\n      <td>15</td>\n      <td>15</td>\n      <td>15</td>\n      <td>15</td>\n      <td>15</td>\n      <td>15</td>\n    </tr>\n    <tr>\n      <th>product.id</th>\n      <td>48</td>\n      <td>52</td>\n      <td>76</td>\n      <td>52</td>\n      <td>2</td>\n      <td>50</td>\n      <td>1</td>\n      <td>4</td>\n      <td>34</td>\n      <td>26</td>\n      <td>...</td>\n      <td>42</td>\n      <td>14</td>\n      <td>35</td>\n      <td>2</td>\n      <td>19</td>\n      <td>14</td>\n      <td>90</td>\n      <td>17</td>\n      <td>70</td>\n      <td>61</td>\n    </tr>\n    <tr>\n      <th>quantity</th>\n      <td>1</td>\n      <td>1</td>\n      <td>1</td>\n      <td>1</td>\n      <td>1</td>\n      <td>1</td>\n      <td>1</td>\n      <td>1</td>\n      <td>1</td>\n      <td>1</td>\n      <td>...</td>\n      <td>1</td>\n      <td>1</td>\n      <td>1</td>\n      <td>1</td>\n      <td>1</td>\n      <td>1</td>\n      <td>1</td>\n      <td>1</td>\n      <td>1</td>\n      <td>1</td>\n    </tr>\n    <tr>\n      <th>bike.id</th>\n      <td>48</td>\n      <td>52</td>\n      <td>76</td>\n      <td>52</td>\n      <td>2</td>\n      <td>50</td>\n      <td>1</td>\n      <td>4</td>\n      <td>34</td>\n      <td>26</td>\n      <td>...</td>\n      <td>42</td>\n      <td>14</td>\n      <td>35</td>\n      <td>2</td>\n      <td>19</td>\n      <td>14</td>\n      <td>90</td>\n      <td>17</td>\n      <td>70</td>\n      <td>61</td>\n    </tr>\n    <tr>\n      <th>model</th>\n      <td>Jekyll Carbon 2</td>\n      <td>Trigger Carbon 2</td>\n      <td>Beast of the East 1</td>\n      <td>Trigger Carbon 2</td>\n      <td>Supersix Evo Hi-Mod Team</td>\n      <td>Jekyll Carbon 4</td>\n      <td>Supersix Evo Black Inc.</td>\n      <td>Supersix Evo Hi-Mod Dura Ace 2</td>\n      <td>Synapse Disc 105</td>\n      <td>Synapse Carbon Disc Ultegra D12</td>\n      <td>...</td>\n      <td>Slice 105</td>\n      <td>CAAD Disc Ultegra</td>\n      <td>Synapse Disc Tiagra</td>\n      <td>Supersix Evo Hi-Mod Team</td>\n      <td>CAAD8 Tiagra</td>\n      <td>CAAD Disc Ultegra</td>\n      <td>Trail 2</td>\n      <td>CAAD12 105</td>\n      <td>F-Si Carbon 4</td>\n      <td>Scalpel-Si 5</td>\n    </tr>\n    <tr>\n      <th>description</th>\n      <td>Mountain - Over Mountain - Carbon</td>\n      <td>Mountain - Over Mountain - Carbon</td>\n      <td>Mountain - Trail - Aluminum</td>\n      <td>Mountain - Over Mountain - Carbon</td>\n      <td>Road - Elite Road - Carbon</td>\n      <td>Mountain - Over Mountain - Carbon</td>\n      <td>Road - Elite Road - Carbon</td>\n      <td>Road - Elite Road - Carbon</td>\n      <td>Road - Endurance Road - Aluminum</td>\n      <td>Road - Endurance Road - Carbon</td>\n      <td>...</td>\n      <td>Road - Triathalon - Carbon</td>\n      <td>Road - Elite Road - Aluminum</td>\n      <td>Road - Endurance Road - Aluminum</td>\n      <td>Road - Elite Road - Carbon</td>\n      <td>Road - Elite Road - Aluminum</td>\n      <td>Road - Elite Road - Aluminum</td>\n      <td>Mountain - Sport - Aluminum</td>\n      <td>Road - Elite Road - Aluminum</td>\n      <td>Mountain - Cross Country Race - Carbon</td>\n      <td>Mountain - Cross Country Race - Aluminum</td>\n    </tr>\n    <tr>\n      <th>price</th>\n      <td>6070</td>\n      <td>5970</td>\n      <td>2770</td>\n      <td>5970</td>\n      <td>10660</td>\n      <td>3200</td>\n      <td>12790</td>\n      <td>5330</td>\n      <td>1570</td>\n      <td>4800</td>\n      <td>...</td>\n      <td>1950</td>\n      <td>2660</td>\n      <td>1250</td>\n      <td>10660</td>\n      <td>1250</td>\n      <td>2660</td>\n      <td>1350</td>\n      <td>1680</td>\n      <td>2880</td>\n      <td>3200</td>\n    </tr>\n    <tr>\n      <th>bikeshop.id</th>\n      <td>2</td>\n      <td>2</td>\n      <td>10</td>\n      <td>10</td>\n      <td>6</td>\n      <td>6</td>\n      <td>6</td>\n      <td>6</td>\n      <td>6</td>\n      <td>22</td>\n      <td>...</td>\n      <td>9</td>\n      <td>8</td>\n      <td>15</td>\n      <td>15</td>\n      <td>15</td>\n      <td>15</td>\n      <td>15</td>\n      <td>15</td>\n      <td>15</td>\n      <td>15</td>\n    </tr>\n    <tr>\n      <th>bikeshop.name</th>\n      <td>Ithaca Mountain Climbers</td>\n      <td>Ithaca Mountain Climbers</td>\n      <td>Kansas City 29ers</td>\n      <td>Kansas City 29ers</td>\n      <td>Louisville Race Equipment</td>\n      <td>Louisville Race Equipment</td>\n      <td>Louisville Race Equipment</td>\n      <td>Louisville Race Equipment</td>\n      <td>Louisville Race Equipment</td>\n      <td>Ann Arbor Speed</td>\n      <td>...</td>\n      <td>Minneapolis Bike Shop</td>\n      <td>Denver Bike Shop</td>\n      <td>Austin Cruisers</td>\n      <td>Austin Cruisers</td>\n      <td>Austin Cruisers</td>\n      <td>Austin Cruisers</td>\n      <td>Austin Cruisers</td>\n      <td>Austin Cruisers</td>\n      <td>Austin Cruisers</td>\n      <td>Austin Cruisers</td>\n    </tr>\n    <tr>\n      <th>location</th>\n      <td>Ithaca, NY</td>\n      <td>Ithaca, NY</td>\n      <td>Kansas City, KS</td>\n      <td>Kansas City, KS</td>\n      <td>Louisville, KY</td>\n      <td>Louisville, KY</td>\n      <td>Louisville, KY</td>\n      <td>Louisville, KY</td>\n      <td>Louisville, KY</td>\n      <td>Ann Arbor, MI</td>\n      <td>...</td>\n      <td>Minneapolis, MN</td>\n      <td>Denver, CO</td>\n      <td>Austin, TX</td>\n      <td>Austin, TX</td>\n      <td>Austin, TX</td>\n      <td>Austin, TX</td>\n      <td>Austin, TX</td>\n      <td>Austin, TX</td>\n      <td>Austin, TX</td>\n      <td>Austin, TX</td>\n    </tr>\n  </tbody>\n</table>\n<p>13 rows × 15644 columns</p>\n</div>"
     },
     "execution_count": 215,
     "metadata": {},
     "output_type": "execute_result"
    }
   ],
   "source": [
    "df.T"
   ]
  },
  {
   "cell_type": "code",
   "execution_count": 216,
   "metadata": {},
   "outputs": [
    {
     "data": {
      "text/plain": "\u001B[1m[\u001B[0m\u001B[32m'Mountain'\u001B[0m, \u001B[32m'Over Mountain'\u001B[0m, \u001B[32m'Carbon'\u001B[0m\u001B[1m]\u001B[0m\n",
      "text/html": "<pre style=\"white-space:pre;overflow-x:auto;line-height:normal;font-family:Menlo,'DejaVu Sans Mono',consolas,'Courier New',monospace\"><span style=\"font-weight: bold\">[</span><span style=\"color: #008000; text-decoration-color: #008000\">'Mountain'</span>, <span style=\"color: #008000; text-decoration-color: #008000\">'Over Mountain'</span>, <span style=\"color: #008000; text-decoration-color: #008000\">'Carbon'</span><span style=\"font-weight: bold\">]</span>\n</pre>\n"
     },
     "metadata": {},
     "output_type": "display_data"
    }
   ],
   "source": [
    "# splitting Description into cat_1, cat_2 and frame_material\n",
    "\"Mountain - Over Mountain - Carbon\".split(\" - \")\n"
   ]
  },
  {
   "cell_type": "code",
   "execution_count": 217,
   "metadata": {},
   "outputs": [],
   "source": [
    "temp_df = df['description'].str.split(pat=\" - \", expand = True) #allows us to apply string methods"
   ]
  },
  {
   "cell_type": "code",
   "execution_count": 218,
   "metadata": {},
   "outputs": [],
   "source": [
    "df['category.1'] = temp_df[0]"
   ]
  },
  {
   "cell_type": "code",
   "execution_count": 219,
   "metadata": {},
   "outputs": [
    {
     "data": {
      "text/plain": "\n\u001B[1;36m0\u001B[0m        Mountain\n\u001B[1;36m1\u001B[0m        Mountain\n\u001B[1;36m2\u001B[0m        Mountain\n\u001B[1;36m3\u001B[0m        Mountain\n\u001B[1;36m4\u001B[0m            Road\n           \u001B[33m...\u001B[0m   \n\u001B[1;36m15639\u001B[0m        Road\n\u001B[1;36m15640\u001B[0m    Mountain\n\u001B[1;36m15641\u001B[0m        Road\n\u001B[1;36m15642\u001B[0m    Mountain\n\u001B[1;36m15643\u001B[0m    Mountain\nName: category.\u001B[1;36m1\u001B[0m, Length: \u001B[1;36m15644\u001B[0m, dtype: object\n",
      "text/html": "<pre style=\"white-space:pre;overflow-x:auto;line-height:normal;font-family:Menlo,'DejaVu Sans Mono',consolas,'Courier New',monospace\">\n<span style=\"color: #008080; text-decoration-color: #008080; font-weight: bold\">0</span>        Mountain\n<span style=\"color: #008080; text-decoration-color: #008080; font-weight: bold\">1</span>        Mountain\n<span style=\"color: #008080; text-decoration-color: #008080; font-weight: bold\">2</span>        Mountain\n<span style=\"color: #008080; text-decoration-color: #008080; font-weight: bold\">3</span>        Mountain\n<span style=\"color: #008080; text-decoration-color: #008080; font-weight: bold\">4</span>            Road\n           <span style=\"color: #808000; text-decoration-color: #808000\">...</span>   \n<span style=\"color: #008080; text-decoration-color: #008080; font-weight: bold\">15639</span>        Road\n<span style=\"color: #008080; text-decoration-color: #008080; font-weight: bold\">15640</span>    Mountain\n<span style=\"color: #008080; text-decoration-color: #008080; font-weight: bold\">15641</span>        Road\n<span style=\"color: #008080; text-decoration-color: #008080; font-weight: bold\">15642</span>    Mountain\n<span style=\"color: #008080; text-decoration-color: #008080; font-weight: bold\">15643</span>    Mountain\nName: category.<span style=\"color: #008080; text-decoration-color: #008080; font-weight: bold\">1</span>, Length: <span style=\"color: #008080; text-decoration-color: #008080; font-weight: bold\">15644</span>, dtype: object\n</pre>\n"
     },
     "metadata": {},
     "output_type": "display_data"
    }
   ],
   "source": [
    "df['category.1']"
   ]
  },
  {
   "cell_type": "code",
   "execution_count": 220,
   "metadata": {},
   "outputs": [
    {
     "data": {
      "text/plain": "\n\u001B[1;36m0\u001B[0m             Over Mountain\n\u001B[1;36m1\u001B[0m             Over Mountain\n\u001B[1;36m2\u001B[0m                     Trail\n\u001B[1;36m3\u001B[0m             Over Mountain\n\u001B[1;36m4\u001B[0m                Elite Road\n                \u001B[33m...\u001B[0m        \n\u001B[1;36m15639\u001B[0m            Elite Road\n\u001B[1;36m15640\u001B[0m                 Sport\n\u001B[1;36m15641\u001B[0m            Elite Road\n\u001B[1;36m15642\u001B[0m    Cross Country Race\n\u001B[1;36m15643\u001B[0m    Cross Country Race\nName: category.\u001B[1;36m2\u001B[0m, Length: \u001B[1;36m15644\u001B[0m, dtype: object\n",
      "text/html": "<pre style=\"white-space:pre;overflow-x:auto;line-height:normal;font-family:Menlo,'DejaVu Sans Mono',consolas,'Courier New',monospace\">\n<span style=\"color: #008080; text-decoration-color: #008080; font-weight: bold\">0</span>             Over Mountain\n<span style=\"color: #008080; text-decoration-color: #008080; font-weight: bold\">1</span>             Over Mountain\n<span style=\"color: #008080; text-decoration-color: #008080; font-weight: bold\">2</span>                     Trail\n<span style=\"color: #008080; text-decoration-color: #008080; font-weight: bold\">3</span>             Over Mountain\n<span style=\"color: #008080; text-decoration-color: #008080; font-weight: bold\">4</span>                Elite Road\n                <span style=\"color: #808000; text-decoration-color: #808000\">...</span>        \n<span style=\"color: #008080; text-decoration-color: #008080; font-weight: bold\">15639</span>            Elite Road\n<span style=\"color: #008080; text-decoration-color: #008080; font-weight: bold\">15640</span>                 Sport\n<span style=\"color: #008080; text-decoration-color: #008080; font-weight: bold\">15641</span>            Elite Road\n<span style=\"color: #008080; text-decoration-color: #008080; font-weight: bold\">15642</span>    Cross Country Race\n<span style=\"color: #008080; text-decoration-color: #008080; font-weight: bold\">15643</span>    Cross Country Race\nName: category.<span style=\"color: #008080; text-decoration-color: #008080; font-weight: bold\">2</span>, Length: <span style=\"color: #008080; text-decoration-color: #008080; font-weight: bold\">15644</span>, dtype: object\n</pre>\n"
     },
     "metadata": {},
     "output_type": "display_data"
    }
   ],
   "source": [
    "df['category.2'] = temp_df[1]\n",
    "df['category.2']"
   ]
  },
  {
   "cell_type": "code",
   "execution_count": 221,
   "metadata": {},
   "outputs": [],
   "source": [
    "df['frame.material'] = temp_df[2]"
   ]
  },
  {
   "cell_type": "code",
   "execution_count": 222,
   "metadata": {},
   "outputs": [
    {
     "data": {
      "text/plain": "\n\u001B[1;36m0\u001B[0m          Carbon\n\u001B[1;36m1\u001B[0m          Carbon\n\u001B[1;36m2\u001B[0m        Aluminum\n\u001B[1;36m3\u001B[0m          Carbon\n\u001B[1;36m4\u001B[0m          Carbon\n           \u001B[33m...\u001B[0m   \n\u001B[1;36m15639\u001B[0m    Aluminum\n\u001B[1;36m15640\u001B[0m    Aluminum\n\u001B[1;36m15641\u001B[0m    Aluminum\n\u001B[1;36m15642\u001B[0m      Carbon\n\u001B[1;36m15643\u001B[0m    Aluminum\nName: frame.material, Length: \u001B[1;36m15644\u001B[0m, dtype: object\n",
      "text/html": "<pre style=\"white-space:pre;overflow-x:auto;line-height:normal;font-family:Menlo,'DejaVu Sans Mono',consolas,'Courier New',monospace\">\n<span style=\"color: #008080; text-decoration-color: #008080; font-weight: bold\">0</span>          Carbon\n<span style=\"color: #008080; text-decoration-color: #008080; font-weight: bold\">1</span>          Carbon\n<span style=\"color: #008080; text-decoration-color: #008080; font-weight: bold\">2</span>        Aluminum\n<span style=\"color: #008080; text-decoration-color: #008080; font-weight: bold\">3</span>          Carbon\n<span style=\"color: #008080; text-decoration-color: #008080; font-weight: bold\">4</span>          Carbon\n           <span style=\"color: #808000; text-decoration-color: #808000\">...</span>   \n<span style=\"color: #008080; text-decoration-color: #008080; font-weight: bold\">15639</span>    Aluminum\n<span style=\"color: #008080; text-decoration-color: #008080; font-weight: bold\">15640</span>    Aluminum\n<span style=\"color: #008080; text-decoration-color: #008080; font-weight: bold\">15641</span>    Aluminum\n<span style=\"color: #008080; text-decoration-color: #008080; font-weight: bold\">15642</span>      Carbon\n<span style=\"color: #008080; text-decoration-color: #008080; font-weight: bold\">15643</span>    Aluminum\nName: frame.material, Length: <span style=\"color: #008080; text-decoration-color: #008080; font-weight: bold\">15644</span>, dtype: object\n</pre>\n"
     },
     "metadata": {},
     "output_type": "display_data"
    }
   ],
   "source": [
    "df['frame.material']"
   ]
  },
  {
   "cell_type": "code",
   "execution_count": 223,
   "metadata": {},
   "outputs": [],
   "source": [
    "# df = df.drop('frame_material', axis=1)"
   ]
  },
  {
   "cell_type": "code",
   "execution_count": 224,
   "metadata": {},
   "outputs": [
    {
     "data": {
      "text/html": "<div>\n<style scoped>\n    .dataframe tbody tr th:only-of-type {\n        vertical-align: middle;\n    }\n\n    .dataframe tbody tr th {\n        vertical-align: top;\n    }\n\n    .dataframe thead th {\n        text-align: right;\n    }\n</style>\n<table border=\"1\" class=\"dataframe\">\n  <thead>\n    <tr style=\"text-align: right;\">\n      <th></th>\n      <th>order.id</th>\n      <th>order.line</th>\n      <th>order.date</th>\n      <th>customer.id</th>\n      <th>product.id</th>\n      <th>quantity</th>\n      <th>bike.id</th>\n      <th>model</th>\n      <th>description</th>\n      <th>price</th>\n      <th>bikeshop.id</th>\n      <th>bikeshop.name</th>\n      <th>location</th>\n      <th>category.1</th>\n      <th>category.2</th>\n      <th>frame.material</th>\n    </tr>\n  </thead>\n  <tbody>\n    <tr>\n      <th>0</th>\n      <td>1</td>\n      <td>1</td>\n      <td>2011-01-07</td>\n      <td>2</td>\n      <td>48</td>\n      <td>1</td>\n      <td>48</td>\n      <td>Jekyll Carbon 2</td>\n      <td>Mountain - Over Mountain - Carbon</td>\n      <td>6070</td>\n      <td>2</td>\n      <td>Ithaca Mountain Climbers</td>\n      <td>Ithaca, NY</td>\n      <td>Mountain</td>\n      <td>Over Mountain</td>\n      <td>Carbon</td>\n    </tr>\n    <tr>\n      <th>1</th>\n      <td>1</td>\n      <td>2</td>\n      <td>2011-01-07</td>\n      <td>2</td>\n      <td>52</td>\n      <td>1</td>\n      <td>52</td>\n      <td>Trigger Carbon 2</td>\n      <td>Mountain - Over Mountain - Carbon</td>\n      <td>5970</td>\n      <td>2</td>\n      <td>Ithaca Mountain Climbers</td>\n      <td>Ithaca, NY</td>\n      <td>Mountain</td>\n      <td>Over Mountain</td>\n      <td>Carbon</td>\n    </tr>\n    <tr>\n      <th>2</th>\n      <td>2</td>\n      <td>1</td>\n      <td>2011-01-10</td>\n      <td>10</td>\n      <td>76</td>\n      <td>1</td>\n      <td>76</td>\n      <td>Beast of the East 1</td>\n      <td>Mountain - Trail - Aluminum</td>\n      <td>2770</td>\n      <td>10</td>\n      <td>Kansas City 29ers</td>\n      <td>Kansas City, KS</td>\n      <td>Mountain</td>\n      <td>Trail</td>\n      <td>Aluminum</td>\n    </tr>\n    <tr>\n      <th>3</th>\n      <td>2</td>\n      <td>2</td>\n      <td>2011-01-10</td>\n      <td>10</td>\n      <td>52</td>\n      <td>1</td>\n      <td>52</td>\n      <td>Trigger Carbon 2</td>\n      <td>Mountain - Over Mountain - Carbon</td>\n      <td>5970</td>\n      <td>10</td>\n      <td>Kansas City 29ers</td>\n      <td>Kansas City, KS</td>\n      <td>Mountain</td>\n      <td>Over Mountain</td>\n      <td>Carbon</td>\n    </tr>\n    <tr>\n      <th>4</th>\n      <td>3</td>\n      <td>1</td>\n      <td>2011-01-10</td>\n      <td>6</td>\n      <td>2</td>\n      <td>1</td>\n      <td>2</td>\n      <td>Supersix Evo Hi-Mod Team</td>\n      <td>Road - Elite Road - Carbon</td>\n      <td>10660</td>\n      <td>6</td>\n      <td>Louisville Race Equipment</td>\n      <td>Louisville, KY</td>\n      <td>Road</td>\n      <td>Elite Road</td>\n      <td>Carbon</td>\n    </tr>\n    <tr>\n      <th>...</th>\n      <td>...</td>\n      <td>...</td>\n      <td>...</td>\n      <td>...</td>\n      <td>...</td>\n      <td>...</td>\n      <td>...</td>\n      <td>...</td>\n      <td>...</td>\n      <td>...</td>\n      <td>...</td>\n      <td>...</td>\n      <td>...</td>\n      <td>...</td>\n      <td>...</td>\n      <td>...</td>\n    </tr>\n    <tr>\n      <th>15639</th>\n      <td>2000</td>\n      <td>4</td>\n      <td>2015-12-25</td>\n      <td>15</td>\n      <td>14</td>\n      <td>1</td>\n      <td>14</td>\n      <td>CAAD Disc Ultegra</td>\n      <td>Road - Elite Road - Aluminum</td>\n      <td>2660</td>\n      <td>15</td>\n      <td>Austin Cruisers</td>\n      <td>Austin, TX</td>\n      <td>Road</td>\n      <td>Elite Road</td>\n      <td>Aluminum</td>\n    </tr>\n    <tr>\n      <th>15640</th>\n      <td>2000</td>\n      <td>5</td>\n      <td>2015-12-25</td>\n      <td>15</td>\n      <td>90</td>\n      <td>1</td>\n      <td>90</td>\n      <td>Trail 2</td>\n      <td>Mountain - Sport - Aluminum</td>\n      <td>1350</td>\n      <td>15</td>\n      <td>Austin Cruisers</td>\n      <td>Austin, TX</td>\n      <td>Mountain</td>\n      <td>Sport</td>\n      <td>Aluminum</td>\n    </tr>\n    <tr>\n      <th>15641</th>\n      <td>2000</td>\n      <td>6</td>\n      <td>2015-12-25</td>\n      <td>15</td>\n      <td>17</td>\n      <td>1</td>\n      <td>17</td>\n      <td>CAAD12 105</td>\n      <td>Road - Elite Road - Aluminum</td>\n      <td>1680</td>\n      <td>15</td>\n      <td>Austin Cruisers</td>\n      <td>Austin, TX</td>\n      <td>Road</td>\n      <td>Elite Road</td>\n      <td>Aluminum</td>\n    </tr>\n    <tr>\n      <th>15642</th>\n      <td>2000</td>\n      <td>7</td>\n      <td>2015-12-25</td>\n      <td>15</td>\n      <td>70</td>\n      <td>1</td>\n      <td>70</td>\n      <td>F-Si Carbon 4</td>\n      <td>Mountain - Cross Country Race - Carbon</td>\n      <td>2880</td>\n      <td>15</td>\n      <td>Austin Cruisers</td>\n      <td>Austin, TX</td>\n      <td>Mountain</td>\n      <td>Cross Country Race</td>\n      <td>Carbon</td>\n    </tr>\n    <tr>\n      <th>15643</th>\n      <td>2000</td>\n      <td>8</td>\n      <td>2015-12-25</td>\n      <td>15</td>\n      <td>61</td>\n      <td>1</td>\n      <td>61</td>\n      <td>Scalpel-Si 5</td>\n      <td>Mountain - Cross Country Race - Aluminum</td>\n      <td>3200</td>\n      <td>15</td>\n      <td>Austin Cruisers</td>\n      <td>Austin, TX</td>\n      <td>Mountain</td>\n      <td>Cross Country Race</td>\n      <td>Aluminum</td>\n    </tr>\n  </tbody>\n</table>\n<p>15644 rows × 16 columns</p>\n</div>"
     },
     "execution_count": 224,
     "metadata": {},
     "output_type": "execute_result"
    }
   ],
   "source": [
    "df"
   ]
  },
  {
   "cell_type": "code",
   "execution_count": 225,
   "metadata": {},
   "outputs": [
    {
     "data": {
      "text/html": "<div>\n<style scoped>\n    .dataframe tbody tr th:only-of-type {\n        vertical-align: middle;\n    }\n\n    .dataframe tbody tr th {\n        vertical-align: top;\n    }\n\n    .dataframe thead th {\n        text-align: right;\n    }\n</style>\n<table border=\"1\" class=\"dataframe\">\n  <thead>\n    <tr style=\"text-align: right;\">\n      <th></th>\n      <th>0</th>\n      <th>1</th>\n    </tr>\n  </thead>\n  <tbody>\n    <tr>\n      <th>0</th>\n      <td>Ithaca</td>\n      <td>NY</td>\n    </tr>\n    <tr>\n      <th>1</th>\n      <td>Ithaca</td>\n      <td>NY</td>\n    </tr>\n    <tr>\n      <th>2</th>\n      <td>Kansas City</td>\n      <td>KS</td>\n    </tr>\n    <tr>\n      <th>3</th>\n      <td>Kansas City</td>\n      <td>KS</td>\n    </tr>\n    <tr>\n      <th>4</th>\n      <td>Louisville</td>\n      <td>KY</td>\n    </tr>\n    <tr>\n      <th>...</th>\n      <td>...</td>\n      <td>...</td>\n    </tr>\n    <tr>\n      <th>15639</th>\n      <td>Austin</td>\n      <td>TX</td>\n    </tr>\n    <tr>\n      <th>15640</th>\n      <td>Austin</td>\n      <td>TX</td>\n    </tr>\n    <tr>\n      <th>15641</th>\n      <td>Austin</td>\n      <td>TX</td>\n    </tr>\n    <tr>\n      <th>15642</th>\n      <td>Austin</td>\n      <td>TX</td>\n    </tr>\n    <tr>\n      <th>15643</th>\n      <td>Austin</td>\n      <td>TX</td>\n    </tr>\n  </tbody>\n</table>\n<p>15644 rows × 2 columns</p>\n</div>"
     },
     "execution_count": 225,
     "metadata": {},
     "output_type": "execute_result"
    }
   ],
   "source": [
    "temp_df = df['location'].str.split(pat=', ', n = 1, expand = True)\n",
    "temp_df"
   ]
  },
  {
   "cell_type": "code",
   "execution_count": 226,
   "metadata": {},
   "outputs": [],
   "source": [
    "df['city'] = temp_df[0]\n",
    "df['state'] = temp_df[1]"
   ]
  },
  {
   "cell_type": "code",
   "execution_count": 227,
   "metadata": {},
   "outputs": [],
   "source": [
    "# df = df.drop('states', axis=1)"
   ]
  },
  {
   "cell_type": "code",
   "execution_count": 228,
   "metadata": {},
   "outputs": [
    {
     "data": {
      "text/html": "<div>\n<style scoped>\n    .dataframe tbody tr th:only-of-type {\n        vertical-align: middle;\n    }\n\n    .dataframe tbody tr th {\n        vertical-align: top;\n    }\n\n    .dataframe thead th {\n        text-align: right;\n    }\n</style>\n<table border=\"1\" class=\"dataframe\">\n  <thead>\n    <tr style=\"text-align: right;\">\n      <th></th>\n      <th>order.id</th>\n      <th>order.line</th>\n      <th>order.date</th>\n      <th>customer.id</th>\n      <th>product.id</th>\n      <th>quantity</th>\n      <th>bike.id</th>\n      <th>model</th>\n      <th>description</th>\n      <th>price</th>\n      <th>bikeshop.id</th>\n      <th>bikeshop.name</th>\n      <th>location</th>\n      <th>category.1</th>\n      <th>category.2</th>\n      <th>frame.material</th>\n      <th>city</th>\n      <th>state</th>\n    </tr>\n  </thead>\n  <tbody>\n    <tr>\n      <th>0</th>\n      <td>1</td>\n      <td>1</td>\n      <td>2011-01-07</td>\n      <td>2</td>\n      <td>48</td>\n      <td>1</td>\n      <td>48</td>\n      <td>Jekyll Carbon 2</td>\n      <td>Mountain - Over Mountain - Carbon</td>\n      <td>6070</td>\n      <td>2</td>\n      <td>Ithaca Mountain Climbers</td>\n      <td>Ithaca, NY</td>\n      <td>Mountain</td>\n      <td>Over Mountain</td>\n      <td>Carbon</td>\n      <td>Ithaca</td>\n      <td>NY</td>\n    </tr>\n    <tr>\n      <th>1</th>\n      <td>1</td>\n      <td>2</td>\n      <td>2011-01-07</td>\n      <td>2</td>\n      <td>52</td>\n      <td>1</td>\n      <td>52</td>\n      <td>Trigger Carbon 2</td>\n      <td>Mountain - Over Mountain - Carbon</td>\n      <td>5970</td>\n      <td>2</td>\n      <td>Ithaca Mountain Climbers</td>\n      <td>Ithaca, NY</td>\n      <td>Mountain</td>\n      <td>Over Mountain</td>\n      <td>Carbon</td>\n      <td>Ithaca</td>\n      <td>NY</td>\n    </tr>\n    <tr>\n      <th>2</th>\n      <td>2</td>\n      <td>1</td>\n      <td>2011-01-10</td>\n      <td>10</td>\n      <td>76</td>\n      <td>1</td>\n      <td>76</td>\n      <td>Beast of the East 1</td>\n      <td>Mountain - Trail - Aluminum</td>\n      <td>2770</td>\n      <td>10</td>\n      <td>Kansas City 29ers</td>\n      <td>Kansas City, KS</td>\n      <td>Mountain</td>\n      <td>Trail</td>\n      <td>Aluminum</td>\n      <td>Kansas City</td>\n      <td>KS</td>\n    </tr>\n    <tr>\n      <th>3</th>\n      <td>2</td>\n      <td>2</td>\n      <td>2011-01-10</td>\n      <td>10</td>\n      <td>52</td>\n      <td>1</td>\n      <td>52</td>\n      <td>Trigger Carbon 2</td>\n      <td>Mountain - Over Mountain - Carbon</td>\n      <td>5970</td>\n      <td>10</td>\n      <td>Kansas City 29ers</td>\n      <td>Kansas City, KS</td>\n      <td>Mountain</td>\n      <td>Over Mountain</td>\n      <td>Carbon</td>\n      <td>Kansas City</td>\n      <td>KS</td>\n    </tr>\n    <tr>\n      <th>4</th>\n      <td>3</td>\n      <td>1</td>\n      <td>2011-01-10</td>\n      <td>6</td>\n      <td>2</td>\n      <td>1</td>\n      <td>2</td>\n      <td>Supersix Evo Hi-Mod Team</td>\n      <td>Road - Elite Road - Carbon</td>\n      <td>10660</td>\n      <td>6</td>\n      <td>Louisville Race Equipment</td>\n      <td>Louisville, KY</td>\n      <td>Road</td>\n      <td>Elite Road</td>\n      <td>Carbon</td>\n      <td>Louisville</td>\n      <td>KY</td>\n    </tr>\n    <tr>\n      <th>...</th>\n      <td>...</td>\n      <td>...</td>\n      <td>...</td>\n      <td>...</td>\n      <td>...</td>\n      <td>...</td>\n      <td>...</td>\n      <td>...</td>\n      <td>...</td>\n      <td>...</td>\n      <td>...</td>\n      <td>...</td>\n      <td>...</td>\n      <td>...</td>\n      <td>...</td>\n      <td>...</td>\n      <td>...</td>\n      <td>...</td>\n    </tr>\n    <tr>\n      <th>15639</th>\n      <td>2000</td>\n      <td>4</td>\n      <td>2015-12-25</td>\n      <td>15</td>\n      <td>14</td>\n      <td>1</td>\n      <td>14</td>\n      <td>CAAD Disc Ultegra</td>\n      <td>Road - Elite Road - Aluminum</td>\n      <td>2660</td>\n      <td>15</td>\n      <td>Austin Cruisers</td>\n      <td>Austin, TX</td>\n      <td>Road</td>\n      <td>Elite Road</td>\n      <td>Aluminum</td>\n      <td>Austin</td>\n      <td>TX</td>\n    </tr>\n    <tr>\n      <th>15640</th>\n      <td>2000</td>\n      <td>5</td>\n      <td>2015-12-25</td>\n      <td>15</td>\n      <td>90</td>\n      <td>1</td>\n      <td>90</td>\n      <td>Trail 2</td>\n      <td>Mountain - Sport - Aluminum</td>\n      <td>1350</td>\n      <td>15</td>\n      <td>Austin Cruisers</td>\n      <td>Austin, TX</td>\n      <td>Mountain</td>\n      <td>Sport</td>\n      <td>Aluminum</td>\n      <td>Austin</td>\n      <td>TX</td>\n    </tr>\n    <tr>\n      <th>15641</th>\n      <td>2000</td>\n      <td>6</td>\n      <td>2015-12-25</td>\n      <td>15</td>\n      <td>17</td>\n      <td>1</td>\n      <td>17</td>\n      <td>CAAD12 105</td>\n      <td>Road - Elite Road - Aluminum</td>\n      <td>1680</td>\n      <td>15</td>\n      <td>Austin Cruisers</td>\n      <td>Austin, TX</td>\n      <td>Road</td>\n      <td>Elite Road</td>\n      <td>Aluminum</td>\n      <td>Austin</td>\n      <td>TX</td>\n    </tr>\n    <tr>\n      <th>15642</th>\n      <td>2000</td>\n      <td>7</td>\n      <td>2015-12-25</td>\n      <td>15</td>\n      <td>70</td>\n      <td>1</td>\n      <td>70</td>\n      <td>F-Si Carbon 4</td>\n      <td>Mountain - Cross Country Race - Carbon</td>\n      <td>2880</td>\n      <td>15</td>\n      <td>Austin Cruisers</td>\n      <td>Austin, TX</td>\n      <td>Mountain</td>\n      <td>Cross Country Race</td>\n      <td>Carbon</td>\n      <td>Austin</td>\n      <td>TX</td>\n    </tr>\n    <tr>\n      <th>15643</th>\n      <td>2000</td>\n      <td>8</td>\n      <td>2015-12-25</td>\n      <td>15</td>\n      <td>61</td>\n      <td>1</td>\n      <td>61</td>\n      <td>Scalpel-Si 5</td>\n      <td>Mountain - Cross Country Race - Aluminum</td>\n      <td>3200</td>\n      <td>15</td>\n      <td>Austin Cruisers</td>\n      <td>Austin, TX</td>\n      <td>Mountain</td>\n      <td>Cross Country Race</td>\n      <td>Aluminum</td>\n      <td>Austin</td>\n      <td>TX</td>\n    </tr>\n  </tbody>\n</table>\n<p>15644 rows × 18 columns</p>\n</div>"
     },
     "execution_count": 228,
     "metadata": {},
     "output_type": "execute_result"
    }
   ],
   "source": [
    "df"
   ]
  },
  {
   "cell_type": "code",
   "execution_count": 229,
   "metadata": {},
   "outputs": [
    {
     "data": {
      "text/html": "<div>\n<style scoped>\n    .dataframe tbody tr th:only-of-type {\n        vertical-align: middle;\n    }\n\n    .dataframe tbody tr th {\n        vertical-align: top;\n    }\n\n    .dataframe thead th {\n        text-align: right;\n    }\n</style>\n<table border=\"1\" class=\"dataframe\">\n  <thead>\n    <tr style=\"text-align: right;\">\n      <th></th>\n      <th>0</th>\n      <th>1</th>\n      <th>2</th>\n      <th>3</th>\n      <th>4</th>\n      <th>5</th>\n      <th>6</th>\n      <th>7</th>\n      <th>8</th>\n      <th>9</th>\n      <th>...</th>\n      <th>15634</th>\n      <th>15635</th>\n      <th>15636</th>\n      <th>15637</th>\n      <th>15638</th>\n      <th>15639</th>\n      <th>15640</th>\n      <th>15641</th>\n      <th>15642</th>\n      <th>15643</th>\n    </tr>\n  </thead>\n  <tbody>\n    <tr>\n      <th>order.id</th>\n      <td>1</td>\n      <td>1</td>\n      <td>2</td>\n      <td>2</td>\n      <td>3</td>\n      <td>3</td>\n      <td>3</td>\n      <td>3</td>\n      <td>3</td>\n      <td>4</td>\n      <td>...</td>\n      <td>1998</td>\n      <td>1999</td>\n      <td>2000</td>\n      <td>2000</td>\n      <td>2000</td>\n      <td>2000</td>\n      <td>2000</td>\n      <td>2000</td>\n      <td>2000</td>\n      <td>2000</td>\n    </tr>\n    <tr>\n      <th>order.line</th>\n      <td>1</td>\n      <td>2</td>\n      <td>1</td>\n      <td>2</td>\n      <td>1</td>\n      <td>2</td>\n      <td>3</td>\n      <td>4</td>\n      <td>5</td>\n      <td>1</td>\n      <td>...</td>\n      <td>2</td>\n      <td>1</td>\n      <td>1</td>\n      <td>2</td>\n      <td>3</td>\n      <td>4</td>\n      <td>5</td>\n      <td>6</td>\n      <td>7</td>\n      <td>8</td>\n    </tr>\n    <tr>\n      <th>order.date</th>\n      <td>2011-01-07 00:00:00</td>\n      <td>2011-01-07 00:00:00</td>\n      <td>2011-01-10 00:00:00</td>\n      <td>2011-01-10 00:00:00</td>\n      <td>2011-01-10 00:00:00</td>\n      <td>2011-01-10 00:00:00</td>\n      <td>2011-01-10 00:00:00</td>\n      <td>2011-01-10 00:00:00</td>\n      <td>2011-01-10 00:00:00</td>\n      <td>2011-01-11 00:00:00</td>\n      <td>...</td>\n      <td>2015-12-23 00:00:00</td>\n      <td>2015-12-24 00:00:00</td>\n      <td>2015-12-25 00:00:00</td>\n      <td>2015-12-25 00:00:00</td>\n      <td>2015-12-25 00:00:00</td>\n      <td>2015-12-25 00:00:00</td>\n      <td>2015-12-25 00:00:00</td>\n      <td>2015-12-25 00:00:00</td>\n      <td>2015-12-25 00:00:00</td>\n      <td>2015-12-25 00:00:00</td>\n    </tr>\n    <tr>\n      <th>customer.id</th>\n      <td>2</td>\n      <td>2</td>\n      <td>10</td>\n      <td>10</td>\n      <td>6</td>\n      <td>6</td>\n      <td>6</td>\n      <td>6</td>\n      <td>6</td>\n      <td>22</td>\n      <td>...</td>\n      <td>9</td>\n      <td>8</td>\n      <td>15</td>\n      <td>15</td>\n      <td>15</td>\n      <td>15</td>\n      <td>15</td>\n      <td>15</td>\n      <td>15</td>\n      <td>15</td>\n    </tr>\n    <tr>\n      <th>product.id</th>\n      <td>48</td>\n      <td>52</td>\n      <td>76</td>\n      <td>52</td>\n      <td>2</td>\n      <td>50</td>\n      <td>1</td>\n      <td>4</td>\n      <td>34</td>\n      <td>26</td>\n      <td>...</td>\n      <td>42</td>\n      <td>14</td>\n      <td>35</td>\n      <td>2</td>\n      <td>19</td>\n      <td>14</td>\n      <td>90</td>\n      <td>17</td>\n      <td>70</td>\n      <td>61</td>\n    </tr>\n    <tr>\n      <th>quantity</th>\n      <td>1</td>\n      <td>1</td>\n      <td>1</td>\n      <td>1</td>\n      <td>1</td>\n      <td>1</td>\n      <td>1</td>\n      <td>1</td>\n      <td>1</td>\n      <td>1</td>\n      <td>...</td>\n      <td>1</td>\n      <td>1</td>\n      <td>1</td>\n      <td>1</td>\n      <td>1</td>\n      <td>1</td>\n      <td>1</td>\n      <td>1</td>\n      <td>1</td>\n      <td>1</td>\n    </tr>\n    <tr>\n      <th>bike.id</th>\n      <td>48</td>\n      <td>52</td>\n      <td>76</td>\n      <td>52</td>\n      <td>2</td>\n      <td>50</td>\n      <td>1</td>\n      <td>4</td>\n      <td>34</td>\n      <td>26</td>\n      <td>...</td>\n      <td>42</td>\n      <td>14</td>\n      <td>35</td>\n      <td>2</td>\n      <td>19</td>\n      <td>14</td>\n      <td>90</td>\n      <td>17</td>\n      <td>70</td>\n      <td>61</td>\n    </tr>\n    <tr>\n      <th>model</th>\n      <td>Jekyll Carbon 2</td>\n      <td>Trigger Carbon 2</td>\n      <td>Beast of the East 1</td>\n      <td>Trigger Carbon 2</td>\n      <td>Supersix Evo Hi-Mod Team</td>\n      <td>Jekyll Carbon 4</td>\n      <td>Supersix Evo Black Inc.</td>\n      <td>Supersix Evo Hi-Mod Dura Ace 2</td>\n      <td>Synapse Disc 105</td>\n      <td>Synapse Carbon Disc Ultegra D12</td>\n      <td>...</td>\n      <td>Slice 105</td>\n      <td>CAAD Disc Ultegra</td>\n      <td>Synapse Disc Tiagra</td>\n      <td>Supersix Evo Hi-Mod Team</td>\n      <td>CAAD8 Tiagra</td>\n      <td>CAAD Disc Ultegra</td>\n      <td>Trail 2</td>\n      <td>CAAD12 105</td>\n      <td>F-Si Carbon 4</td>\n      <td>Scalpel-Si 5</td>\n    </tr>\n    <tr>\n      <th>description</th>\n      <td>Mountain - Over Mountain - Carbon</td>\n      <td>Mountain - Over Mountain - Carbon</td>\n      <td>Mountain - Trail - Aluminum</td>\n      <td>Mountain - Over Mountain - Carbon</td>\n      <td>Road - Elite Road - Carbon</td>\n      <td>Mountain - Over Mountain - Carbon</td>\n      <td>Road - Elite Road - Carbon</td>\n      <td>Road - Elite Road - Carbon</td>\n      <td>Road - Endurance Road - Aluminum</td>\n      <td>Road - Endurance Road - Carbon</td>\n      <td>...</td>\n      <td>Road - Triathalon - Carbon</td>\n      <td>Road - Elite Road - Aluminum</td>\n      <td>Road - Endurance Road - Aluminum</td>\n      <td>Road - Elite Road - Carbon</td>\n      <td>Road - Elite Road - Aluminum</td>\n      <td>Road - Elite Road - Aluminum</td>\n      <td>Mountain - Sport - Aluminum</td>\n      <td>Road - Elite Road - Aluminum</td>\n      <td>Mountain - Cross Country Race - Carbon</td>\n      <td>Mountain - Cross Country Race - Aluminum</td>\n    </tr>\n    <tr>\n      <th>price</th>\n      <td>6070</td>\n      <td>5970</td>\n      <td>2770</td>\n      <td>5970</td>\n      <td>10660</td>\n      <td>3200</td>\n      <td>12790</td>\n      <td>5330</td>\n      <td>1570</td>\n      <td>4800</td>\n      <td>...</td>\n      <td>1950</td>\n      <td>2660</td>\n      <td>1250</td>\n      <td>10660</td>\n      <td>1250</td>\n      <td>2660</td>\n      <td>1350</td>\n      <td>1680</td>\n      <td>2880</td>\n      <td>3200</td>\n    </tr>\n    <tr>\n      <th>bikeshop.id</th>\n      <td>2</td>\n      <td>2</td>\n      <td>10</td>\n      <td>10</td>\n      <td>6</td>\n      <td>6</td>\n      <td>6</td>\n      <td>6</td>\n      <td>6</td>\n      <td>22</td>\n      <td>...</td>\n      <td>9</td>\n      <td>8</td>\n      <td>15</td>\n      <td>15</td>\n      <td>15</td>\n      <td>15</td>\n      <td>15</td>\n      <td>15</td>\n      <td>15</td>\n      <td>15</td>\n    </tr>\n    <tr>\n      <th>bikeshop.name</th>\n      <td>Ithaca Mountain Climbers</td>\n      <td>Ithaca Mountain Climbers</td>\n      <td>Kansas City 29ers</td>\n      <td>Kansas City 29ers</td>\n      <td>Louisville Race Equipment</td>\n      <td>Louisville Race Equipment</td>\n      <td>Louisville Race Equipment</td>\n      <td>Louisville Race Equipment</td>\n      <td>Louisville Race Equipment</td>\n      <td>Ann Arbor Speed</td>\n      <td>...</td>\n      <td>Minneapolis Bike Shop</td>\n      <td>Denver Bike Shop</td>\n      <td>Austin Cruisers</td>\n      <td>Austin Cruisers</td>\n      <td>Austin Cruisers</td>\n      <td>Austin Cruisers</td>\n      <td>Austin Cruisers</td>\n      <td>Austin Cruisers</td>\n      <td>Austin Cruisers</td>\n      <td>Austin Cruisers</td>\n    </tr>\n    <tr>\n      <th>location</th>\n      <td>Ithaca, NY</td>\n      <td>Ithaca, NY</td>\n      <td>Kansas City, KS</td>\n      <td>Kansas City, KS</td>\n      <td>Louisville, KY</td>\n      <td>Louisville, KY</td>\n      <td>Louisville, KY</td>\n      <td>Louisville, KY</td>\n      <td>Louisville, KY</td>\n      <td>Ann Arbor, MI</td>\n      <td>...</td>\n      <td>Minneapolis, MN</td>\n      <td>Denver, CO</td>\n      <td>Austin, TX</td>\n      <td>Austin, TX</td>\n      <td>Austin, TX</td>\n      <td>Austin, TX</td>\n      <td>Austin, TX</td>\n      <td>Austin, TX</td>\n      <td>Austin, TX</td>\n      <td>Austin, TX</td>\n    </tr>\n    <tr>\n      <th>category.1</th>\n      <td>Mountain</td>\n      <td>Mountain</td>\n      <td>Mountain</td>\n      <td>Mountain</td>\n      <td>Road</td>\n      <td>Mountain</td>\n      <td>Road</td>\n      <td>Road</td>\n      <td>Road</td>\n      <td>Road</td>\n      <td>...</td>\n      <td>Road</td>\n      <td>Road</td>\n      <td>Road</td>\n      <td>Road</td>\n      <td>Road</td>\n      <td>Road</td>\n      <td>Mountain</td>\n      <td>Road</td>\n      <td>Mountain</td>\n      <td>Mountain</td>\n    </tr>\n    <tr>\n      <th>category.2</th>\n      <td>Over Mountain</td>\n      <td>Over Mountain</td>\n      <td>Trail</td>\n      <td>Over Mountain</td>\n      <td>Elite Road</td>\n      <td>Over Mountain</td>\n      <td>Elite Road</td>\n      <td>Elite Road</td>\n      <td>Endurance Road</td>\n      <td>Endurance Road</td>\n      <td>...</td>\n      <td>Triathalon</td>\n      <td>Elite Road</td>\n      <td>Endurance Road</td>\n      <td>Elite Road</td>\n      <td>Elite Road</td>\n      <td>Elite Road</td>\n      <td>Sport</td>\n      <td>Elite Road</td>\n      <td>Cross Country Race</td>\n      <td>Cross Country Race</td>\n    </tr>\n    <tr>\n      <th>frame.material</th>\n      <td>Carbon</td>\n      <td>Carbon</td>\n      <td>Aluminum</td>\n      <td>Carbon</td>\n      <td>Carbon</td>\n      <td>Carbon</td>\n      <td>Carbon</td>\n      <td>Carbon</td>\n      <td>Aluminum</td>\n      <td>Carbon</td>\n      <td>...</td>\n      <td>Carbon</td>\n      <td>Aluminum</td>\n      <td>Aluminum</td>\n      <td>Carbon</td>\n      <td>Aluminum</td>\n      <td>Aluminum</td>\n      <td>Aluminum</td>\n      <td>Aluminum</td>\n      <td>Carbon</td>\n      <td>Aluminum</td>\n    </tr>\n    <tr>\n      <th>city</th>\n      <td>Ithaca</td>\n      <td>Ithaca</td>\n      <td>Kansas City</td>\n      <td>Kansas City</td>\n      <td>Louisville</td>\n      <td>Louisville</td>\n      <td>Louisville</td>\n      <td>Louisville</td>\n      <td>Louisville</td>\n      <td>Ann Arbor</td>\n      <td>...</td>\n      <td>Minneapolis</td>\n      <td>Denver</td>\n      <td>Austin</td>\n      <td>Austin</td>\n      <td>Austin</td>\n      <td>Austin</td>\n      <td>Austin</td>\n      <td>Austin</td>\n      <td>Austin</td>\n      <td>Austin</td>\n    </tr>\n    <tr>\n      <th>state</th>\n      <td>NY</td>\n      <td>NY</td>\n      <td>KS</td>\n      <td>KS</td>\n      <td>KY</td>\n      <td>KY</td>\n      <td>KY</td>\n      <td>KY</td>\n      <td>KY</td>\n      <td>MI</td>\n      <td>...</td>\n      <td>MN</td>\n      <td>CO</td>\n      <td>TX</td>\n      <td>TX</td>\n      <td>TX</td>\n      <td>TX</td>\n      <td>TX</td>\n      <td>TX</td>\n      <td>TX</td>\n      <td>TX</td>\n    </tr>\n  </tbody>\n</table>\n<p>18 rows × 15644 columns</p>\n</div>"
     },
     "execution_count": 229,
     "metadata": {},
     "output_type": "execute_result"
    }
   ],
   "source": [
    "df.T"
   ]
  },
  {
   "cell_type": "code",
   "execution_count": 230,
   "metadata": {},
   "outputs": [
    {
     "data": {
      "text/html": "<div>\n<style scoped>\n    .dataframe tbody tr th:only-of-type {\n        vertical-align: middle;\n    }\n\n    .dataframe tbody tr th {\n        vertical-align: top;\n    }\n\n    .dataframe thead th {\n        text-align: right;\n    }\n</style>\n<table border=\"1\" class=\"dataframe\">\n  <thead>\n    <tr style=\"text-align: right;\">\n      <th></th>\n      <th>order.id</th>\n      <th>order.line</th>\n      <th>order.date</th>\n      <th>customer.id</th>\n      <th>product.id</th>\n      <th>quantity</th>\n      <th>bike.id</th>\n      <th>model</th>\n      <th>description</th>\n      <th>price</th>\n      <th>bikeshop.id</th>\n      <th>bikeshop.name</th>\n      <th>location</th>\n      <th>category.1</th>\n      <th>category.2</th>\n      <th>frame.material</th>\n      <th>city</th>\n      <th>state</th>\n      <th>total.price</th>\n    </tr>\n  </thead>\n  <tbody>\n    <tr>\n      <th>0</th>\n      <td>1</td>\n      <td>1</td>\n      <td>2011-01-07</td>\n      <td>2</td>\n      <td>48</td>\n      <td>1</td>\n      <td>48</td>\n      <td>Jekyll Carbon 2</td>\n      <td>Mountain - Over Mountain - Carbon</td>\n      <td>6070</td>\n      <td>2</td>\n      <td>Ithaca Mountain Climbers</td>\n      <td>Ithaca, NY</td>\n      <td>Mountain</td>\n      <td>Over Mountain</td>\n      <td>Carbon</td>\n      <td>Ithaca</td>\n      <td>NY</td>\n      <td>6070</td>\n    </tr>\n    <tr>\n      <th>1</th>\n      <td>1</td>\n      <td>2</td>\n      <td>2011-01-07</td>\n      <td>2</td>\n      <td>52</td>\n      <td>1</td>\n      <td>52</td>\n      <td>Trigger Carbon 2</td>\n      <td>Mountain - Over Mountain - Carbon</td>\n      <td>5970</td>\n      <td>2</td>\n      <td>Ithaca Mountain Climbers</td>\n      <td>Ithaca, NY</td>\n      <td>Mountain</td>\n      <td>Over Mountain</td>\n      <td>Carbon</td>\n      <td>Ithaca</td>\n      <td>NY</td>\n      <td>5970</td>\n    </tr>\n    <tr>\n      <th>2</th>\n      <td>2</td>\n      <td>1</td>\n      <td>2011-01-10</td>\n      <td>10</td>\n      <td>76</td>\n      <td>1</td>\n      <td>76</td>\n      <td>Beast of the East 1</td>\n      <td>Mountain - Trail - Aluminum</td>\n      <td>2770</td>\n      <td>10</td>\n      <td>Kansas City 29ers</td>\n      <td>Kansas City, KS</td>\n      <td>Mountain</td>\n      <td>Trail</td>\n      <td>Aluminum</td>\n      <td>Kansas City</td>\n      <td>KS</td>\n      <td>2770</td>\n    </tr>\n    <tr>\n      <th>3</th>\n      <td>2</td>\n      <td>2</td>\n      <td>2011-01-10</td>\n      <td>10</td>\n      <td>52</td>\n      <td>1</td>\n      <td>52</td>\n      <td>Trigger Carbon 2</td>\n      <td>Mountain - Over Mountain - Carbon</td>\n      <td>5970</td>\n      <td>10</td>\n      <td>Kansas City 29ers</td>\n      <td>Kansas City, KS</td>\n      <td>Mountain</td>\n      <td>Over Mountain</td>\n      <td>Carbon</td>\n      <td>Kansas City</td>\n      <td>KS</td>\n      <td>5970</td>\n    </tr>\n    <tr>\n      <th>4</th>\n      <td>3</td>\n      <td>1</td>\n      <td>2011-01-10</td>\n      <td>6</td>\n      <td>2</td>\n      <td>1</td>\n      <td>2</td>\n      <td>Supersix Evo Hi-Mod Team</td>\n      <td>Road - Elite Road - Carbon</td>\n      <td>10660</td>\n      <td>6</td>\n      <td>Louisville Race Equipment</td>\n      <td>Louisville, KY</td>\n      <td>Road</td>\n      <td>Elite Road</td>\n      <td>Carbon</td>\n      <td>Louisville</td>\n      <td>KY</td>\n      <td>10660</td>\n    </tr>\n    <tr>\n      <th>...</th>\n      <td>...</td>\n      <td>...</td>\n      <td>...</td>\n      <td>...</td>\n      <td>...</td>\n      <td>...</td>\n      <td>...</td>\n      <td>...</td>\n      <td>...</td>\n      <td>...</td>\n      <td>...</td>\n      <td>...</td>\n      <td>...</td>\n      <td>...</td>\n      <td>...</td>\n      <td>...</td>\n      <td>...</td>\n      <td>...</td>\n      <td>...</td>\n    </tr>\n    <tr>\n      <th>15639</th>\n      <td>2000</td>\n      <td>4</td>\n      <td>2015-12-25</td>\n      <td>15</td>\n      <td>14</td>\n      <td>1</td>\n      <td>14</td>\n      <td>CAAD Disc Ultegra</td>\n      <td>Road - Elite Road - Aluminum</td>\n      <td>2660</td>\n      <td>15</td>\n      <td>Austin Cruisers</td>\n      <td>Austin, TX</td>\n      <td>Road</td>\n      <td>Elite Road</td>\n      <td>Aluminum</td>\n      <td>Austin</td>\n      <td>TX</td>\n      <td>2660</td>\n    </tr>\n    <tr>\n      <th>15640</th>\n      <td>2000</td>\n      <td>5</td>\n      <td>2015-12-25</td>\n      <td>15</td>\n      <td>90</td>\n      <td>1</td>\n      <td>90</td>\n      <td>Trail 2</td>\n      <td>Mountain - Sport - Aluminum</td>\n      <td>1350</td>\n      <td>15</td>\n      <td>Austin Cruisers</td>\n      <td>Austin, TX</td>\n      <td>Mountain</td>\n      <td>Sport</td>\n      <td>Aluminum</td>\n      <td>Austin</td>\n      <td>TX</td>\n      <td>1350</td>\n    </tr>\n    <tr>\n      <th>15641</th>\n      <td>2000</td>\n      <td>6</td>\n      <td>2015-12-25</td>\n      <td>15</td>\n      <td>17</td>\n      <td>1</td>\n      <td>17</td>\n      <td>CAAD12 105</td>\n      <td>Road - Elite Road - Aluminum</td>\n      <td>1680</td>\n      <td>15</td>\n      <td>Austin Cruisers</td>\n      <td>Austin, TX</td>\n      <td>Road</td>\n      <td>Elite Road</td>\n      <td>Aluminum</td>\n      <td>Austin</td>\n      <td>TX</td>\n      <td>1680</td>\n    </tr>\n    <tr>\n      <th>15642</th>\n      <td>2000</td>\n      <td>7</td>\n      <td>2015-12-25</td>\n      <td>15</td>\n      <td>70</td>\n      <td>1</td>\n      <td>70</td>\n      <td>F-Si Carbon 4</td>\n      <td>Mountain - Cross Country Race - Carbon</td>\n      <td>2880</td>\n      <td>15</td>\n      <td>Austin Cruisers</td>\n      <td>Austin, TX</td>\n      <td>Mountain</td>\n      <td>Cross Country Race</td>\n      <td>Carbon</td>\n      <td>Austin</td>\n      <td>TX</td>\n      <td>2880</td>\n    </tr>\n    <tr>\n      <th>15643</th>\n      <td>2000</td>\n      <td>8</td>\n      <td>2015-12-25</td>\n      <td>15</td>\n      <td>61</td>\n      <td>1</td>\n      <td>61</td>\n      <td>Scalpel-Si 5</td>\n      <td>Mountain - Cross Country Race - Aluminum</td>\n      <td>3200</td>\n      <td>15</td>\n      <td>Austin Cruisers</td>\n      <td>Austin, TX</td>\n      <td>Mountain</td>\n      <td>Cross Country Race</td>\n      <td>Aluminum</td>\n      <td>Austin</td>\n      <td>TX</td>\n      <td>3200</td>\n    </tr>\n  </tbody>\n</table>\n<p>15644 rows × 19 columns</p>\n</div>"
     },
     "execution_count": 230,
     "metadata": {},
     "output_type": "execute_result"
    }
   ],
   "source": [
    "df['total.price'] = df['quantity'] * df['price']\n",
    "df"
   ]
  },
  {
   "cell_type": "code",
   "execution_count": 231,
   "metadata": {},
   "outputs": [
    {
     "data": {
      "text/html": "<div>\n<style scoped>\n    .dataframe tbody tr th:only-of-type {\n        vertical-align: middle;\n    }\n\n    .dataframe tbody tr th {\n        vertical-align: top;\n    }\n\n    .dataframe thead th {\n        text-align: right;\n    }\n</style>\n<table border=\"1\" class=\"dataframe\">\n  <thead>\n    <tr style=\"text-align: right;\">\n      <th></th>\n      <th>order.id</th>\n      <th>order.line</th>\n      <th>order.date</th>\n      <th>customer.id</th>\n      <th>product.id</th>\n      <th>quantity</th>\n      <th>bike.id</th>\n      <th>model</th>\n      <th>description</th>\n      <th>price</th>\n      <th>bikeshop.id</th>\n      <th>bikeshop.name</th>\n      <th>location</th>\n      <th>category.1</th>\n      <th>category.2</th>\n      <th>frame.material</th>\n      <th>city</th>\n      <th>state</th>\n      <th>total.price</th>\n    </tr>\n  </thead>\n  <tbody>\n    <tr>\n      <th>3015</th>\n      <td>405</td>\n      <td>9</td>\n      <td>2012-03-22</td>\n      <td>22</td>\n      <td>2</td>\n      <td>10</td>\n      <td>2</td>\n      <td>Supersix Evo Hi-Mod Team</td>\n      <td>Road - Elite Road - Carbon</td>\n      <td>10660</td>\n      <td>22</td>\n      <td>Ann Arbor Speed</td>\n      <td>Ann Arbor, MI</td>\n      <td>Road</td>\n      <td>Elite Road</td>\n      <td>Carbon</td>\n      <td>Ann Arbor</td>\n      <td>MI</td>\n      <td>106600</td>\n    </tr>\n    <tr>\n      <th>3009</th>\n      <td>405</td>\n      <td>3</td>\n      <td>2012-03-22</td>\n      <td>22</td>\n      <td>1</td>\n      <td>8</td>\n      <td>1</td>\n      <td>Supersix Evo Black Inc.</td>\n      <td>Road - Elite Road - Carbon</td>\n      <td>12790</td>\n      <td>22</td>\n      <td>Ann Arbor Speed</td>\n      <td>Ann Arbor, MI</td>\n      <td>Road</td>\n      <td>Elite Road</td>\n      <td>Carbon</td>\n      <td>Ann Arbor</td>\n      <td>MI</td>\n      <td>102320</td>\n    </tr>\n    <tr>\n      <th>14003</th>\n      <td>1762</td>\n      <td>11</td>\n      <td>2015-06-11</td>\n      <td>14</td>\n      <td>81</td>\n      <td>7</td>\n      <td>81</td>\n      <td>Habit Hi-Mod Black Inc.</td>\n      <td>Mountain - Trail - Carbon</td>\n      <td>12250</td>\n      <td>14</td>\n      <td>Albuquerque Cycles</td>\n      <td>Albuquerque, NM</td>\n      <td>Mountain</td>\n      <td>Trail</td>\n      <td>Carbon</td>\n      <td>Albuquerque</td>\n      <td>NM</td>\n      <td>85750</td>\n    </tr>\n    <tr>\n      <th>6547</th>\n      <td>846</td>\n      <td>7</td>\n      <td>2013-05-21</td>\n      <td>14</td>\n      <td>56</td>\n      <td>9</td>\n      <td>56</td>\n      <td>Scalpel-Si Race</td>\n      <td>Mountain - Cross Country Race - Carbon</td>\n      <td>9060</td>\n      <td>14</td>\n      <td>Albuquerque Cycles</td>\n      <td>Albuquerque, NM</td>\n      <td>Mountain</td>\n      <td>Cross Country Race</td>\n      <td>Carbon</td>\n      <td>Albuquerque</td>\n      <td>NM</td>\n      <td>81540</td>\n    </tr>\n    <tr>\n      <th>7464</th>\n      <td>954</td>\n      <td>10</td>\n      <td>2013-07-30</td>\n      <td>3</td>\n      <td>56</td>\n      <td>9</td>\n      <td>56</td>\n      <td>Scalpel-Si Race</td>\n      <td>Mountain - Cross Country Race - Carbon</td>\n      <td>9060</td>\n      <td>3</td>\n      <td>Columbus Race Equipment</td>\n      <td>Columbus, OH</td>\n      <td>Mountain</td>\n      <td>Cross Country Race</td>\n      <td>Carbon</td>\n      <td>Columbus</td>\n      <td>OH</td>\n      <td>81540</td>\n    </tr>\n    <tr>\n      <th>...</th>\n      <td>...</td>\n      <td>...</td>\n      <td>...</td>\n      <td>...</td>\n      <td>...</td>\n      <td>...</td>\n      <td>...</td>\n      <td>...</td>\n      <td>...</td>\n      <td>...</td>\n      <td>...</td>\n      <td>...</td>\n      <td>...</td>\n      <td>...</td>\n      <td>...</td>\n      <td>...</td>\n      <td>...</td>\n      <td>...</td>\n      <td>...</td>\n    </tr>\n    <tr>\n      <th>15377</th>\n      <td>1962</td>\n      <td>3</td>\n      <td>2015-11-18</td>\n      <td>9</td>\n      <td>97</td>\n      <td>1</td>\n      <td>97</td>\n      <td>Catalyst 4</td>\n      <td>Mountain - Sport - Aluminum</td>\n      <td>415</td>\n      <td>9</td>\n      <td>Minneapolis Bike Shop</td>\n      <td>Minneapolis, MN</td>\n      <td>Mountain</td>\n      <td>Sport</td>\n      <td>Aluminum</td>\n      <td>Minneapolis</td>\n      <td>MN</td>\n      <td>415</td>\n    </tr>\n    <tr>\n      <th>14847</th>\n      <td>1895</td>\n      <td>8</td>\n      <td>2015-09-09</td>\n      <td>10</td>\n      <td>97</td>\n      <td>1</td>\n      <td>97</td>\n      <td>Catalyst 4</td>\n      <td>Mountain - Sport - Aluminum</td>\n      <td>415</td>\n      <td>10</td>\n      <td>Kansas City 29ers</td>\n      <td>Kansas City, KS</td>\n      <td>Mountain</td>\n      <td>Sport</td>\n      <td>Aluminum</td>\n      <td>Kansas City</td>\n      <td>KS</td>\n      <td>415</td>\n    </tr>\n    <tr>\n      <th>14520</th>\n      <td>1832</td>\n      <td>2</td>\n      <td>2015-07-22</td>\n      <td>10</td>\n      <td>97</td>\n      <td>1</td>\n      <td>97</td>\n      <td>Catalyst 4</td>\n      <td>Mountain - Sport - Aluminum</td>\n      <td>415</td>\n      <td>10</td>\n      <td>Kansas City 29ers</td>\n      <td>Kansas City, KS</td>\n      <td>Mountain</td>\n      <td>Sport</td>\n      <td>Aluminum</td>\n      <td>Kansas City</td>\n      <td>KS</td>\n      <td>415</td>\n    </tr>\n    <tr>\n      <th>5660</th>\n      <td>727</td>\n      <td>2</td>\n      <td>2013-03-12</td>\n      <td>10</td>\n      <td>97</td>\n      <td>1</td>\n      <td>97</td>\n      <td>Catalyst 4</td>\n      <td>Mountain - Sport - Aluminum</td>\n      <td>415</td>\n      <td>10</td>\n      <td>Kansas City 29ers</td>\n      <td>Kansas City, KS</td>\n      <td>Mountain</td>\n      <td>Sport</td>\n      <td>Aluminum</td>\n      <td>Kansas City</td>\n      <td>KS</td>\n      <td>415</td>\n    </tr>\n    <tr>\n      <th>2592</th>\n      <td>337</td>\n      <td>2</td>\n      <td>2012-01-20</td>\n      <td>26</td>\n      <td>97</td>\n      <td>1</td>\n      <td>97</td>\n      <td>Catalyst 4</td>\n      <td>Mountain - Sport - Aluminum</td>\n      <td>415</td>\n      <td>26</td>\n      <td>Miami Race Equipment</td>\n      <td>Miami, FL</td>\n      <td>Mountain</td>\n      <td>Sport</td>\n      <td>Aluminum</td>\n      <td>Miami</td>\n      <td>FL</td>\n      <td>415</td>\n    </tr>\n  </tbody>\n</table>\n<p>15644 rows × 19 columns</p>\n</div>"
     },
     "execution_count": 231,
     "metadata": {},
     "output_type": "execute_result"
    }
   ],
   "source": [
    "df.sort_values('total.price', ascending=False)"
   ]
  },
  {
   "cell_type": "code",
   "execution_count": 232,
   "metadata": {},
   "outputs": [
    {
     "data": {
      "text/plain": "\n\u001B[1m[\u001B[0m\n    \u001B[32m'order.id'\u001B[0m,\n    \u001B[32m'order.line'\u001B[0m,\n    \u001B[32m'order.date'\u001B[0m,\n    \u001B[32m'model'\u001B[0m,\n    \u001B[32m'quantity'\u001B[0m,\n    \u001B[32m'price'\u001B[0m,\n    \u001B[32m'total.price'\u001B[0m,\n    \u001B[32m'bikeshop.name'\u001B[0m,\n    \u001B[32m'category.1'\u001B[0m,\n    \u001B[32m'category.2'\u001B[0m,\n    \u001B[32m'frame.material'\u001B[0m,\n    \u001B[32m'city'\u001B[0m,\n    \u001B[32m'state'\u001B[0m\n\u001B[1m]\u001B[0m\n",
      "text/html": "<pre style=\"white-space:pre;overflow-x:auto;line-height:normal;font-family:Menlo,'DejaVu Sans Mono',consolas,'Courier New',monospace\">\n<span style=\"font-weight: bold\">[</span>\n    <span style=\"color: #008000; text-decoration-color: #008000\">'order.id'</span>,\n    <span style=\"color: #008000; text-decoration-color: #008000\">'order.line'</span>,\n    <span style=\"color: #008000; text-decoration-color: #008000\">'order.date'</span>,\n    <span style=\"color: #008000; text-decoration-color: #008000\">'model'</span>,\n    <span style=\"color: #008000; text-decoration-color: #008000\">'quantity'</span>,\n    <span style=\"color: #008000; text-decoration-color: #008000\">'price'</span>,\n    <span style=\"color: #008000; text-decoration-color: #008000\">'total.price'</span>,\n    <span style=\"color: #008000; text-decoration-color: #008000\">'bikeshop.name'</span>,\n    <span style=\"color: #008000; text-decoration-color: #008000\">'category.1'</span>,\n    <span style=\"color: #008000; text-decoration-color: #008000\">'category.2'</span>,\n    <span style=\"color: #008000; text-decoration-color: #008000\">'frame.material'</span>,\n    <span style=\"color: #008000; text-decoration-color: #008000\">'city'</span>,\n    <span style=\"color: #008000; text-decoration-color: #008000\">'state'</span>\n<span style=\"font-weight: bold\">]</span>\n</pre>\n"
     },
     "metadata": {},
     "output_type": "display_data"
    }
   ],
   "source": [
    "df.columns\n",
    "\n",
    "['order.id', \n",
    " 'order.line', \n",
    " 'order.date', \n",
    "#  'customer.id', \n",
    "#  'product.id',\n",
    "# 'quantity', \n",
    "#  'bike.id', \n",
    " 'model', \n",
    "#  'description',\n",
    " 'quantity',\n",
    " 'price', \n",
    " 'total.price',\n",
    "#  'bikeshop.id',\n",
    "'bikeshop.name', \n",
    "#  'location', \n",
    " 'category.1', \n",
    " 'category.2',\n",
    "'frame.material', \n",
    " 'city', \n",
    " 'state', \n",
    "#  'total.price'\n",
    "]"
   ]
  },
  {
   "cell_type": "code",
   "execution_count": 233,
   "metadata": {},
   "outputs": [],
   "source": [
    "cols_to_keep = [\n",
    "    'order.id',\n",
    "    'order.line',\n",
    "    'order.date',\n",
    "    'model',\n",
    "    'quantity',\n",
    "    'price',\n",
    "    'total.price',\n",
    "    'bikeshop.name',\n",
    "    'category.1',\n",
    "    'category.2',\n",
    "    'frame.material',\n",
    "    'city',\n",
    "    'state'\n",
    "]"
   ]
  },
  {
   "cell_type": "code",
   "execution_count": 234,
   "metadata": {},
   "outputs": [
    {
     "data": {
      "text/plain": "\n\u001B[1m[\u001B[0m\n    \u001B[32m'order.id'\u001B[0m,\n    \u001B[32m'order.line'\u001B[0m,\n    \u001B[32m'order.date'\u001B[0m,\n    \u001B[32m'model'\u001B[0m,\n    \u001B[32m'quantity'\u001B[0m,\n    \u001B[32m'price'\u001B[0m,\n    \u001B[32m'total.price'\u001B[0m,\n    \u001B[32m'bikeshop.name'\u001B[0m,\n    \u001B[32m'category.1'\u001B[0m,\n    \u001B[32m'category.2'\u001B[0m,\n    \u001B[32m'frame.material'\u001B[0m,\n    \u001B[32m'city'\u001B[0m,\n    \u001B[32m'state'\u001B[0m\n\u001B[1m]\u001B[0m\n",
      "text/html": "<pre style=\"white-space:pre;overflow-x:auto;line-height:normal;font-family:Menlo,'DejaVu Sans Mono',consolas,'Courier New',monospace\">\n<span style=\"font-weight: bold\">[</span>\n    <span style=\"color: #008000; text-decoration-color: #008000\">'order.id'</span>,\n    <span style=\"color: #008000; text-decoration-color: #008000\">'order.line'</span>,\n    <span style=\"color: #008000; text-decoration-color: #008000\">'order.date'</span>,\n    <span style=\"color: #008000; text-decoration-color: #008000\">'model'</span>,\n    <span style=\"color: #008000; text-decoration-color: #008000\">'quantity'</span>,\n    <span style=\"color: #008000; text-decoration-color: #008000\">'price'</span>,\n    <span style=\"color: #008000; text-decoration-color: #008000\">'total.price'</span>,\n    <span style=\"color: #008000; text-decoration-color: #008000\">'bikeshop.name'</span>,\n    <span style=\"color: #008000; text-decoration-color: #008000\">'category.1'</span>,\n    <span style=\"color: #008000; text-decoration-color: #008000\">'category.2'</span>,\n    <span style=\"color: #008000; text-decoration-color: #008000\">'frame.material'</span>,\n    <span style=\"color: #008000; text-decoration-color: #008000\">'city'</span>,\n    <span style=\"color: #008000; text-decoration-color: #008000\">'state'</span>\n<span style=\"font-weight: bold\">]</span>\n</pre>\n"
     },
     "metadata": {},
     "output_type": "display_data"
    }
   ],
   "source": [
    "cols_to_keep"
   ]
  },
  {
   "cell_type": "code",
   "execution_count": 235,
   "metadata": {},
   "outputs": [
    {
     "data": {
      "text/html": "<div>\n<style scoped>\n    .dataframe tbody tr th:only-of-type {\n        vertical-align: middle;\n    }\n\n    .dataframe tbody tr th {\n        vertical-align: top;\n    }\n\n    .dataframe thead th {\n        text-align: right;\n    }\n</style>\n<table border=\"1\" class=\"dataframe\">\n  <thead>\n    <tr style=\"text-align: right;\">\n      <th></th>\n      <th>order.id</th>\n      <th>order.line</th>\n      <th>order.date</th>\n      <th>model</th>\n      <th>quantity</th>\n      <th>price</th>\n      <th>total.price</th>\n      <th>bikeshop.name</th>\n      <th>category.1</th>\n      <th>category.2</th>\n      <th>frame.material</th>\n      <th>city</th>\n      <th>state</th>\n    </tr>\n  </thead>\n  <tbody>\n    <tr>\n      <th>0</th>\n      <td>1</td>\n      <td>1</td>\n      <td>2011-01-07</td>\n      <td>Jekyll Carbon 2</td>\n      <td>1</td>\n      <td>6070</td>\n      <td>6070</td>\n      <td>Ithaca Mountain Climbers</td>\n      <td>Mountain</td>\n      <td>Over Mountain</td>\n      <td>Carbon</td>\n      <td>Ithaca</td>\n      <td>NY</td>\n    </tr>\n    <tr>\n      <th>1</th>\n      <td>1</td>\n      <td>2</td>\n      <td>2011-01-07</td>\n      <td>Trigger Carbon 2</td>\n      <td>1</td>\n      <td>5970</td>\n      <td>5970</td>\n      <td>Ithaca Mountain Climbers</td>\n      <td>Mountain</td>\n      <td>Over Mountain</td>\n      <td>Carbon</td>\n      <td>Ithaca</td>\n      <td>NY</td>\n    </tr>\n    <tr>\n      <th>2</th>\n      <td>2</td>\n      <td>1</td>\n      <td>2011-01-10</td>\n      <td>Beast of the East 1</td>\n      <td>1</td>\n      <td>2770</td>\n      <td>2770</td>\n      <td>Kansas City 29ers</td>\n      <td>Mountain</td>\n      <td>Trail</td>\n      <td>Aluminum</td>\n      <td>Kansas City</td>\n      <td>KS</td>\n    </tr>\n    <tr>\n      <th>3</th>\n      <td>2</td>\n      <td>2</td>\n      <td>2011-01-10</td>\n      <td>Trigger Carbon 2</td>\n      <td>1</td>\n      <td>5970</td>\n      <td>5970</td>\n      <td>Kansas City 29ers</td>\n      <td>Mountain</td>\n      <td>Over Mountain</td>\n      <td>Carbon</td>\n      <td>Kansas City</td>\n      <td>KS</td>\n    </tr>\n    <tr>\n      <th>4</th>\n      <td>3</td>\n      <td>1</td>\n      <td>2011-01-10</td>\n      <td>Supersix Evo Hi-Mod Team</td>\n      <td>1</td>\n      <td>10660</td>\n      <td>10660</td>\n      <td>Louisville Race Equipment</td>\n      <td>Road</td>\n      <td>Elite Road</td>\n      <td>Carbon</td>\n      <td>Louisville</td>\n      <td>KY</td>\n    </tr>\n    <tr>\n      <th>...</th>\n      <td>...</td>\n      <td>...</td>\n      <td>...</td>\n      <td>...</td>\n      <td>...</td>\n      <td>...</td>\n      <td>...</td>\n      <td>...</td>\n      <td>...</td>\n      <td>...</td>\n      <td>...</td>\n      <td>...</td>\n      <td>...</td>\n    </tr>\n    <tr>\n      <th>15639</th>\n      <td>2000</td>\n      <td>4</td>\n      <td>2015-12-25</td>\n      <td>CAAD Disc Ultegra</td>\n      <td>1</td>\n      <td>2660</td>\n      <td>2660</td>\n      <td>Austin Cruisers</td>\n      <td>Road</td>\n      <td>Elite Road</td>\n      <td>Aluminum</td>\n      <td>Austin</td>\n      <td>TX</td>\n    </tr>\n    <tr>\n      <th>15640</th>\n      <td>2000</td>\n      <td>5</td>\n      <td>2015-12-25</td>\n      <td>Trail 2</td>\n      <td>1</td>\n      <td>1350</td>\n      <td>1350</td>\n      <td>Austin Cruisers</td>\n      <td>Mountain</td>\n      <td>Sport</td>\n      <td>Aluminum</td>\n      <td>Austin</td>\n      <td>TX</td>\n    </tr>\n    <tr>\n      <th>15641</th>\n      <td>2000</td>\n      <td>6</td>\n      <td>2015-12-25</td>\n      <td>CAAD12 105</td>\n      <td>1</td>\n      <td>1680</td>\n      <td>1680</td>\n      <td>Austin Cruisers</td>\n      <td>Road</td>\n      <td>Elite Road</td>\n      <td>Aluminum</td>\n      <td>Austin</td>\n      <td>TX</td>\n    </tr>\n    <tr>\n      <th>15642</th>\n      <td>2000</td>\n      <td>7</td>\n      <td>2015-12-25</td>\n      <td>F-Si Carbon 4</td>\n      <td>1</td>\n      <td>2880</td>\n      <td>2880</td>\n      <td>Austin Cruisers</td>\n      <td>Mountain</td>\n      <td>Cross Country Race</td>\n      <td>Carbon</td>\n      <td>Austin</td>\n      <td>TX</td>\n    </tr>\n    <tr>\n      <th>15643</th>\n      <td>2000</td>\n      <td>8</td>\n      <td>2015-12-25</td>\n      <td>Scalpel-Si 5</td>\n      <td>1</td>\n      <td>3200</td>\n      <td>3200</td>\n      <td>Austin Cruisers</td>\n      <td>Mountain</td>\n      <td>Cross Country Race</td>\n      <td>Aluminum</td>\n      <td>Austin</td>\n      <td>TX</td>\n    </tr>\n  </tbody>\n</table>\n<p>15644 rows × 13 columns</p>\n</div>"
     },
     "execution_count": 235,
     "metadata": {},
     "output_type": "execute_result"
    }
   ],
   "source": [
    "df[cols_to_keep]"
   ]
  },
  {
   "cell_type": "code",
   "execution_count": 236,
   "metadata": {},
   "outputs": [],
   "source": [
    "df = df[cols_to_keep]"
   ]
  },
  {
   "cell_type": "code",
   "execution_count": 237,
   "metadata": {},
   "outputs": [
    {
     "data": {
      "text/html": "<div>\n<style scoped>\n    .dataframe tbody tr th:only-of-type {\n        vertical-align: middle;\n    }\n\n    .dataframe tbody tr th {\n        vertical-align: top;\n    }\n\n    .dataframe thead th {\n        text-align: right;\n    }\n</style>\n<table border=\"1\" class=\"dataframe\">\n  <thead>\n    <tr style=\"text-align: right;\">\n      <th></th>\n      <th>order.id</th>\n      <th>order.line</th>\n      <th>order.date</th>\n      <th>model</th>\n      <th>quantity</th>\n      <th>price</th>\n      <th>total.price</th>\n      <th>bikeshop.name</th>\n      <th>category.1</th>\n      <th>category.2</th>\n      <th>frame.material</th>\n      <th>city</th>\n      <th>state</th>\n    </tr>\n  </thead>\n  <tbody>\n    <tr>\n      <th>0</th>\n      <td>1</td>\n      <td>1</td>\n      <td>2011-01-07</td>\n      <td>Jekyll Carbon 2</td>\n      <td>1</td>\n      <td>6070</td>\n      <td>6070</td>\n      <td>Ithaca Mountain Climbers</td>\n      <td>Mountain</td>\n      <td>Over Mountain</td>\n      <td>Carbon</td>\n      <td>Ithaca</td>\n      <td>NY</td>\n    </tr>\n    <tr>\n      <th>1</th>\n      <td>1</td>\n      <td>2</td>\n      <td>2011-01-07</td>\n      <td>Trigger Carbon 2</td>\n      <td>1</td>\n      <td>5970</td>\n      <td>5970</td>\n      <td>Ithaca Mountain Climbers</td>\n      <td>Mountain</td>\n      <td>Over Mountain</td>\n      <td>Carbon</td>\n      <td>Ithaca</td>\n      <td>NY</td>\n    </tr>\n    <tr>\n      <th>2</th>\n      <td>2</td>\n      <td>1</td>\n      <td>2011-01-10</td>\n      <td>Beast of the East 1</td>\n      <td>1</td>\n      <td>2770</td>\n      <td>2770</td>\n      <td>Kansas City 29ers</td>\n      <td>Mountain</td>\n      <td>Trail</td>\n      <td>Aluminum</td>\n      <td>Kansas City</td>\n      <td>KS</td>\n    </tr>\n    <tr>\n      <th>3</th>\n      <td>2</td>\n      <td>2</td>\n      <td>2011-01-10</td>\n      <td>Trigger Carbon 2</td>\n      <td>1</td>\n      <td>5970</td>\n      <td>5970</td>\n      <td>Kansas City 29ers</td>\n      <td>Mountain</td>\n      <td>Over Mountain</td>\n      <td>Carbon</td>\n      <td>Kansas City</td>\n      <td>KS</td>\n    </tr>\n    <tr>\n      <th>4</th>\n      <td>3</td>\n      <td>1</td>\n      <td>2011-01-10</td>\n      <td>Supersix Evo Hi-Mod Team</td>\n      <td>1</td>\n      <td>10660</td>\n      <td>10660</td>\n      <td>Louisville Race Equipment</td>\n      <td>Road</td>\n      <td>Elite Road</td>\n      <td>Carbon</td>\n      <td>Louisville</td>\n      <td>KY</td>\n    </tr>\n    <tr>\n      <th>...</th>\n      <td>...</td>\n      <td>...</td>\n      <td>...</td>\n      <td>...</td>\n      <td>...</td>\n      <td>...</td>\n      <td>...</td>\n      <td>...</td>\n      <td>...</td>\n      <td>...</td>\n      <td>...</td>\n      <td>...</td>\n      <td>...</td>\n    </tr>\n    <tr>\n      <th>15639</th>\n      <td>2000</td>\n      <td>4</td>\n      <td>2015-12-25</td>\n      <td>CAAD Disc Ultegra</td>\n      <td>1</td>\n      <td>2660</td>\n      <td>2660</td>\n      <td>Austin Cruisers</td>\n      <td>Road</td>\n      <td>Elite Road</td>\n      <td>Aluminum</td>\n      <td>Austin</td>\n      <td>TX</td>\n    </tr>\n    <tr>\n      <th>15640</th>\n      <td>2000</td>\n      <td>5</td>\n      <td>2015-12-25</td>\n      <td>Trail 2</td>\n      <td>1</td>\n      <td>1350</td>\n      <td>1350</td>\n      <td>Austin Cruisers</td>\n      <td>Mountain</td>\n      <td>Sport</td>\n      <td>Aluminum</td>\n      <td>Austin</td>\n      <td>TX</td>\n    </tr>\n    <tr>\n      <th>15641</th>\n      <td>2000</td>\n      <td>6</td>\n      <td>2015-12-25</td>\n      <td>CAAD12 105</td>\n      <td>1</td>\n      <td>1680</td>\n      <td>1680</td>\n      <td>Austin Cruisers</td>\n      <td>Road</td>\n      <td>Elite Road</td>\n      <td>Aluminum</td>\n      <td>Austin</td>\n      <td>TX</td>\n    </tr>\n    <tr>\n      <th>15642</th>\n      <td>2000</td>\n      <td>7</td>\n      <td>2015-12-25</td>\n      <td>F-Si Carbon 4</td>\n      <td>1</td>\n      <td>2880</td>\n      <td>2880</td>\n      <td>Austin Cruisers</td>\n      <td>Mountain</td>\n      <td>Cross Country Race</td>\n      <td>Carbon</td>\n      <td>Austin</td>\n      <td>TX</td>\n    </tr>\n    <tr>\n      <th>15643</th>\n      <td>2000</td>\n      <td>8</td>\n      <td>2015-12-25</td>\n      <td>Scalpel-Si 5</td>\n      <td>1</td>\n      <td>3200</td>\n      <td>3200</td>\n      <td>Austin Cruisers</td>\n      <td>Mountain</td>\n      <td>Cross Country Race</td>\n      <td>Aluminum</td>\n      <td>Austin</td>\n      <td>TX</td>\n    </tr>\n  </tbody>\n</table>\n<p>15644 rows × 13 columns</p>\n</div>"
     },
     "execution_count": 237,
     "metadata": {},
     "output_type": "execute_result"
    }
   ],
   "source": [
    "df"
   ]
  },
  {
   "cell_type": "code",
   "execution_count": 238,
   "metadata": {},
   "outputs": [
    {
     "data": {
      "text/plain": "\u001B[32m'order_date'\u001B[0m\n",
      "text/html": "<pre style=\"white-space:pre;overflow-x:auto;line-height:normal;font-family:Menlo,'DejaVu Sans Mono',consolas,'Courier New',monospace\"><span style=\"color: #008000; text-decoration-color: #008000\">'order_date'</span>\n</pre>\n"
     },
     "metadata": {},
     "output_type": "display_data"
    }
   ],
   "source": [
    "'order.date'.replace(\".\", \"_\")"
   ]
  },
  {
   "cell_type": "code",
   "execution_count": 239,
   "metadata": {},
   "outputs": [
    {
     "name": "stderr",
     "output_type": "stream",
     "text": [
      "C:\\Users\\Дональд\\AppData\\Local\\Temp\\ipykernel_25788\\334791599.py:1: FutureWarning: The default value of regex will change from True to False in a future version. In addition, single character regular expressions will *not* be treated as literal strings when regex=True.\n"
     ]
    }
   ],
   "source": [
    "new_cols = df.columns.str.replace(pat='.', repl='_')"
   ]
  },
  {
   "cell_type": "code",
   "execution_count": 240,
   "metadata": {},
   "outputs": [],
   "source": [
    "df.columns = new_cols"
   ]
  },
  {
   "cell_type": "code",
   "execution_count": 241,
   "metadata": {},
   "outputs": [
    {
     "data": {
      "text/html": "<div>\n<style scoped>\n    .dataframe tbody tr th:only-of-type {\n        vertical-align: middle;\n    }\n\n    .dataframe tbody tr th {\n        vertical-align: top;\n    }\n\n    .dataframe thead th {\n        text-align: right;\n    }\n</style>\n<table border=\"1\" class=\"dataframe\">\n  <thead>\n    <tr style=\"text-align: right;\">\n      <th></th>\n      <th>order_id</th>\n      <th>order_line</th>\n      <th>order_date</th>\n      <th>model</th>\n      <th>quantity</th>\n      <th>price</th>\n      <th>total_price</th>\n      <th>bikeshop_name</th>\n      <th>category_1</th>\n      <th>category_2</th>\n      <th>frame_material</th>\n      <th>city</th>\n      <th>state</th>\n    </tr>\n  </thead>\n  <tbody>\n    <tr>\n      <th>0</th>\n      <td>1</td>\n      <td>1</td>\n      <td>2011-01-07</td>\n      <td>Jekyll Carbon 2</td>\n      <td>1</td>\n      <td>6070</td>\n      <td>6070</td>\n      <td>Ithaca Mountain Climbers</td>\n      <td>Mountain</td>\n      <td>Over Mountain</td>\n      <td>Carbon</td>\n      <td>Ithaca</td>\n      <td>NY</td>\n    </tr>\n    <tr>\n      <th>1</th>\n      <td>1</td>\n      <td>2</td>\n      <td>2011-01-07</td>\n      <td>Trigger Carbon 2</td>\n      <td>1</td>\n      <td>5970</td>\n      <td>5970</td>\n      <td>Ithaca Mountain Climbers</td>\n      <td>Mountain</td>\n      <td>Over Mountain</td>\n      <td>Carbon</td>\n      <td>Ithaca</td>\n      <td>NY</td>\n    </tr>\n    <tr>\n      <th>2</th>\n      <td>2</td>\n      <td>1</td>\n      <td>2011-01-10</td>\n      <td>Beast of the East 1</td>\n      <td>1</td>\n      <td>2770</td>\n      <td>2770</td>\n      <td>Kansas City 29ers</td>\n      <td>Mountain</td>\n      <td>Trail</td>\n      <td>Aluminum</td>\n      <td>Kansas City</td>\n      <td>KS</td>\n    </tr>\n    <tr>\n      <th>3</th>\n      <td>2</td>\n      <td>2</td>\n      <td>2011-01-10</td>\n      <td>Trigger Carbon 2</td>\n      <td>1</td>\n      <td>5970</td>\n      <td>5970</td>\n      <td>Kansas City 29ers</td>\n      <td>Mountain</td>\n      <td>Over Mountain</td>\n      <td>Carbon</td>\n      <td>Kansas City</td>\n      <td>KS</td>\n    </tr>\n    <tr>\n      <th>4</th>\n      <td>3</td>\n      <td>1</td>\n      <td>2011-01-10</td>\n      <td>Supersix Evo Hi-Mod Team</td>\n      <td>1</td>\n      <td>10660</td>\n      <td>10660</td>\n      <td>Louisville Race Equipment</td>\n      <td>Road</td>\n      <td>Elite Road</td>\n      <td>Carbon</td>\n      <td>Louisville</td>\n      <td>KY</td>\n    </tr>\n    <tr>\n      <th>...</th>\n      <td>...</td>\n      <td>...</td>\n      <td>...</td>\n      <td>...</td>\n      <td>...</td>\n      <td>...</td>\n      <td>...</td>\n      <td>...</td>\n      <td>...</td>\n      <td>...</td>\n      <td>...</td>\n      <td>...</td>\n      <td>...</td>\n    </tr>\n    <tr>\n      <th>15639</th>\n      <td>2000</td>\n      <td>4</td>\n      <td>2015-12-25</td>\n      <td>CAAD Disc Ultegra</td>\n      <td>1</td>\n      <td>2660</td>\n      <td>2660</td>\n      <td>Austin Cruisers</td>\n      <td>Road</td>\n      <td>Elite Road</td>\n      <td>Aluminum</td>\n      <td>Austin</td>\n      <td>TX</td>\n    </tr>\n    <tr>\n      <th>15640</th>\n      <td>2000</td>\n      <td>5</td>\n      <td>2015-12-25</td>\n      <td>Trail 2</td>\n      <td>1</td>\n      <td>1350</td>\n      <td>1350</td>\n      <td>Austin Cruisers</td>\n      <td>Mountain</td>\n      <td>Sport</td>\n      <td>Aluminum</td>\n      <td>Austin</td>\n      <td>TX</td>\n    </tr>\n    <tr>\n      <th>15641</th>\n      <td>2000</td>\n      <td>6</td>\n      <td>2015-12-25</td>\n      <td>CAAD12 105</td>\n      <td>1</td>\n      <td>1680</td>\n      <td>1680</td>\n      <td>Austin Cruisers</td>\n      <td>Road</td>\n      <td>Elite Road</td>\n      <td>Aluminum</td>\n      <td>Austin</td>\n      <td>TX</td>\n    </tr>\n    <tr>\n      <th>15642</th>\n      <td>2000</td>\n      <td>7</td>\n      <td>2015-12-25</td>\n      <td>F-Si Carbon 4</td>\n      <td>1</td>\n      <td>2880</td>\n      <td>2880</td>\n      <td>Austin Cruisers</td>\n      <td>Mountain</td>\n      <td>Cross Country Race</td>\n      <td>Carbon</td>\n      <td>Austin</td>\n      <td>TX</td>\n    </tr>\n    <tr>\n      <th>15643</th>\n      <td>2000</td>\n      <td>8</td>\n      <td>2015-12-25</td>\n      <td>Scalpel-Si 5</td>\n      <td>1</td>\n      <td>3200</td>\n      <td>3200</td>\n      <td>Austin Cruisers</td>\n      <td>Mountain</td>\n      <td>Cross Country Race</td>\n      <td>Aluminum</td>\n      <td>Austin</td>\n      <td>TX</td>\n    </tr>\n  </tbody>\n</table>\n<p>15644 rows × 13 columns</p>\n</div>"
     },
     "execution_count": 241,
     "metadata": {},
     "output_type": "execute_result"
    }
   ],
   "source": [
    "df"
   ]
  },
  {
   "cell_type": "code",
   "execution_count": 242,
   "metadata": {},
   "outputs": [
    {
     "data": {
      "text/html": "<div>\n<style scoped>\n    .dataframe tbody tr th:only-of-type {\n        vertical-align: middle;\n    }\n\n    .dataframe tbody tr th {\n        vertical-align: top;\n    }\n\n    .dataframe thead th {\n        text-align: right;\n    }\n</style>\n<table border=\"1\" class=\"dataframe\">\n  <thead>\n    <tr style=\"text-align: right;\">\n      <th></th>\n      <th>order.id</th>\n      <th>order.line</th>\n      <th>order.date</th>\n      <th>customer.id</th>\n      <th>product.id</th>\n      <th>quantity</th>\n      <th>bike.id</th>\n      <th>model</th>\n      <th>description</th>\n      <th>price</th>\n      <th>bikeshop.id</th>\n      <th>bikeshop.name</th>\n      <th>location</th>\n      <th>category.1</th>\n      <th>category.2</th>\n      <th>frame.material</th>\n      <th>city</th>\n      <th>state</th>\n      <th>total.price</th>\n    </tr>\n  </thead>\n  <tbody>\n    <tr>\n      <th>0</th>\n      <td>1</td>\n      <td>1</td>\n      <td>2011-01-07</td>\n      <td>2</td>\n      <td>48</td>\n      <td>1</td>\n      <td>48</td>\n      <td>Jekyll Carbon 2</td>\n      <td>Mountain - Over Mountain - Carbon</td>\n      <td>6070</td>\n      <td>2</td>\n      <td>Ithaca Mountain Climbers</td>\n      <td>Ithaca, NY</td>\n      <td>Mountain</td>\n      <td>Over Mountain</td>\n      <td>Carbon</td>\n      <td>Ithaca</td>\n      <td>NY</td>\n      <td>6070</td>\n    </tr>\n    <tr>\n      <th>1</th>\n      <td>1</td>\n      <td>2</td>\n      <td>2011-01-07</td>\n      <td>2</td>\n      <td>52</td>\n      <td>1</td>\n      <td>52</td>\n      <td>Trigger Carbon 2</td>\n      <td>Mountain - Over Mountain - Carbon</td>\n      <td>5970</td>\n      <td>2</td>\n      <td>Ithaca Mountain Climbers</td>\n      <td>Ithaca, NY</td>\n      <td>Mountain</td>\n      <td>Over Mountain</td>\n      <td>Carbon</td>\n      <td>Ithaca</td>\n      <td>NY</td>\n      <td>5970</td>\n    </tr>\n    <tr>\n      <th>2</th>\n      <td>2</td>\n      <td>1</td>\n      <td>2011-01-10</td>\n      <td>10</td>\n      <td>76</td>\n      <td>1</td>\n      <td>76</td>\n      <td>Beast of the East 1</td>\n      <td>Mountain - Trail - Aluminum</td>\n      <td>2770</td>\n      <td>10</td>\n      <td>Kansas City 29ers</td>\n      <td>Kansas City, KS</td>\n      <td>Mountain</td>\n      <td>Trail</td>\n      <td>Aluminum</td>\n      <td>Kansas City</td>\n      <td>KS</td>\n      <td>2770</td>\n    </tr>\n    <tr>\n      <th>3</th>\n      <td>2</td>\n      <td>2</td>\n      <td>2011-01-10</td>\n      <td>10</td>\n      <td>52</td>\n      <td>1</td>\n      <td>52</td>\n      <td>Trigger Carbon 2</td>\n      <td>Mountain - Over Mountain - Carbon</td>\n      <td>5970</td>\n      <td>10</td>\n      <td>Kansas City 29ers</td>\n      <td>Kansas City, KS</td>\n      <td>Mountain</td>\n      <td>Over Mountain</td>\n      <td>Carbon</td>\n      <td>Kansas City</td>\n      <td>KS</td>\n      <td>5970</td>\n    </tr>\n    <tr>\n      <th>4</th>\n      <td>3</td>\n      <td>1</td>\n      <td>2011-01-10</td>\n      <td>6</td>\n      <td>2</td>\n      <td>1</td>\n      <td>2</td>\n      <td>Supersix Evo Hi-Mod Team</td>\n      <td>Road - Elite Road - Carbon</td>\n      <td>10660</td>\n      <td>6</td>\n      <td>Louisville Race Equipment</td>\n      <td>Louisville, KY</td>\n      <td>Road</td>\n      <td>Elite Road</td>\n      <td>Carbon</td>\n      <td>Louisville</td>\n      <td>KY</td>\n      <td>10660</td>\n    </tr>\n    <tr>\n      <th>...</th>\n      <td>...</td>\n      <td>...</td>\n      <td>...</td>\n      <td>...</td>\n      <td>...</td>\n      <td>...</td>\n      <td>...</td>\n      <td>...</td>\n      <td>...</td>\n      <td>...</td>\n      <td>...</td>\n      <td>...</td>\n      <td>...</td>\n      <td>...</td>\n      <td>...</td>\n      <td>...</td>\n      <td>...</td>\n      <td>...</td>\n      <td>...</td>\n    </tr>\n    <tr>\n      <th>15639</th>\n      <td>2000</td>\n      <td>4</td>\n      <td>2015-12-25</td>\n      <td>15</td>\n      <td>14</td>\n      <td>1</td>\n      <td>14</td>\n      <td>CAAD Disc Ultegra</td>\n      <td>Road - Elite Road - Aluminum</td>\n      <td>2660</td>\n      <td>15</td>\n      <td>Austin Cruisers</td>\n      <td>Austin, TX</td>\n      <td>Road</td>\n      <td>Elite Road</td>\n      <td>Aluminum</td>\n      <td>Austin</td>\n      <td>TX</td>\n      <td>2660</td>\n    </tr>\n    <tr>\n      <th>15640</th>\n      <td>2000</td>\n      <td>5</td>\n      <td>2015-12-25</td>\n      <td>15</td>\n      <td>90</td>\n      <td>1</td>\n      <td>90</td>\n      <td>Trail 2</td>\n      <td>Mountain - Sport - Aluminum</td>\n      <td>1350</td>\n      <td>15</td>\n      <td>Austin Cruisers</td>\n      <td>Austin, TX</td>\n      <td>Mountain</td>\n      <td>Sport</td>\n      <td>Aluminum</td>\n      <td>Austin</td>\n      <td>TX</td>\n      <td>1350</td>\n    </tr>\n    <tr>\n      <th>15641</th>\n      <td>2000</td>\n      <td>6</td>\n      <td>2015-12-25</td>\n      <td>15</td>\n      <td>17</td>\n      <td>1</td>\n      <td>17</td>\n      <td>CAAD12 105</td>\n      <td>Road - Elite Road - Aluminum</td>\n      <td>1680</td>\n      <td>15</td>\n      <td>Austin Cruisers</td>\n      <td>Austin, TX</td>\n      <td>Road</td>\n      <td>Elite Road</td>\n      <td>Aluminum</td>\n      <td>Austin</td>\n      <td>TX</td>\n      <td>1680</td>\n    </tr>\n    <tr>\n      <th>15642</th>\n      <td>2000</td>\n      <td>7</td>\n      <td>2015-12-25</td>\n      <td>15</td>\n      <td>70</td>\n      <td>1</td>\n      <td>70</td>\n      <td>F-Si Carbon 4</td>\n      <td>Mountain - Cross Country Race - Carbon</td>\n      <td>2880</td>\n      <td>15</td>\n      <td>Austin Cruisers</td>\n      <td>Austin, TX</td>\n      <td>Mountain</td>\n      <td>Cross Country Race</td>\n      <td>Carbon</td>\n      <td>Austin</td>\n      <td>TX</td>\n      <td>2880</td>\n    </tr>\n    <tr>\n      <th>15643</th>\n      <td>2000</td>\n      <td>8</td>\n      <td>2015-12-25</td>\n      <td>15</td>\n      <td>61</td>\n      <td>1</td>\n      <td>61</td>\n      <td>Scalpel-Si 5</td>\n      <td>Mountain - Cross Country Race - Aluminum</td>\n      <td>3200</td>\n      <td>15</td>\n      <td>Austin Cruisers</td>\n      <td>Austin, TX</td>\n      <td>Mountain</td>\n      <td>Cross Country Race</td>\n      <td>Aluminum</td>\n      <td>Austin</td>\n      <td>TX</td>\n      <td>3200</td>\n    </tr>\n  </tbody>\n</table>\n<p>15644 rows × 19 columns</p>\n</div>"
     },
     "execution_count": 242,
     "metadata": {},
     "output_type": "execute_result"
    }
   ],
   "source": [
    "bikes_orderlines_joined_df"
   ]
  },
  {
   "cell_type": "code",
   "execution_count": 243,
   "metadata": {},
   "outputs": [],
   "source": [
    "bikes_orderlines_wrangled_df = df"
   ]
  },
  {
   "cell_type": "code",
   "execution_count": 244,
   "metadata": {},
   "outputs": [
    {
     "data": {
      "text/html": "<div>\n<style scoped>\n    .dataframe tbody tr th:only-of-type {\n        vertical-align: middle;\n    }\n\n    .dataframe tbody tr th {\n        vertical-align: top;\n    }\n\n    .dataframe thead th {\n        text-align: right;\n    }\n</style>\n<table border=\"1\" class=\"dataframe\">\n  <thead>\n    <tr style=\"text-align: right;\">\n      <th></th>\n      <th>order_id</th>\n      <th>order_line</th>\n      <th>order_date</th>\n      <th>model</th>\n      <th>quantity</th>\n      <th>price</th>\n      <th>total_price</th>\n      <th>bikeshop_name</th>\n      <th>category_1</th>\n      <th>category_2</th>\n      <th>frame_material</th>\n      <th>city</th>\n      <th>state</th>\n    </tr>\n  </thead>\n  <tbody>\n    <tr>\n      <th>0</th>\n      <td>1</td>\n      <td>1</td>\n      <td>2011-01-07</td>\n      <td>Jekyll Carbon 2</td>\n      <td>1</td>\n      <td>6070</td>\n      <td>6070</td>\n      <td>Ithaca Mountain Climbers</td>\n      <td>Mountain</td>\n      <td>Over Mountain</td>\n      <td>Carbon</td>\n      <td>Ithaca</td>\n      <td>NY</td>\n    </tr>\n    <tr>\n      <th>1</th>\n      <td>1</td>\n      <td>2</td>\n      <td>2011-01-07</td>\n      <td>Trigger Carbon 2</td>\n      <td>1</td>\n      <td>5970</td>\n      <td>5970</td>\n      <td>Ithaca Mountain Climbers</td>\n      <td>Mountain</td>\n      <td>Over Mountain</td>\n      <td>Carbon</td>\n      <td>Ithaca</td>\n      <td>NY</td>\n    </tr>\n    <tr>\n      <th>2</th>\n      <td>2</td>\n      <td>1</td>\n      <td>2011-01-10</td>\n      <td>Beast of the East 1</td>\n      <td>1</td>\n      <td>2770</td>\n      <td>2770</td>\n      <td>Kansas City 29ers</td>\n      <td>Mountain</td>\n      <td>Trail</td>\n      <td>Aluminum</td>\n      <td>Kansas City</td>\n      <td>KS</td>\n    </tr>\n    <tr>\n      <th>3</th>\n      <td>2</td>\n      <td>2</td>\n      <td>2011-01-10</td>\n      <td>Trigger Carbon 2</td>\n      <td>1</td>\n      <td>5970</td>\n      <td>5970</td>\n      <td>Kansas City 29ers</td>\n      <td>Mountain</td>\n      <td>Over Mountain</td>\n      <td>Carbon</td>\n      <td>Kansas City</td>\n      <td>KS</td>\n    </tr>\n    <tr>\n      <th>4</th>\n      <td>3</td>\n      <td>1</td>\n      <td>2011-01-10</td>\n      <td>Supersix Evo Hi-Mod Team</td>\n      <td>1</td>\n      <td>10660</td>\n      <td>10660</td>\n      <td>Louisville Race Equipment</td>\n      <td>Road</td>\n      <td>Elite Road</td>\n      <td>Carbon</td>\n      <td>Louisville</td>\n      <td>KY</td>\n    </tr>\n    <tr>\n      <th>...</th>\n      <td>...</td>\n      <td>...</td>\n      <td>...</td>\n      <td>...</td>\n      <td>...</td>\n      <td>...</td>\n      <td>...</td>\n      <td>...</td>\n      <td>...</td>\n      <td>...</td>\n      <td>...</td>\n      <td>...</td>\n      <td>...</td>\n    </tr>\n    <tr>\n      <th>15639</th>\n      <td>2000</td>\n      <td>4</td>\n      <td>2015-12-25</td>\n      <td>CAAD Disc Ultegra</td>\n      <td>1</td>\n      <td>2660</td>\n      <td>2660</td>\n      <td>Austin Cruisers</td>\n      <td>Road</td>\n      <td>Elite Road</td>\n      <td>Aluminum</td>\n      <td>Austin</td>\n      <td>TX</td>\n    </tr>\n    <tr>\n      <th>15640</th>\n      <td>2000</td>\n      <td>5</td>\n      <td>2015-12-25</td>\n      <td>Trail 2</td>\n      <td>1</td>\n      <td>1350</td>\n      <td>1350</td>\n      <td>Austin Cruisers</td>\n      <td>Mountain</td>\n      <td>Sport</td>\n      <td>Aluminum</td>\n      <td>Austin</td>\n      <td>TX</td>\n    </tr>\n    <tr>\n      <th>15641</th>\n      <td>2000</td>\n      <td>6</td>\n      <td>2015-12-25</td>\n      <td>CAAD12 105</td>\n      <td>1</td>\n      <td>1680</td>\n      <td>1680</td>\n      <td>Austin Cruisers</td>\n      <td>Road</td>\n      <td>Elite Road</td>\n      <td>Aluminum</td>\n      <td>Austin</td>\n      <td>TX</td>\n    </tr>\n    <tr>\n      <th>15642</th>\n      <td>2000</td>\n      <td>7</td>\n      <td>2015-12-25</td>\n      <td>F-Si Carbon 4</td>\n      <td>1</td>\n      <td>2880</td>\n      <td>2880</td>\n      <td>Austin Cruisers</td>\n      <td>Mountain</td>\n      <td>Cross Country Race</td>\n      <td>Carbon</td>\n      <td>Austin</td>\n      <td>TX</td>\n    </tr>\n    <tr>\n      <th>15643</th>\n      <td>2000</td>\n      <td>8</td>\n      <td>2015-12-25</td>\n      <td>Scalpel-Si 5</td>\n      <td>1</td>\n      <td>3200</td>\n      <td>3200</td>\n      <td>Austin Cruisers</td>\n      <td>Mountain</td>\n      <td>Cross Country Race</td>\n      <td>Aluminum</td>\n      <td>Austin</td>\n      <td>TX</td>\n    </tr>\n  </tbody>\n</table>\n<p>15644 rows × 13 columns</p>\n</div>"
     },
     "execution_count": 244,
     "metadata": {},
     "output_type": "execute_result"
    }
   ],
   "source": [
    "bikes_orderlines_wrangled_df"
   ]
  },
  {
   "cell_type": "code",
   "execution_count": 245,
   "metadata": {},
   "outputs": [
    {
     "ename": "FileExistsError",
     "evalue": "[WinError 183] Cannot create a file when that file already exists: '00_data_wrangled'",
     "output_type": "error",
     "traceback": [
      "\u001B[1;31m---------------------------------------------------------------------------\u001B[0m",
      "\u001B[1;31mFileExistsError\u001B[0m                           Traceback (most recent call last)",
      "\u001B[1;32m~\\AppData\\Local\\Temp\\ipykernel_25788\\584536126.py\u001B[0m in \u001B[0;36m<module>\u001B[1;34m\u001B[0m\n\u001B[1;32m----> 1\u001B[1;33m \u001B[0mmkdir\u001B[0m\u001B[1;33m(\u001B[0m\u001B[1;34m'00_data_wrangled'\u001B[0m\u001B[1;33m)\u001B[0m\u001B[1;33m\u001B[0m\u001B[1;33m\u001B[0m\u001B[0m\n\u001B[0m",
      "\u001B[1;31mFileExistsError\u001B[0m: [WinError 183] Cannot create a file when that file already exists: '00_data_wrangled'"
     ]
    }
   ],
   "source": [
    "mkdir('00_data_wrangled')"
   ]
  },
  {
   "cell_type": "code",
   "execution_count": null,
   "metadata": {},
   "outputs": [],
   "source": [
    "\"\"\"\n",
    "df.to_pickle() writes our file in a binary file.\n",
    "We can then load the file and it gets returned in the same format that we saved in.\n",
    "\"\"\"\n",
    "bikes_orderlines_wrangled_df.to_pickle(\"00_data_wrangled/bike_orderlines_wrangled_df.pkl\")"
   ]
  },
  {
   "cell_type": "code",
   "execution_count": null,
   "metadata": {},
   "outputs": [],
   "source": [
    "df = pd.read_pickle(\"00_data_wrangled/bike_orderlines_wrangled_df.pkl\")"
   ]
  },
  {
   "cell_type": "code",
   "execution_count": null,
   "metadata": {},
   "outputs": [],
   "source": [
    "df"
   ]
  },
  {
   "cell_type": "code",
   "execution_count": null,
   "metadata": {},
   "outputs": [],
   "source": [
    "df[\"order_date\"]"
   ]
  },
  {
   "cell_type": "code",
   "execution_count": null,
   "metadata": {},
   "outputs": [],
   "source": [
    "df[\"order_date\"].dt"
   ]
  },
  {
   "cell_type": "code",
   "execution_count": null,
   "metadata": {},
   "outputs": [],
   "source": [
    "# df = pd.Dataframe(df)\n",
    "order_date_series = df['order_date']\n",
    "order_date_series.dt.year"
   ]
  },
  {
   "cell_type": "code",
   "execution_count": null,
   "outputs": [],
   "source": [
    "df[[ 'order_date', 'total_price' ]] \\\n",
    "    .set_index('order_date') \\\n",
    "    .resample(rule='YS') \\\n",
    "    .sum()\n",
    "# Year start"
   ],
   "metadata": {
    "collapsed": false,
    "pycharm": {
     "name": "#%%\n"
    }
   }
  },
  {
   "cell_type": "code",
   "execution_count": null,
   "outputs": [],
   "source": [
    "# ?df.resample"
   ],
   "metadata": {
    "collapsed": false,
    "pycharm": {
     "name": "#%%\n"
    }
   }
  },
  {
   "cell_type": "code",
   "execution_count": null,
   "outputs": [],
   "source": [
    "df[[ 'order_date', 'total_price' ]] \\\n",
    "    .set_index('order_date') \\\n",
    "    .resample(rule='Y') \\\n",
    "    .sum()\n"
   ],
   "metadata": {
    "collapsed": false,
    "pycharm": {
     "name": "#%%\n"
    }
   }
  },
  {
   "cell_type": "code",
   "execution_count": null,
   "outputs": [],
   "source": [
    "df[[ 'order_date', 'total_price' ]] \\\n",
    "    .set_index('order_date') \\\n",
    "    .resample(rule='YS') \\\n",
    "    .aggregate(np.sum)"
   ],
   "metadata": {
    "collapsed": false,
    "pycharm": {
     "name": "#%%\n"
    }
   }
  },
  {
   "cell_type": "code",
   "execution_count": null,
   "outputs": [],
   "source": [
    "# sales by month\n",
    "sales_by_months = df[[ 'order_date', 'total_price' ]] \\\n",
    "    .set_index('order_date') \\\n",
    "    .resample(rule='MS') \\\n",
    "    .aggregate(np.sum) \\\n",
    "    .reset_index()"
   ],
   "metadata": {
    "collapsed": false,
    "pycharm": {
     "name": "#%%\n"
    }
   }
  },
  {
   "cell_type": "code",
   "execution_count": null,
   "outputs": [],
   "source": [
    "sales_by_months"
   ],
   "metadata": {
    "collapsed": false,
    "pycharm": {
     "name": "#%%\n"
    }
   }
  },
  {
   "cell_type": "code",
   "execution_count": null,
   "outputs": [],
   "source": [],
   "metadata": {
    "collapsed": false,
    "pycharm": {
     "name": "#%%\n"
    }
   }
  },
  {
   "cell_type": "code",
   "execution_count": 161,
   "metadata": {},
   "outputs": [],
   "source": [
    "# ?df.resample"
   ]
  },
  {
   "cell_type": "code",
   "execution_count": 166,
   "metadata": {},
   "outputs": [
    {
     "data": {
      "text/html": [
       "<div>\n",
       "<style scoped>\n",
       "    .dataframe tbody tr th:only-of-type {\n",
       "        vertical-align: middle;\n",
       "    }\n",
       "\n",
       "    .dataframe tbody tr th {\n",
       "        vertical-align: top;\n",
       "    }\n",
       "\n",
       "    .dataframe thead th {\n",
       "        text-align: right;\n",
       "    }\n",
       "</style>\n",
       "<table border=\"1\" class=\"dataframe\">\n",
       "  <thead>\n",
       "    <tr style=\"text-align: right;\">\n",
       "      <th></th>\n",
       "      <th>total_price</th>\n",
       "    </tr>\n",
       "    <tr>\n",
       "      <th>order_date</th>\n",
       "      <th></th>\n",
       "    </tr>\n",
       "  </thead>\n",
       "  <tbody>\n",
       "    <tr>\n",
       "      <th>2011-12-31</th>\n",
       "      <td>11292885</td>\n",
       "    </tr>\n",
       "    <tr>\n",
       "      <th>2012-12-31</th>\n",
       "      <td>12163075</td>\n",
       "    </tr>\n",
       "    <tr>\n",
       "      <th>2013-12-31</th>\n",
       "      <td>16480775</td>\n",
       "    </tr>\n",
       "    <tr>\n",
       "      <th>2014-12-31</th>\n",
       "      <td>13924085</td>\n",
       "    </tr>\n",
       "    <tr>\n",
       "      <th>2015-12-31</th>\n",
       "      <td>17171510</td>\n",
       "    </tr>\n",
       "  </tbody>\n",
       "</table>\n",
       "</div>"
      ]
     },
     "execution_count": 166,
     "metadata": {},
     "output_type": "execute_result"
    }
   ],
   "source": [
    "df[[ 'order_date', 'total_price' ]] \\\n",
    "    .set_index('order_date') \\\n",
    "    .resample(rule='Y') \\\n",
    "    .sum()\n"
   ]
  },
  {
   "cell_type": "code",
   "execution_count": 167,
   "metadata": {},
   "outputs": [
    {
     "data": {
      "text/html": [
       "<div>\n",
       "<style scoped>\n",
       "    .dataframe tbody tr th:only-of-type {\n",
       "        vertical-align: middle;\n",
       "    }\n",
       "\n",
       "    .dataframe tbody tr th {\n",
       "        vertical-align: top;\n",
       "    }\n",
       "\n",
       "    .dataframe thead th {\n",
       "        text-align: right;\n",
       "    }\n",
       "</style>\n",
       "<table border=\"1\" class=\"dataframe\">\n",
       "  <thead>\n",
       "    <tr style=\"text-align: right;\">\n",
       "      <th></th>\n",
       "      <th>total_price</th>\n",
       "    </tr>\n",
       "    <tr>\n",
       "      <th>order_date</th>\n",
       "      <th></th>\n",
       "    </tr>\n",
       "  </thead>\n",
       "  <tbody>\n",
       "    <tr>\n",
       "      <th>2011-01-01</th>\n",
       "      <td>11292885</td>\n",
       "    </tr>\n",
       "    <tr>\n",
       "      <th>2012-01-01</th>\n",
       "      <td>12163075</td>\n",
       "    </tr>\n",
       "    <tr>\n",
       "      <th>2013-01-01</th>\n",
       "      <td>16480775</td>\n",
       "    </tr>\n",
       "    <tr>\n",
       "      <th>2014-01-01</th>\n",
       "      <td>13924085</td>\n",
       "    </tr>\n",
       "    <tr>\n",
       "      <th>2015-01-01</th>\n",
       "      <td>17171510</td>\n",
       "    </tr>\n",
       "  </tbody>\n",
       "</table>\n",
       "</div>"
      ]
     },
     "execution_count": 167,
     "metadata": {},
     "output_type": "execute_result"
    }
   ],
   "source": [
    "df[[ 'order_date', 'total_price' ]] \\\n",
    "    .set_index('order_date') \\\n",
    "    .resample(rule='YS') \\\n",
    "    .aggregate(np.sum)"
   ]
  },
  {
   "cell_type": "code",
   "execution_count": 171,
   "metadata": {},
   "outputs": [],
   "source": [
    "# sales by month\n",
    "sales_by_months = df[[ 'order_date', 'total_price' ]] \\\n",
    "    .set_index('order_date') \\\n",
    "    .resample(rule='MS') \\\n",
    "    .aggregate(np.sum) \\\n",
    "    .reset_index()"
   ]
  },
  {
   "cell_type": "code",
   "execution_count": 172,
   "metadata": {},
   "outputs": [
    {
     "data": {
      "text/html": [
       "<div>\n",
       "<style scoped>\n",
       "    .dataframe tbody tr th:only-of-type {\n",
       "        vertical-align: middle;\n",
       "    }\n",
       "\n",
       "    .dataframe tbody tr th {\n",
       "        vertical-align: top;\n",
       "    }\n",
       "\n",
       "    .dataframe thead th {\n",
       "        text-align: right;\n",
       "    }\n",
       "</style>\n",
       "<table border=\"1\" class=\"dataframe\">\n",
       "  <thead>\n",
       "    <tr style=\"text-align: right;\">\n",
       "      <th></th>\n",
       "      <th>order_date</th>\n",
       "      <th>total_price</th>\n",
       "    </tr>\n",
       "  </thead>\n",
       "  <tbody>\n",
       "    <tr>\n",
       "      <th>0</th>\n",
       "      <td>2011-01-01</td>\n",
       "      <td>483015</td>\n",
       "    </tr>\n",
       "    <tr>\n",
       "      <th>1</th>\n",
       "      <td>2011-02-01</td>\n",
       "      <td>1162075</td>\n",
       "    </tr>\n",
       "    <tr>\n",
       "      <th>2</th>\n",
       "      <td>2011-03-01</td>\n",
       "      <td>659975</td>\n",
       "    </tr>\n",
       "    <tr>\n",
       "      <th>3</th>\n",
       "      <td>2011-04-01</td>\n",
       "      <td>1827140</td>\n",
       "    </tr>\n",
       "    <tr>\n",
       "      <th>4</th>\n",
       "      <td>2011-05-01</td>\n",
       "      <td>844170</td>\n",
       "    </tr>\n",
       "    <tr>\n",
       "      <th>5</th>\n",
       "      <td>2011-06-01</td>\n",
       "      <td>1413445</td>\n",
       "    </tr>\n",
       "    <tr>\n",
       "      <th>6</th>\n",
       "      <td>2011-07-01</td>\n",
       "      <td>1194430</td>\n",
       "    </tr>\n",
       "    <tr>\n",
       "      <th>7</th>\n",
       "      <td>2011-08-01</td>\n",
       "      <td>679790</td>\n",
       "    </tr>\n",
       "    <tr>\n",
       "      <th>8</th>\n",
       "      <td>2011-09-01</td>\n",
       "      <td>814720</td>\n",
       "    </tr>\n",
       "    <tr>\n",
       "      <th>9</th>\n",
       "      <td>2011-10-01</td>\n",
       "      <td>734920</td>\n",
       "    </tr>\n",
       "    <tr>\n",
       "      <th>10</th>\n",
       "      <td>2011-11-01</td>\n",
       "      <td>1006085</td>\n",
       "    </tr>\n",
       "    <tr>\n",
       "      <th>11</th>\n",
       "      <td>2011-12-01</td>\n",
       "      <td>473120</td>\n",
       "    </tr>\n",
       "    <tr>\n",
       "      <th>12</th>\n",
       "      <td>2012-01-01</td>\n",
       "      <td>710800</td>\n",
       "    </tr>\n",
       "    <tr>\n",
       "      <th>13</th>\n",
       "      <td>2012-02-01</td>\n",
       "      <td>671790</td>\n",
       "    </tr>\n",
       "    <tr>\n",
       "      <th>14</th>\n",
       "      <td>2012-03-01</td>\n",
       "      <td>1505065</td>\n",
       "    </tr>\n",
       "    <tr>\n",
       "      <th>15</th>\n",
       "      <td>2012-04-01</td>\n",
       "      <td>1620225</td>\n",
       "    </tr>\n",
       "    <tr>\n",
       "      <th>16</th>\n",
       "      <td>2012-05-01</td>\n",
       "      <td>962180</td>\n",
       "    </tr>\n",
       "    <tr>\n",
       "      <th>17</th>\n",
       "      <td>2012-06-01</td>\n",
       "      <td>1029910</td>\n",
       "    </tr>\n",
       "    <tr>\n",
       "      <th>18</th>\n",
       "      <td>2012-07-01</td>\n",
       "      <td>1472550</td>\n",
       "    </tr>\n",
       "    <tr>\n",
       "      <th>19</th>\n",
       "      <td>2012-08-01</td>\n",
       "      <td>1290050</td>\n",
       "    </tr>\n",
       "    <tr>\n",
       "      <th>20</th>\n",
       "      <td>2012-09-01</td>\n",
       "      <td>1076010</td>\n",
       "    </tr>\n",
       "    <tr>\n",
       "      <th>21</th>\n",
       "      <td>2012-10-01</td>\n",
       "      <td>542785</td>\n",
       "    </tr>\n",
       "    <tr>\n",
       "      <th>22</th>\n",
       "      <td>2012-11-01</td>\n",
       "      <td>719685</td>\n",
       "    </tr>\n",
       "    <tr>\n",
       "      <th>23</th>\n",
       "      <td>2012-12-01</td>\n",
       "      <td>562025</td>\n",
       "    </tr>\n",
       "    <tr>\n",
       "      <th>24</th>\n",
       "      <td>2013-01-01</td>\n",
       "      <td>935250</td>\n",
       "    </tr>\n",
       "    <tr>\n",
       "      <th>25</th>\n",
       "      <td>2013-02-01</td>\n",
       "      <td>1170240</td>\n",
       "    </tr>\n",
       "    <tr>\n",
       "      <th>26</th>\n",
       "      <td>2013-03-01</td>\n",
       "      <td>1917605</td>\n",
       "    </tr>\n",
       "    <tr>\n",
       "      <th>27</th>\n",
       "      <td>2013-04-01</td>\n",
       "      <td>1207535</td>\n",
       "    </tr>\n",
       "    <tr>\n",
       "      <th>28</th>\n",
       "      <td>2013-05-01</td>\n",
       "      <td>2082175</td>\n",
       "    </tr>\n",
       "    <tr>\n",
       "      <th>29</th>\n",
       "      <td>2013-06-01</td>\n",
       "      <td>1952355</td>\n",
       "    </tr>\n",
       "    <tr>\n",
       "      <th>30</th>\n",
       "      <td>2013-07-01</td>\n",
       "      <td>2018845</td>\n",
       "    </tr>\n",
       "    <tr>\n",
       "      <th>31</th>\n",
       "      <td>2013-08-01</td>\n",
       "      <td>1370415</td>\n",
       "    </tr>\n",
       "    <tr>\n",
       "      <th>32</th>\n",
       "      <td>2013-09-01</td>\n",
       "      <td>1063260</td>\n",
       "    </tr>\n",
       "    <tr>\n",
       "      <th>33</th>\n",
       "      <td>2013-10-01</td>\n",
       "      <td>1124400</td>\n",
       "    </tr>\n",
       "    <tr>\n",
       "      <th>34</th>\n",
       "      <td>2013-11-01</td>\n",
       "      <td>817190</td>\n",
       "    </tr>\n",
       "    <tr>\n",
       "      <th>35</th>\n",
       "      <td>2013-12-01</td>\n",
       "      <td>821505</td>\n",
       "    </tr>\n",
       "    <tr>\n",
       "      <th>36</th>\n",
       "      <td>2014-01-01</td>\n",
       "      <td>998030</td>\n",
       "    </tr>\n",
       "    <tr>\n",
       "      <th>37</th>\n",
       "      <td>2014-02-01</td>\n",
       "      <td>892265</td>\n",
       "    </tr>\n",
       "    <tr>\n",
       "      <th>38</th>\n",
       "      <td>2014-03-01</td>\n",
       "      <td>1040760</td>\n",
       "    </tr>\n",
       "    <tr>\n",
       "      <th>39</th>\n",
       "      <td>2014-04-01</td>\n",
       "      <td>1256935</td>\n",
       "    </tr>\n",
       "    <tr>\n",
       "      <th>40</th>\n",
       "      <td>2014-05-01</td>\n",
       "      <td>1739275</td>\n",
       "    </tr>\n",
       "    <tr>\n",
       "      <th>41</th>\n",
       "      <td>2014-06-01</td>\n",
       "      <td>1425950</td>\n",
       "    </tr>\n",
       "    <tr>\n",
       "      <th>42</th>\n",
       "      <td>2014-07-01</td>\n",
       "      <td>1749725</td>\n",
       "    </tr>\n",
       "    <tr>\n",
       "      <th>43</th>\n",
       "      <td>2014-08-01</td>\n",
       "      <td>1050780</td>\n",
       "    </tr>\n",
       "    <tr>\n",
       "      <th>44</th>\n",
       "      <td>2014-09-01</td>\n",
       "      <td>1834710</td>\n",
       "    </tr>\n",
       "    <tr>\n",
       "      <th>45</th>\n",
       "      <td>2014-10-01</td>\n",
       "      <td>1042740</td>\n",
       "    </tr>\n",
       "    <tr>\n",
       "      <th>46</th>\n",
       "      <td>2014-11-01</td>\n",
       "      <td>560910</td>\n",
       "    </tr>\n",
       "    <tr>\n",
       "      <th>47</th>\n",
       "      <td>2014-12-01</td>\n",
       "      <td>332005</td>\n",
       "    </tr>\n",
       "    <tr>\n",
       "      <th>48</th>\n",
       "      <td>2015-01-01</td>\n",
       "      <td>962365</td>\n",
       "    </tr>\n",
       "    <tr>\n",
       "      <th>49</th>\n",
       "      <td>2015-02-01</td>\n",
       "      <td>1446925</td>\n",
       "    </tr>\n",
       "    <tr>\n",
       "      <th>50</th>\n",
       "      <td>2015-03-01</td>\n",
       "      <td>2158875</td>\n",
       "    </tr>\n",
       "    <tr>\n",
       "      <th>51</th>\n",
       "      <td>2015-04-01</td>\n",
       "      <td>2474335</td>\n",
       "    </tr>\n",
       "    <tr>\n",
       "      <th>52</th>\n",
       "      <td>2015-05-01</td>\n",
       "      <td>2307255</td>\n",
       "    </tr>\n",
       "    <tr>\n",
       "      <th>53</th>\n",
       "      <td>2015-06-01</td>\n",
       "      <td>1991445</td>\n",
       "    </tr>\n",
       "    <tr>\n",
       "      <th>54</th>\n",
       "      <td>2015-07-01</td>\n",
       "      <td>1166455</td>\n",
       "    </tr>\n",
       "    <tr>\n",
       "      <th>55</th>\n",
       "      <td>2015-08-01</td>\n",
       "      <td>955090</td>\n",
       "    </tr>\n",
       "    <tr>\n",
       "      <th>56</th>\n",
       "      <td>2015-09-01</td>\n",
       "      <td>767355</td>\n",
       "    </tr>\n",
       "    <tr>\n",
       "      <th>57</th>\n",
       "      <td>2015-10-01</td>\n",
       "      <td>949455</td>\n",
       "    </tr>\n",
       "    <tr>\n",
       "      <th>58</th>\n",
       "      <td>2015-11-01</td>\n",
       "      <td>1065885</td>\n",
       "    </tr>\n",
       "    <tr>\n",
       "      <th>59</th>\n",
       "      <td>2015-12-01</td>\n",
       "      <td>926070</td>\n",
       "    </tr>\n",
       "  </tbody>\n",
       "</table>\n",
       "</div>"
      ]
     },
     "execution_count": 172,
     "metadata": {},
     "output_type": "execute_result"
    }
   ],
   "source": [
    "sales_by_months"
   ]
  },
  {
   "cell_type": "code",
   "execution_count": null,
   "metadata": {},
   "outputs": [],
   "source": []
  }
 ],
 "metadata": {
  "kernelspec": {
   "display_name": "Python 3 (ipykernel)",
   "language": "python",
   "name": "python3"
  },
  "language_info": {
   "codemirror_mode": {
    "name": "ipython",
    "version": 3
   },
   "file_extension": ".py",
   "mimetype": "text/x-python",
   "name": "python",
   "nbconvert_exporter": "python",
   "pygments_lexer": "ipython3",
   "version": "3.9.7"
  }
 },
 "nbformat": 4,
 "nbformat_minor": 1
}