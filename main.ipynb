{
 "cells": [
  {
   "cell_type": "code",
   "execution_count": 1,
   "metadata": {
    "pycharm": {
     "name": "#%%\n"
    }
   },
   "outputs": [],
   "source": [
    "# Core Python Data Analysis\n",
    "from numpy.core.defchararray import index\n",
    "import pandas as pd\n",
    "import numpy as np\n",
    "import matplotlib.pyplot as plt\n",
    "\n",
    "# Plotting\n",
    "from plotnine import (\n",
    "    ggplot, aes,\n",
    "    geom_col, geom_line, geom_smooth,\n",
    "    facet_wrap,\n",
    "    scale_y_continuous, scale_x_datetime,\n",
    "    labs,\n",
    "    theme, theme_minimal, theme_matplotlib,\n",
    "    expand_limits,\n",
    "    element_text\n",
    ")\n",
    "\n",
    "from mizani.breaks import date_breaks\n",
    "from mizani.formatters import date_format, currency_format\n",
    "\n",
    "# Misc\n",
    "from os import mkdir, getcwd\n",
    "\n",
    "from rich import pretty\n",
    "pretty.install()"
   ]
  },
  {
   "cell_type": "code",
   "execution_count": 10,
   "metadata": {
    "pycharm": {
     "name": "#%%\n"
    }
   },
   "outputs": [
    {
     "data": {
      "text/html": "<div>\n<style scoped>\n    .dataframe tbody tr th:only-of-type {\n        vertical-align: middle;\n    }\n\n    .dataframe tbody tr th {\n        vertical-align: top;\n    }\n\n    .dataframe thead th {\n        text-align: right;\n    }\n</style>\n<table border=\"1\" class=\"dataframe\">\n  <thead>\n    <tr style=\"text-align: right;\">\n      <th></th>\n      <th>bike.id</th>\n      <th>model</th>\n      <th>description</th>\n      <th>price</th>\n    </tr>\n  </thead>\n  <tbody>\n    <tr>\n      <th>0</th>\n      <td>1</td>\n      <td>Supersix Evo Black Inc.</td>\n      <td>Road - Elite Road - Carbon</td>\n      <td>12790</td>\n    </tr>\n    <tr>\n      <th>1</th>\n      <td>2</td>\n      <td>Supersix Evo Hi-Mod Team</td>\n      <td>Road - Elite Road - Carbon</td>\n      <td>10660</td>\n    </tr>\n    <tr>\n      <th>2</th>\n      <td>3</td>\n      <td>Supersix Evo Hi-Mod Dura Ace 1</td>\n      <td>Road - Elite Road - Carbon</td>\n      <td>7990</td>\n    </tr>\n    <tr>\n      <th>3</th>\n      <td>4</td>\n      <td>Supersix Evo Hi-Mod Dura Ace 2</td>\n      <td>Road - Elite Road - Carbon</td>\n      <td>5330</td>\n    </tr>\n    <tr>\n      <th>4</th>\n      <td>5</td>\n      <td>Supersix Evo Hi-Mod Utegra</td>\n      <td>Road - Elite Road - Carbon</td>\n      <td>4260</td>\n    </tr>\n    <tr>\n      <th>...</th>\n      <td>...</td>\n      <td>...</td>\n      <td>...</td>\n      <td>...</td>\n    </tr>\n    <tr>\n      <th>92</th>\n      <td>93</td>\n      <td>Trail 5</td>\n      <td>Mountain - Sport - Aluminum</td>\n      <td>815</td>\n    </tr>\n    <tr>\n      <th>93</th>\n      <td>94</td>\n      <td>Catalyst 1</td>\n      <td>Mountain - Sport - Aluminum</td>\n      <td>705</td>\n    </tr>\n    <tr>\n      <th>94</th>\n      <td>95</td>\n      <td>Catalyst 2</td>\n      <td>Mountain - Sport - Aluminum</td>\n      <td>585</td>\n    </tr>\n    <tr>\n      <th>95</th>\n      <td>96</td>\n      <td>Catalyst 3</td>\n      <td>Mountain - Sport - Aluminum</td>\n      <td>480</td>\n    </tr>\n    <tr>\n      <th>96</th>\n      <td>97</td>\n      <td>Catalyst 4</td>\n      <td>Mountain - Sport - Aluminum</td>\n      <td>415</td>\n    </tr>\n  </tbody>\n</table>\n<p>97 rows × 4 columns</p>\n</div>"
     },
     "execution_count": 10,
     "metadata": {},
     "output_type": "execute_result"
    }
   ],
   "source": [
    "# import xlrd\n",
    "\n",
    "# help(pd.read_excel)\n",
    "# files_SPB_new = xlrd.open_workbook(r'bikes.xlsx')\n",
    "pd.read_excel(\"bikes.xlsx\")"
   ]
  },
  {
   "cell_type": "code",
   "execution_count": null,
   "metadata": {},
   "outputs": [],
   "source": []
  }
 ],
 "metadata": {
  "kernelspec": {
   "display_name": "Python 3 (ipykernel)",
   "language": "python",
   "name": "python3"
  },
  "language_info": {
   "codemirror_mode": {
    "name": "ipython",
    "version": 3
   },
   "file_extension": ".py",
   "mimetype": "text/x-python",
   "name": "python",
   "nbconvert_exporter": "python",
   "pygments_lexer": "ipython3",
   "version": "3.8.10"
  }
 },
 "nbformat": 4,
 "nbformat_minor": 1
}