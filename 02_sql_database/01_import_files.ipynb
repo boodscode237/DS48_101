{
 "cells": [
  {
   "cell_type": "markdown",
   "id": "a57ec8d2",
   "metadata": {},
   "source": [
    "# Module 2 (Pandas Import): Importing Files ----"
   ]
  },
  {
   "cell_type": "code",
   "execution_count": 1,
   "id": "512058f9",
   "metadata": {},
   "outputs": [],
   "source": [
    "# IMPORTS ----\n",
    "\n",
    "import pandas as pd"
   ]
  },
  {
   "cell_type": "code",
   "execution_count": null,
   "outputs": [],
   "source": [
    "# 1.0 FILES ----\n",
    "\n",
    "# - Pickle ----\n",
    "\n",
    "df = pd.read_pickle('../00_data_wrangled/bike_orderlines_wrangled_df.pkl')\n",
    "df"
   ],
   "metadata": {
    "collapsed": false,
    "pycharm": {
     "name": "#%%\n"
    }
   }
  },
  {
   "cell_type": "code",
   "execution_count": null,
   "outputs": [],
   "source": [
    "\n",
    "# - CSV ----\n",
    "csv_df = pd.read_csv('../00_data_wrangled/bike_orderlines_wrangled_df.csv', parse_dates=['order_date'])\n",
    "\n",
    "csv_df.info()"
   ],
   "metadata": {
    "collapsed": false,
    "pycharm": {
     "name": "#%%\n"
    }
   }
  },
  {
   "cell_type": "code",
   "execution_count": null,
   "outputs": [],
   "source": [],
   "metadata": {
    "collapsed": false,
    "pycharm": {
     "name": "#%%\n"
    }
   }
  },
  {
   "cell_type": "code",
   "execution_count": null,
   "id": "33e22780",
   "metadata": {},
   "outputs": [],
   "source": []
  }
 ],
 "metadata": {
  "kernelspec": {
   "display_name": "Python 3 (ipykernel)",
   "language": "python",
   "name": "python3"
  },
  "language_info": {
   "codemirror_mode": {
    "name": "ipython",
    "version": 3
   },
   "file_extension": ".py",
   "mimetype": "text/x-python",
   "name": "python",
   "nbconvert_exporter": "python",
   "pygments_lexer": "ipython3",
   "version": "3.9.7"
  }
 },
 "nbformat": 4,
 "nbformat_minor": 5
}